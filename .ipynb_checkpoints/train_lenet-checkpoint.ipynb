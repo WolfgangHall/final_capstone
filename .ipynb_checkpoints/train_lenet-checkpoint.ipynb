{
 "cells": [
  {
   "cell_type": "code",
   "execution_count": 1,
   "metadata": {
    "collapsed": false
   },
   "outputs": [],
   "source": [
    "import matplotlib\n",
    "matplotlib.use('Agg')"
   ]
  },
  {
   "cell_type": "code",
   "execution_count": 2,
   "metadata": {
    "collapsed": false
   },
   "outputs": [
    {
     "name": "stderr",
     "output_type": "stream",
     "text": [
      "Using TensorFlow backend.\n"
     ]
    }
   ],
   "source": [
    "from keras.preprocessing.image import ImageDataGenerator, img_to_array\n",
    "from keras.optimizers import Adam\n",
    "from keras.utils import to_categorical\n",
    "from sklearn.model_selection import train_test_split\n",
    "import numpy as np\n",
    "import random\n",
    "import cv2\n",
    "import os\n",
    "import argparse\n",
    "from imutils import paths\n",
    "import matplotlib.pyplot as plt"
   ]
  },
  {
   "cell_type": "code",
   "execution_count": 53,
   "metadata": {
    "collapsed": true
   },
   "outputs": [],
   "source": [
    "from glob import glob"
   ]
  },
  {
   "cell_type": "code",
   "execution_count": 21,
   "metadata": {
    "collapsed": false,
    "scrolled": true
   },
   "outputs": [
    {
     "data": {
      "text/plain": [
       "{'cells': [{'cell_type': 'code',\n",
       "   'execution_count': 3,\n",
       "   'metadata': {'collapsed': False},\n",
       "   'outputs': [],\n",
       "   'source': ['from keras.models import Sequential\\n',\n",
       "    'from keras.layers.convolutional import Conv2D, MaxPooling2D\\n',\n",
       "    'from keras.layers.core import Activation, Flatten, Dense\\n',\n",
       "    'from keras import backend as K']},\n",
       "  {'cell_type': 'code',\n",
       "   'execution_count': 6,\n",
       "   'metadata': {'collapsed': False},\n",
       "   'outputs': [],\n",
       "   'source': ['class LeNet:\\n',\n",
       "    '    \\n',\n",
       "    '    def build(width, height, depth, classes):\\n',\n",
       "    '        # initialize the model\\n',\n",
       "    '        model = Sequential()\\n',\n",
       "    '        inputShape = (height, width, depth)\\n',\n",
       "    '        \\n',\n",
       "    \"        # if using 'channels first' update input shape\\n\",\n",
       "    '        if K.image_data_format() == \"channels_first\":\\n',\n",
       "    '            inputShape = (depth, height, width)\\n',\n",
       "    '            \\n',\n",
       "    '        # first set of CONV -> ReLU -> POOL\\n',\n",
       "    \"        model.add(Conv2D(20, (5,5), padding='same', input_shape=inputShape))\\n\",\n",
       "    '        model.add(Activation(\"relu\"))\\n',\n",
       "    '        model.add(MaxPooling2D(pool_size=(2,2), strides=(2,2)))\\n',\n",
       "    '        \\n',\n",
       "    '        # second set\\n',\n",
       "    \"        model.add(Conv2D(50, (5,5), padding='same'))\\n\",\n",
       "    '        model.add(Activation(\"relu\"))\\n',\n",
       "    '        model.add(MaxPooling2D(pool_size=(2,2), strides=(2,2)))\\n',\n",
       "    '        \\n',\n",
       "    '        # FC -> ReLU\\n',\n",
       "    '        model.add(Flatten())\\n',\n",
       "    '        model.add(Dense(500))\\n',\n",
       "    '        model.add(Activation(\"relu\"))\\n',\n",
       "    '        \\n',\n",
       "    '        # Softmax classifier\\n',\n",
       "    '        model.add(Dense(classes))\\n',\n",
       "    '        model.add(Activation(\"softmax\"))\\n',\n",
       "    '        \\n',\n",
       "    '        # return network architecture\\n',\n",
       "    '        return model']},\n",
       "  {'cell_type': 'code',\n",
       "   'execution_count': None,\n",
       "   'metadata': {'collapsed': True},\n",
       "   'outputs': [],\n",
       "   'source': ['\\n']}],\n",
       " 'metadata': {'kernelspec': {'display_name': 'Python 3',\n",
       "   'language': 'python',\n",
       "   'name': 'python3'},\n",
       "  'language_info': {'codemirror_mode': {'name': 'ipython', 'version': 3},\n",
       "   'file_extension': '.py',\n",
       "   'mimetype': 'text/x-python',\n",
       "   'name': 'python',\n",
       "   'nbconvert_exporter': 'python',\n",
       "   'pygments_lexer': 'ipython3',\n",
       "   'version': '3.6.0'}},\n",
       " 'nbformat': 4,\n",
       " 'nbformat_minor': 2}"
      ]
     },
     "execution_count": 21,
     "metadata": {},
     "output_type": "execute_result"
    }
   ],
   "source": [
    "%run lenet.ipynb\n",
    "{\n",
    " \"cells\": [\n",
    "  {\n",
    "   \"cell_type\": \"code\",\n",
    "   \"execution_count\": 3,\n",
    "   \"metadata\": {\n",
    "    \"collapsed\": False\n",
    "   },\n",
    "   \"outputs\": [],\n",
    "   \"source\": [\n",
    "    \"from keras.models import Sequential\\n\",\n",
    "    \"from keras.layers.convolutional import Conv2D, MaxPooling2D\\n\",\n",
    "    \"from keras.layers.core import Activation, Flatten, Dense\\n\",\n",
    "    \"from keras import backend as K\"\n",
    "   ]\n",
    "  },\n",
    "  {\n",
    "   \"cell_type\": \"code\",\n",
    "   \"execution_count\": 6,\n",
    "   \"metadata\": {\n",
    "    \"collapsed\": False\n",
    "   },\n",
    "   \"outputs\": [],\n",
    "   \"source\": [\n",
    "    \"class LeNet:\\n\",\n",
    "    \"    \\n\",\n",
    "    \"    def build(width, height, depth, classes):\\n\",\n",
    "    \"        # initialize the model\\n\",\n",
    "    \"        model = Sequential()\\n\",\n",
    "    \"        inputShape = (height, width, depth)\\n\",\n",
    "    \"        \\n\",\n",
    "    \"        # if using 'channels first' update input shape\\n\",\n",
    "    \"        if K.image_data_format() == \\\"channels_first\\\":\\n\",\n",
    "    \"            inputShape = (depth, height, width)\\n\",\n",
    "    \"            \\n\",\n",
    "    \"        # first set of CONV -> ReLU -> POOL\\n\",\n",
    "    \"        model.add(Conv2D(20, (5,5), padding='same', input_shape=inputShape))\\n\",\n",
    "    \"        model.add(Activation(\\\"relu\\\"))\\n\",\n",
    "    \"        model.add(MaxPooling2D(pool_size=(2,2), strides=(2,2)))\\n\",\n",
    "    \"        \\n\",\n",
    "    \"        # second set\\n\",\n",
    "    \"        model.add(Conv2D(50, (5,5), padding='same'))\\n\",\n",
    "    \"        model.add(Activation(\\\"relu\\\"))\\n\",\n",
    "    \"        model.add(MaxPooling2D(pool_size=(2,2), strides=(2,2)))\\n\",\n",
    "    \"        \\n\",\n",
    "    \"        # FC -> ReLU\\n\",\n",
    "    \"        model.add(Flatten())\\n\",\n",
    "    \"        model.add(Dense(500))\\n\",\n",
    "    \"        model.add(Activation(\\\"relu\\\"))\\n\",\n",
    "    \"        \\n\",\n",
    "    \"        # Softmax classifier\\n\",\n",
    "    \"        model.add(Dense(classes))\\n\",\n",
    "    \"        model.add(Activation(\\\"softmax\\\"))\\n\",\n",
    "    \"        \\n\",\n",
    "    \"        # return network architecture\\n\",\n",
    "    \"        return model\"\n",
    "   ]\n",
    "  },\n",
    "  {\n",
    "   \"cell_type\": \"code\",\n",
    "   \"execution_count\": None,\n",
    "   \"metadata\": {\n",
    "    \"collapsed\": True\n",
    "   },\n",
    "   \"outputs\": [],\n",
    "   \"source\": [\n",
    "    \"\\n\"\n",
    "   ]\n",
    "  }\n",
    " ],\n",
    " \"metadata\": {\n",
    "  \"kernelspec\": {\n",
    "   \"display_name\": \"Python 3\",\n",
    "   \"language\": \"python\",\n",
    "   \"name\": \"python3\"\n",
    "  },\n",
    "  \"language_info\": {\n",
    "   \"codemirror_mode\": {\n",
    "    \"name\": \"ipython\",\n",
    "    \"version\": 3\n",
    "   },\n",
    "   \"file_extension\": \".py\",\n",
    "   \"mimetype\": \"text/x-python\",\n",
    "   \"name\": \"python\",\n",
    "   \"nbconvert_exporter\": \"python\",\n",
    "   \"pygments_lexer\": \"ipython3\",\n",
    "   \"version\": \"3.6.0\"\n",
    "  }\n",
    " },\n",
    " \"nbformat\": 4,\n",
    " \"nbformat_minor\": 2\n",
    "}\n"
   ]
  },
  {
   "cell_type": "code",
   "execution_count": 40,
   "metadata": {
    "collapsed": true
   },
   "outputs": [],
   "source": [
    "# number of epochs, learning rate, batch size\n",
    "EPOCHS = 25\n",
    "INIT_LR = 1e-3\n",
    "BS = 32"
   ]
  },
  {
   "cell_type": "code",
   "execution_count": 189,
   "metadata": {
    "collapsed": false
   },
   "outputs": [],
   "source": [
    "# initialize the data and labels\n",
    "data = []\n",
    "labels = []"
   ]
  },
  {
   "cell_type": "code",
   "execution_count": 159,
   "metadata": {
    "collapsed": false
   },
   "outputs": [],
   "source": [
    "basepath = os.path.join('..', 'train\\\\')"
   ]
  },
  {
   "cell_type": "code",
   "execution_count": 160,
   "metadata": {
    "collapsed": false
   },
   "outputs": [
    {
     "data": {
      "text/plain": [
       "'..\\\\train\\\\'"
      ]
     },
     "execution_count": 160,
     "metadata": {},
     "output_type": "execute_result"
    }
   ],
   "source": [
    "basepath"
   ]
  },
  {
   "cell_type": "code",
   "execution_count": 182,
   "metadata": {
    "collapsed": false
   },
   "outputs": [
    {
     "name": "stdout",
     "output_type": "stream",
     "text": [
      "['..\\\\train\\\\..\\\\train\\\\Type_1\\\\0.jpg', '..\\\\train\\\\..\\\\train\\\\Type_1\\\\10.jpg', '..\\\\train\\\\..\\\\train\\\\Type_1\\\\1013.jpg', '..\\\\train\\\\..\\\\train\\\\Type_1\\\\1014.jpg', '..\\\\train\\\\..\\\\train\\\\Type_1\\\\1019.jpg', '..\\\\train\\\\..\\\\train\\\\Type_1\\\\102.jpg', '..\\\\train\\\\..\\\\train\\\\Type_1\\\\1023.jpg', '..\\\\train\\\\..\\\\train\\\\Type_1\\\\1024.jpg', '..\\\\train\\\\..\\\\train\\\\Type_1\\\\1026.jpg', '..\\\\train\\\\..\\\\train\\\\Type_1\\\\1027.jpg', '..\\\\train\\\\..\\\\train\\\\Type_1\\\\1033.jpg', '..\\\\train\\\\..\\\\train\\\\Type_1\\\\104.jpg', '..\\\\train\\\\..\\\\train\\\\Type_1\\\\1040.jpg', '..\\\\train\\\\..\\\\train\\\\Type_1\\\\1056.jpg', '..\\\\train\\\\..\\\\train\\\\Type_1\\\\1059.jpg', '..\\\\train\\\\..\\\\train\\\\Type_1\\\\1061.jpg', '..\\\\train\\\\..\\\\train\\\\Type_1\\\\1070.jpg', '..\\\\train\\\\..\\\\train\\\\Type_1\\\\1071.jpg', '..\\\\train\\\\..\\\\train\\\\Type_1\\\\1077.jpg', '..\\\\train\\\\..\\\\train\\\\Type_1\\\\1079.jpg', '..\\\\train\\\\..\\\\train\\\\Type_1\\\\109.jpg', '..\\\\train\\\\..\\\\train\\\\Type_1\\\\1093.jpg', '..\\\\train\\\\..\\\\train\\\\Type_1\\\\1100.jpg', '..\\\\train\\\\..\\\\train\\\\Type_1\\\\1105.jpg', '..\\\\train\\\\..\\\\train\\\\Type_1\\\\1123.jpg', '..\\\\train\\\\..\\\\train\\\\Type_1\\\\1131.jpg', '..\\\\train\\\\..\\\\train\\\\Type_1\\\\1134.jpg', '..\\\\train\\\\..\\\\train\\\\Type_1\\\\1136.jpg', '..\\\\train\\\\..\\\\train\\\\Type_1\\\\1139.jpg', '..\\\\train\\\\..\\\\train\\\\Type_1\\\\1154.jpg', '..\\\\train\\\\..\\\\train\\\\Type_1\\\\1161.jpg', '..\\\\train\\\\..\\\\train\\\\Type_1\\\\1168.jpg', '..\\\\train\\\\..\\\\train\\\\Type_1\\\\1174.jpg', '..\\\\train\\\\..\\\\train\\\\Type_1\\\\1179.jpg', '..\\\\train\\\\..\\\\train\\\\Type_1\\\\1190.jpg', '..\\\\train\\\\..\\\\train\\\\Type_1\\\\1194.jpg', '..\\\\train\\\\..\\\\train\\\\Type_1\\\\1199.jpg', '..\\\\train\\\\..\\\\train\\\\Type_1\\\\12.jpg', '..\\\\train\\\\..\\\\train\\\\Type_1\\\\1202.jpg', '..\\\\train\\\\..\\\\train\\\\Type_1\\\\1204.jpg', '..\\\\train\\\\..\\\\train\\\\Type_1\\\\1220.jpg', '..\\\\train\\\\..\\\\train\\\\Type_1\\\\1223.jpg', '..\\\\train\\\\..\\\\train\\\\Type_1\\\\1226.jpg', '..\\\\train\\\\..\\\\train\\\\Type_1\\\\1229.jpg', '..\\\\train\\\\..\\\\train\\\\Type_1\\\\1230.jpg', '..\\\\train\\\\..\\\\train\\\\Type_1\\\\1239.jpg', '..\\\\train\\\\..\\\\train\\\\Type_1\\\\1245.jpg', '..\\\\train\\\\..\\\\train\\\\Type_1\\\\1251.jpg', '..\\\\train\\\\..\\\\train\\\\Type_1\\\\1273.jpg', '..\\\\train\\\\..\\\\train\\\\Type_1\\\\1274.jpg', '..\\\\train\\\\..\\\\train\\\\Type_1\\\\1279.jpg', '..\\\\train\\\\..\\\\train\\\\Type_1\\\\1281.jpg', '..\\\\train\\\\..\\\\train\\\\Type_1\\\\1285.jpg', '..\\\\train\\\\..\\\\train\\\\Type_1\\\\1288.jpg', '..\\\\train\\\\..\\\\train\\\\Type_1\\\\1289.jpg', '..\\\\train\\\\..\\\\train\\\\Type_1\\\\129.jpg', '..\\\\train\\\\..\\\\train\\\\Type_1\\\\13.jpg', '..\\\\train\\\\..\\\\train\\\\Type_1\\\\1308.jpg', '..\\\\train\\\\..\\\\train\\\\Type_1\\\\1314.jpg', '..\\\\train\\\\..\\\\train\\\\Type_1\\\\1320.jpg', '..\\\\train\\\\..\\\\train\\\\Type_1\\\\1324.jpg', '..\\\\train\\\\..\\\\train\\\\Type_1\\\\1326.jpg', '..\\\\train\\\\..\\\\train\\\\Type_1\\\\1336.jpg', '..\\\\train\\\\..\\\\train\\\\Type_1\\\\1344.jpg', '..\\\\train\\\\..\\\\train\\\\Type_1\\\\1346.jpg', '..\\\\train\\\\..\\\\train\\\\Type_1\\\\1370.jpg', '..\\\\train\\\\..\\\\train\\\\Type_1\\\\138.jpg', '..\\\\train\\\\..\\\\train\\\\Type_1\\\\1384.jpg', '..\\\\train\\\\..\\\\train\\\\Type_1\\\\1389.jpg', '..\\\\train\\\\..\\\\train\\\\Type_1\\\\139.jpg', '..\\\\train\\\\..\\\\train\\\\Type_1\\\\1390.jpg', '..\\\\train\\\\..\\\\train\\\\Type_1\\\\1393.jpg', '..\\\\train\\\\..\\\\train\\\\Type_1\\\\14.jpg', '..\\\\train\\\\..\\\\train\\\\Type_1\\\\1414.jpg', '..\\\\train\\\\..\\\\train\\\\Type_1\\\\142.jpg', '..\\\\train\\\\..\\\\train\\\\Type_1\\\\1422.jpg', '..\\\\train\\\\..\\\\train\\\\Type_1\\\\1427.jpg', '..\\\\train\\\\..\\\\train\\\\Type_1\\\\1430.jpg', '..\\\\train\\\\..\\\\train\\\\Type_1\\\\1437.jpg', '..\\\\train\\\\..\\\\train\\\\Type_1\\\\144.jpg', '..\\\\train\\\\..\\\\train\\\\Type_1\\\\1440.jpg', '..\\\\train\\\\..\\\\train\\\\Type_1\\\\1456.jpg', '..\\\\train\\\\..\\\\train\\\\Type_1\\\\1464.jpg', '..\\\\train\\\\..\\\\train\\\\Type_1\\\\1468.jpg', '..\\\\train\\\\..\\\\train\\\\Type_1\\\\1473.jpg', '..\\\\train\\\\..\\\\train\\\\Type_1\\\\148.jpg', '..\\\\train\\\\..\\\\train\\\\Type_1\\\\160.jpg', '..\\\\train\\\\..\\\\train\\\\Type_1\\\\171.jpg', '..\\\\train\\\\..\\\\train\\\\Type_1\\\\176.jpg', '..\\\\train\\\\..\\\\train\\\\Type_1\\\\180.jpg', '..\\\\train\\\\..\\\\train\\\\Type_1\\\\181.jpg', '..\\\\train\\\\..\\\\train\\\\Type_1\\\\191.jpg', '..\\\\train\\\\..\\\\train\\\\Type_1\\\\201.jpg', '..\\\\train\\\\..\\\\train\\\\Type_1\\\\205.jpg', '..\\\\train\\\\..\\\\train\\\\Type_1\\\\208.jpg', '..\\\\train\\\\..\\\\train\\\\Type_1\\\\215.jpg', '..\\\\train\\\\..\\\\train\\\\Type_1\\\\218.jpg', '..\\\\train\\\\..\\\\train\\\\Type_1\\\\229.jpg', '..\\\\train\\\\..\\\\train\\\\Type_1\\\\230.jpg', '..\\\\train\\\\..\\\\train\\\\Type_1\\\\237.jpg', '..\\\\train\\\\..\\\\train\\\\Type_1\\\\239.jpg', '..\\\\train\\\\..\\\\train\\\\Type_1\\\\245.jpg', '..\\\\train\\\\..\\\\train\\\\Type_1\\\\248.jpg', '..\\\\train\\\\..\\\\train\\\\Type_1\\\\252.jpg', '..\\\\train\\\\..\\\\train\\\\Type_1\\\\254.jpg', '..\\\\train\\\\..\\\\train\\\\Type_1\\\\262.jpg', '..\\\\train\\\\..\\\\train\\\\Type_1\\\\265.jpg', '..\\\\train\\\\..\\\\train\\\\Type_1\\\\267.jpg', '..\\\\train\\\\..\\\\train\\\\Type_1\\\\27.jpg', '..\\\\train\\\\..\\\\train\\\\Type_1\\\\281.jpg', '..\\\\train\\\\..\\\\train\\\\Type_1\\\\294.jpg', '..\\\\train\\\\..\\\\train\\\\Type_1\\\\298.jpg', '..\\\\train\\\\..\\\\train\\\\Type_1\\\\306.jpg', '..\\\\train\\\\..\\\\train\\\\Type_1\\\\308.jpg', '..\\\\train\\\\..\\\\train\\\\Type_1\\\\311.jpg', '..\\\\train\\\\..\\\\train\\\\Type_1\\\\333.jpg', '..\\\\train\\\\..\\\\train\\\\Type_1\\\\334.jpg', '..\\\\train\\\\..\\\\train\\\\Type_1\\\\338.jpg', '..\\\\train\\\\..\\\\train\\\\Type_1\\\\34.jpg', '..\\\\train\\\\..\\\\train\\\\Type_1\\\\342.jpg', '..\\\\train\\\\..\\\\train\\\\Type_1\\\\346.jpg', '..\\\\train\\\\..\\\\train\\\\Type_1\\\\349.jpg', '..\\\\train\\\\..\\\\train\\\\Type_1\\\\35.jpg', '..\\\\train\\\\..\\\\train\\\\Type_1\\\\356.jpg', '..\\\\train\\\\..\\\\train\\\\Type_1\\\\376.jpg', '..\\\\train\\\\..\\\\train\\\\Type_1\\\\379.jpg', '..\\\\train\\\\..\\\\train\\\\Type_1\\\\383.jpg', '..\\\\train\\\\..\\\\train\\\\Type_1\\\\384.jpg', '..\\\\train\\\\..\\\\train\\\\Type_1\\\\387.jpg', '..\\\\train\\\\..\\\\train\\\\Type_1\\\\396.jpg', '..\\\\train\\\\..\\\\train\\\\Type_1\\\\401.jpg', '..\\\\train\\\\..\\\\train\\\\Type_1\\\\41.jpg', '..\\\\train\\\\..\\\\train\\\\Type_1\\\\416.jpg', '..\\\\train\\\\..\\\\train\\\\Type_1\\\\421.jpg', '..\\\\train\\\\..\\\\train\\\\Type_1\\\\425.jpg', '..\\\\train\\\\..\\\\train\\\\Type_1\\\\434.jpg', '..\\\\train\\\\..\\\\train\\\\Type_1\\\\441.jpg', '..\\\\train\\\\..\\\\train\\\\Type_1\\\\446.jpg', '..\\\\train\\\\..\\\\train\\\\Type_1\\\\454.jpg', '..\\\\train\\\\..\\\\train\\\\Type_1\\\\463.jpg', '..\\\\train\\\\..\\\\train\\\\Type_1\\\\469.jpg', '..\\\\train\\\\..\\\\train\\\\Type_1\\\\47.jpg', '..\\\\train\\\\..\\\\train\\\\Type_1\\\\470.jpg', '..\\\\train\\\\..\\\\train\\\\Type_1\\\\471.jpg', '..\\\\train\\\\..\\\\train\\\\Type_1\\\\478.jpg', '..\\\\train\\\\..\\\\train\\\\Type_1\\\\48.jpg', '..\\\\train\\\\..\\\\train\\\\Type_1\\\\481.jpg', '..\\\\train\\\\..\\\\train\\\\Type_1\\\\484.jpg', '..\\\\train\\\\..\\\\train\\\\Type_1\\\\497.jpg', '..\\\\train\\\\..\\\\train\\\\Type_1\\\\513.jpg', '..\\\\train\\\\..\\\\train\\\\Type_1\\\\516.jpg', '..\\\\train\\\\..\\\\train\\\\Type_1\\\\518.jpg', '..\\\\train\\\\..\\\\train\\\\Type_1\\\\523.jpg', '..\\\\train\\\\..\\\\train\\\\Type_1\\\\531.jpg', '..\\\\train\\\\..\\\\train\\\\Type_1\\\\532.jpg', '..\\\\train\\\\..\\\\train\\\\Type_1\\\\536.jpg', '..\\\\train\\\\..\\\\train\\\\Type_1\\\\539.jpg', '..\\\\train\\\\..\\\\train\\\\Type_1\\\\55.jpg', '..\\\\train\\\\..\\\\train\\\\Type_1\\\\550.jpg', '..\\\\train\\\\..\\\\train\\\\Type_1\\\\551.jpg', '..\\\\train\\\\..\\\\train\\\\Type_1\\\\553.jpg', '..\\\\train\\\\..\\\\train\\\\Type_1\\\\558.jpg', '..\\\\train\\\\..\\\\train\\\\Type_1\\\\560.jpg', '..\\\\train\\\\..\\\\train\\\\Type_1\\\\562.jpg', '..\\\\train\\\\..\\\\train\\\\Type_1\\\\57.jpg', '..\\\\train\\\\..\\\\train\\\\Type_1\\\\576.jpg', '..\\\\train\\\\..\\\\train\\\\Type_1\\\\578.jpg', '..\\\\train\\\\..\\\\train\\\\Type_1\\\\579.jpg', '..\\\\train\\\\..\\\\train\\\\Type_1\\\\580.jpg', '..\\\\train\\\\..\\\\train\\\\Type_1\\\\582.jpg', '..\\\\train\\\\..\\\\train\\\\Type_1\\\\583.jpg', '..\\\\train\\\\..\\\\train\\\\Type_1\\\\593.jpg', '..\\\\train\\\\..\\\\train\\\\Type_1\\\\596.jpg', '..\\\\train\\\\..\\\\train\\\\Type_1\\\\605.jpg', '..\\\\train\\\\..\\\\train\\\\Type_1\\\\619.jpg', '..\\\\train\\\\..\\\\train\\\\Type_1\\\\620.jpg', '..\\\\train\\\\..\\\\train\\\\Type_1\\\\623.jpg', '..\\\\train\\\\..\\\\train\\\\Type_1\\\\624.jpg', '..\\\\train\\\\..\\\\train\\\\Type_1\\\\641.jpg', '..\\\\train\\\\..\\\\train\\\\Type_1\\\\643.jpg', '..\\\\train\\\\..\\\\train\\\\Type_1\\\\645.jpg', '..\\\\train\\\\..\\\\train\\\\Type_1\\\\649.jpg', '..\\\\train\\\\..\\\\train\\\\Type_1\\\\653.jpg', '..\\\\train\\\\..\\\\train\\\\Type_1\\\\660.jpg', '..\\\\train\\\\..\\\\train\\\\Type_1\\\\663.jpg', '..\\\\train\\\\..\\\\train\\\\Type_1\\\\667.jpg', '..\\\\train\\\\..\\\\train\\\\Type_1\\\\668.jpg', '..\\\\train\\\\..\\\\train\\\\Type_1\\\\677.jpg', '..\\\\train\\\\..\\\\train\\\\Type_1\\\\683.jpg', '..\\\\train\\\\..\\\\train\\\\Type_1\\\\685.jpg', '..\\\\train\\\\..\\\\train\\\\Type_1\\\\7.jpg', '..\\\\train\\\\..\\\\train\\\\Type_1\\\\700.jpg', '..\\\\train\\\\..\\\\train\\\\Type_1\\\\708.jpg', '..\\\\train\\\\..\\\\train\\\\Type_1\\\\709.jpg', '..\\\\train\\\\..\\\\train\\\\Type_1\\\\710.jpg', '..\\\\train\\\\..\\\\train\\\\Type_1\\\\713.jpg', '..\\\\train\\\\..\\\\train\\\\Type_1\\\\725.jpg', '..\\\\train\\\\..\\\\train\\\\Type_1\\\\727.jpg', '..\\\\train\\\\..\\\\train\\\\Type_1\\\\732.jpg', '..\\\\train\\\\..\\\\train\\\\Type_1\\\\739.jpg', '..\\\\train\\\\..\\\\train\\\\Type_1\\\\745.jpg', '..\\\\train\\\\..\\\\train\\\\Type_1\\\\751.jpg', '..\\\\train\\\\..\\\\train\\\\Type_1\\\\759.jpg', '..\\\\train\\\\..\\\\train\\\\Type_1\\\\763.jpg', '..\\\\train\\\\..\\\\train\\\\Type_1\\\\764.jpg', '..\\\\train\\\\..\\\\train\\\\Type_1\\\\765.jpg', '..\\\\train\\\\..\\\\train\\\\Type_1\\\\769.jpg', '..\\\\train\\\\..\\\\train\\\\Type_1\\\\779.jpg', '..\\\\train\\\\..\\\\train\\\\Type_1\\\\783.jpg', '..\\\\train\\\\..\\\\train\\\\Type_1\\\\787.jpg', '..\\\\train\\\\..\\\\train\\\\Type_1\\\\791.jpg', '..\\\\train\\\\..\\\\train\\\\Type_1\\\\802.jpg', '..\\\\train\\\\..\\\\train\\\\Type_1\\\\805.jpg', '..\\\\train\\\\..\\\\train\\\\Type_1\\\\809.jpg', '..\\\\train\\\\..\\\\train\\\\Type_1\\\\81.jpg', '..\\\\train\\\\..\\\\train\\\\Type_1\\\\810.jpg', '..\\\\train\\\\..\\\\train\\\\Type_1\\\\814.jpg', '..\\\\train\\\\..\\\\train\\\\Type_1\\\\817.jpg', '..\\\\train\\\\..\\\\train\\\\Type_1\\\\821.jpg', '..\\\\train\\\\..\\\\train\\\\Type_1\\\\833.jpg', '..\\\\train\\\\..\\\\train\\\\Type_1\\\\836.jpg', '..\\\\train\\\\..\\\\train\\\\Type_1\\\\842.jpg', '..\\\\train\\\\..\\\\train\\\\Type_1\\\\846.jpg', '..\\\\train\\\\..\\\\train\\\\Type_1\\\\855.jpg', '..\\\\train\\\\..\\\\train\\\\Type_1\\\\873.jpg', '..\\\\train\\\\..\\\\train\\\\Type_1\\\\879.jpg', '..\\\\train\\\\..\\\\train\\\\Type_1\\\\880.jpg', '..\\\\train\\\\..\\\\train\\\\Type_1\\\\887.jpg', '..\\\\train\\\\..\\\\train\\\\Type_1\\\\889.jpg', '..\\\\train\\\\..\\\\train\\\\Type_1\\\\890.jpg', '..\\\\train\\\\..\\\\train\\\\Type_1\\\\891.jpg', '..\\\\train\\\\..\\\\train\\\\Type_1\\\\895.jpg', '..\\\\train\\\\..\\\\train\\\\Type_1\\\\901.jpg', '..\\\\train\\\\..\\\\train\\\\Type_1\\\\906.jpg', '..\\\\train\\\\..\\\\train\\\\Type_1\\\\908.jpg', '..\\\\train\\\\..\\\\train\\\\Type_1\\\\917.jpg', '..\\\\train\\\\..\\\\train\\\\Type_1\\\\918.jpg', '..\\\\train\\\\..\\\\train\\\\Type_1\\\\920.jpg', '..\\\\train\\\\..\\\\train\\\\Type_1\\\\921.jpg', '..\\\\train\\\\..\\\\train\\\\Type_1\\\\928.jpg', '..\\\\train\\\\..\\\\train\\\\Type_1\\\\930.jpg', '..\\\\train\\\\..\\\\train\\\\Type_1\\\\96.jpg', '..\\\\train\\\\..\\\\train\\\\Type_1\\\\965.jpg', '..\\\\train\\\\..\\\\train\\\\Type_1\\\\972.jpg', '..\\\\train\\\\..\\\\train\\\\Type_1\\\\977.jpg', '..\\\\train\\\\..\\\\train\\\\Type_1\\\\982.jpg', '..\\\\train\\\\..\\\\train\\\\Type_1\\\\984.jpg', '..\\\\train\\\\..\\\\train\\\\Type_1\\\\991.jpg', '..\\\\train\\\\..\\\\train\\\\Type_1\\\\998.jpg', '..\\\\train\\\\..\\\\train\\\\Type_2\\\\1.jpg', '..\\\\train\\\\..\\\\train\\\\Type_2\\\\100.jpg', '..\\\\train\\\\..\\\\train\\\\Type_2\\\\1001.jpg', '..\\\\train\\\\..\\\\train\\\\Type_2\\\\1002.jpg', '..\\\\train\\\\..\\\\train\\\\Type_2\\\\1005.jpg', '..\\\\train\\\\..\\\\train\\\\Type_2\\\\1006.jpg', '..\\\\train\\\\..\\\\train\\\\Type_2\\\\101.jpg', '..\\\\train\\\\..\\\\train\\\\Type_2\\\\1010.jpg', '..\\\\train\\\\..\\\\train\\\\Type_2\\\\1011.jpg', '..\\\\train\\\\..\\\\train\\\\Type_2\\\\1012.jpg', '..\\\\train\\\\..\\\\train\\\\Type_2\\\\1016.jpg', '..\\\\train\\\\..\\\\train\\\\Type_2\\\\1017.jpg', '..\\\\train\\\\..\\\\train\\\\Type_2\\\\1018.jpg', '..\\\\train\\\\..\\\\train\\\\Type_2\\\\1021.jpg', '..\\\\train\\\\..\\\\train\\\\Type_2\\\\1022.jpg', '..\\\\train\\\\..\\\\train\\\\Type_2\\\\1025.jpg', '..\\\\train\\\\..\\\\train\\\\Type_2\\\\103.jpg', '..\\\\train\\\\..\\\\train\\\\Type_2\\\\1032.jpg', '..\\\\train\\\\..\\\\train\\\\Type_2\\\\1035.jpg', '..\\\\train\\\\..\\\\train\\\\Type_2\\\\1036.jpg', '..\\\\train\\\\..\\\\train\\\\Type_2\\\\1038.jpg', '..\\\\train\\\\..\\\\train\\\\Type_2\\\\1039.jpg', '..\\\\train\\\\..\\\\train\\\\Type_2\\\\1042.jpg', '..\\\\train\\\\..\\\\train\\\\Type_2\\\\1043.jpg', '..\\\\train\\\\..\\\\train\\\\Type_2\\\\1044.jpg', '..\\\\train\\\\..\\\\train\\\\Type_2\\\\1046.jpg', '..\\\\train\\\\..\\\\train\\\\Type_2\\\\1047.jpg', '..\\\\train\\\\..\\\\train\\\\Type_2\\\\1049.jpg', '..\\\\train\\\\..\\\\train\\\\Type_2\\\\105.jpg', '..\\\\train\\\\..\\\\train\\\\Type_2\\\\1050.jpg', '..\\\\train\\\\..\\\\train\\\\Type_2\\\\1051.jpg', '..\\\\train\\\\..\\\\train\\\\Type_2\\\\1054.jpg', '..\\\\train\\\\..\\\\train\\\\Type_2\\\\1055.jpg', '..\\\\train\\\\..\\\\train\\\\Type_2\\\\1057.jpg', '..\\\\train\\\\..\\\\train\\\\Type_2\\\\1058.jpg', '..\\\\train\\\\..\\\\train\\\\Type_2\\\\1065.jpg', '..\\\\train\\\\..\\\\train\\\\Type_2\\\\1066.jpg', '..\\\\train\\\\..\\\\train\\\\Type_2\\\\1067.jpg', '..\\\\train\\\\..\\\\train\\\\Type_2\\\\1068.jpg', '..\\\\train\\\\..\\\\train\\\\Type_2\\\\107.jpg', '..\\\\train\\\\..\\\\train\\\\Type_2\\\\1072.jpg', '..\\\\train\\\\..\\\\train\\\\Type_2\\\\1073.jpg', '..\\\\train\\\\..\\\\train\\\\Type_2\\\\1074.jpg', '..\\\\train\\\\..\\\\train\\\\Type_2\\\\1075.jpg', '..\\\\train\\\\..\\\\train\\\\Type_2\\\\1076.jpg', '..\\\\train\\\\..\\\\train\\\\Type_2\\\\1078.jpg', '..\\\\train\\\\..\\\\train\\\\Type_2\\\\1083.jpg', '..\\\\train\\\\..\\\\train\\\\Type_2\\\\1084.jpg', '..\\\\train\\\\..\\\\train\\\\Type_2\\\\1085.jpg', '..\\\\train\\\\..\\\\train\\\\Type_2\\\\1087.jpg', '..\\\\train\\\\..\\\\train\\\\Type_2\\\\1089.jpg', '..\\\\train\\\\..\\\\train\\\\Type_2\\\\1090.jpg', '..\\\\train\\\\..\\\\train\\\\Type_2\\\\1091.jpg', '..\\\\train\\\\..\\\\train\\\\Type_2\\\\1096.jpg', '..\\\\train\\\\..\\\\train\\\\Type_2\\\\1097.jpg', '..\\\\train\\\\..\\\\train\\\\Type_2\\\\1098.jpg', '..\\\\train\\\\..\\\\train\\\\Type_2\\\\1099.jpg', '..\\\\train\\\\..\\\\train\\\\Type_2\\\\110.jpg', '..\\\\train\\\\..\\\\train\\\\Type_2\\\\1102.jpg', '..\\\\train\\\\..\\\\train\\\\Type_2\\\\1103.jpg', '..\\\\train\\\\..\\\\train\\\\Type_2\\\\1104.jpg', '..\\\\train\\\\..\\\\train\\\\Type_2\\\\1106.jpg', '..\\\\train\\\\..\\\\train\\\\Type_2\\\\1109.jpg', '..\\\\train\\\\..\\\\train\\\\Type_2\\\\1114.jpg', '..\\\\train\\\\..\\\\train\\\\Type_2\\\\1115.jpg', '..\\\\train\\\\..\\\\train\\\\Type_2\\\\1116.jpg', '..\\\\train\\\\..\\\\train\\\\Type_2\\\\1117.jpg', '..\\\\train\\\\..\\\\train\\\\Type_2\\\\1118.jpg', '..\\\\train\\\\..\\\\train\\\\Type_2\\\\1119.jpg', '..\\\\train\\\\..\\\\train\\\\Type_2\\\\112.jpg', '..\\\\train\\\\..\\\\train\\\\Type_2\\\\1121.jpg', '..\\\\train\\\\..\\\\train\\\\Type_2\\\\1122.jpg', '..\\\\train\\\\..\\\\train\\\\Type_2\\\\1124.jpg', '..\\\\train\\\\..\\\\train\\\\Type_2\\\\1125.jpg', '..\\\\train\\\\..\\\\train\\\\Type_2\\\\1126.jpg', '..\\\\train\\\\..\\\\train\\\\Type_2\\\\1130.jpg', '..\\\\train\\\\..\\\\train\\\\Type_2\\\\1132.jpg', '..\\\\train\\\\..\\\\train\\\\Type_2\\\\1135.jpg', '..\\\\train\\\\..\\\\train\\\\Type_2\\\\1138.jpg', '..\\\\train\\\\..\\\\train\\\\Type_2\\\\1140.jpg', '..\\\\train\\\\..\\\\train\\\\Type_2\\\\1141.jpg', '..\\\\train\\\\..\\\\train\\\\Type_2\\\\1142.jpg', '..\\\\train\\\\..\\\\train\\\\Type_2\\\\1143.jpg', '..\\\\train\\\\..\\\\train\\\\Type_2\\\\1144.jpg', '..\\\\train\\\\..\\\\train\\\\Type_2\\\\1145.jpg', '..\\\\train\\\\..\\\\train\\\\Type_2\\\\1146.jpg', '..\\\\train\\\\..\\\\train\\\\Type_2\\\\1147.jpg', '..\\\\train\\\\..\\\\train\\\\Type_2\\\\1148.jpg', '..\\\\train\\\\..\\\\train\\\\Type_2\\\\1149.jpg', '..\\\\train\\\\..\\\\train\\\\Type_2\\\\115.jpg', '..\\\\train\\\\..\\\\train\\\\Type_2\\\\1151.jpg', '..\\\\train\\\\..\\\\train\\\\Type_2\\\\1152.jpg', '..\\\\train\\\\..\\\\train\\\\Type_2\\\\1155.jpg', '..\\\\train\\\\..\\\\train\\\\Type_2\\\\1156.jpg', '..\\\\train\\\\..\\\\train\\\\Type_2\\\\1158.jpg', '..\\\\train\\\\..\\\\train\\\\Type_2\\\\1159.jpg', '..\\\\train\\\\..\\\\train\\\\Type_2\\\\116.jpg', '..\\\\train\\\\..\\\\train\\\\Type_2\\\\1160.jpg', '..\\\\train\\\\..\\\\train\\\\Type_2\\\\1169.jpg', '..\\\\train\\\\..\\\\train\\\\Type_2\\\\117.jpg', '..\\\\train\\\\..\\\\train\\\\Type_2\\\\1170.jpg', '..\\\\train\\\\..\\\\train\\\\Type_2\\\\1171.jpg', '..\\\\train\\\\..\\\\train\\\\Type_2\\\\1172.jpg', '..\\\\train\\\\..\\\\train\\\\Type_2\\\\1173.jpg', '..\\\\train\\\\..\\\\train\\\\Type_2\\\\1175.jpg', '..\\\\train\\\\..\\\\train\\\\Type_2\\\\1176.jpg', '..\\\\train\\\\..\\\\train\\\\Type_2\\\\1178.jpg', '..\\\\train\\\\..\\\\train\\\\Type_2\\\\1180.jpg', '..\\\\train\\\\..\\\\train\\\\Type_2\\\\1181.jpg', '..\\\\train\\\\..\\\\train\\\\Type_2\\\\1184.jpg', '..\\\\train\\\\..\\\\train\\\\Type_2\\\\1185.jpg', '..\\\\train\\\\..\\\\train\\\\Type_2\\\\1186.jpg', '..\\\\train\\\\..\\\\train\\\\Type_2\\\\1187.jpg', '..\\\\train\\\\..\\\\train\\\\Type_2\\\\1188.jpg', '..\\\\train\\\\..\\\\train\\\\Type_2\\\\1189.jpg', '..\\\\train\\\\..\\\\train\\\\Type_2\\\\119.jpg', '..\\\\train\\\\..\\\\train\\\\Type_2\\\\1192.jpg', '..\\\\train\\\\..\\\\train\\\\Type_2\\\\1193.jpg', '..\\\\train\\\\..\\\\train\\\\Type_2\\\\1195.jpg', '..\\\\train\\\\..\\\\train\\\\Type_2\\\\1196.jpg', '..\\\\train\\\\..\\\\train\\\\Type_2\\\\1197.jpg', '..\\\\train\\\\..\\\\train\\\\Type_2\\\\1198.jpg', '..\\\\train\\\\..\\\\train\\\\Type_2\\\\120.jpg', '..\\\\train\\\\..\\\\train\\\\Type_2\\\\1201.jpg', '..\\\\train\\\\..\\\\train\\\\Type_2\\\\1203.jpg', '..\\\\train\\\\..\\\\train\\\\Type_2\\\\1205.jpg', '..\\\\train\\\\..\\\\train\\\\Type_2\\\\1209.jpg', '..\\\\train\\\\..\\\\train\\\\Type_2\\\\121.jpg', '..\\\\train\\\\..\\\\train\\\\Type_2\\\\1210.jpg', '..\\\\train\\\\..\\\\train\\\\Type_2\\\\1211.jpg', '..\\\\train\\\\..\\\\train\\\\Type_2\\\\1212.jpg', '..\\\\train\\\\..\\\\train\\\\Type_2\\\\1213.jpg', '..\\\\train\\\\..\\\\train\\\\Type_2\\\\1214.jpg', '..\\\\train\\\\..\\\\train\\\\Type_2\\\\1215.jpg', '..\\\\train\\\\..\\\\train\\\\Type_2\\\\1216.jpg', '..\\\\train\\\\..\\\\train\\\\Type_2\\\\1217.jpg', '..\\\\train\\\\..\\\\train\\\\Type_2\\\\1218.jpg', '..\\\\train\\\\..\\\\train\\\\Type_2\\\\1219.jpg', '..\\\\train\\\\..\\\\train\\\\Type_2\\\\122.jpg', '..\\\\train\\\\..\\\\train\\\\Type_2\\\\1222.jpg', '..\\\\train\\\\..\\\\train\\\\Type_2\\\\1225.jpg', '..\\\\train\\\\..\\\\train\\\\Type_2\\\\1227.jpg', '..\\\\train\\\\..\\\\train\\\\Type_2\\\\1228.jpg', '..\\\\train\\\\..\\\\train\\\\Type_2\\\\123.jpg', '..\\\\train\\\\..\\\\train\\\\Type_2\\\\1231.jpg', '..\\\\train\\\\..\\\\train\\\\Type_2\\\\1233.jpg', '..\\\\train\\\\..\\\\train\\\\Type_2\\\\1234.jpg', '..\\\\train\\\\..\\\\train\\\\Type_2\\\\1236.jpg', '..\\\\train\\\\..\\\\train\\\\Type_2\\\\1238.jpg', '..\\\\train\\\\..\\\\train\\\\Type_2\\\\1240.jpg', '..\\\\train\\\\..\\\\train\\\\Type_2\\\\1241.jpg', '..\\\\train\\\\..\\\\train\\\\Type_2\\\\1242.jpg', '..\\\\train\\\\..\\\\train\\\\Type_2\\\\1243.jpg', '..\\\\train\\\\..\\\\train\\\\Type_2\\\\1246.jpg', '..\\\\train\\\\..\\\\train\\\\Type_2\\\\1247.jpg', '..\\\\train\\\\..\\\\train\\\\Type_2\\\\1249.jpg', '..\\\\train\\\\..\\\\train\\\\Type_2\\\\1250.jpg', '..\\\\train\\\\..\\\\train\\\\Type_2\\\\1253.jpg', '..\\\\train\\\\..\\\\train\\\\Type_2\\\\1255.jpg', '..\\\\train\\\\..\\\\train\\\\Type_2\\\\1257.jpg', '..\\\\train\\\\..\\\\train\\\\Type_2\\\\1258.jpg', '..\\\\train\\\\..\\\\train\\\\Type_2\\\\126.jpg', '..\\\\train\\\\..\\\\train\\\\Type_2\\\\1260.jpg', '..\\\\train\\\\..\\\\train\\\\Type_2\\\\1261.jpg', '..\\\\train\\\\..\\\\train\\\\Type_2\\\\1262.jpg', '..\\\\train\\\\..\\\\train\\\\Type_2\\\\1263.jpg', '..\\\\train\\\\..\\\\train\\\\Type_2\\\\1264.jpg', '..\\\\train\\\\..\\\\train\\\\Type_2\\\\1266.jpg', '..\\\\train\\\\..\\\\train\\\\Type_2\\\\1267.jpg', '..\\\\train\\\\..\\\\train\\\\Type_2\\\\1269.jpg', '..\\\\train\\\\..\\\\train\\\\Type_2\\\\127.jpg', '..\\\\train\\\\..\\\\train\\\\Type_2\\\\1271.jpg', '..\\\\train\\\\..\\\\train\\\\Type_2\\\\1272.jpg', '..\\\\train\\\\..\\\\train\\\\Type_2\\\\1276.jpg', '..\\\\train\\\\..\\\\train\\\\Type_2\\\\128.jpg', '..\\\\train\\\\..\\\\train\\\\Type_2\\\\1282.jpg', '..\\\\train\\\\..\\\\train\\\\Type_2\\\\1283.jpg', '..\\\\train\\\\..\\\\train\\\\Type_2\\\\1290.jpg', '..\\\\train\\\\..\\\\train\\\\Type_2\\\\1292.jpg', '..\\\\train\\\\..\\\\train\\\\Type_2\\\\1293.jpg', '..\\\\train\\\\..\\\\train\\\\Type_2\\\\1294.jpg', '..\\\\train\\\\..\\\\train\\\\Type_2\\\\1295.jpg', '..\\\\train\\\\..\\\\train\\\\Type_2\\\\1297.jpg', '..\\\\train\\\\..\\\\train\\\\Type_2\\\\1298.jpg', '..\\\\train\\\\..\\\\train\\\\Type_2\\\\1299.jpg', '..\\\\train\\\\..\\\\train\\\\Type_2\\\\1301.jpg', '..\\\\train\\\\..\\\\train\\\\Type_2\\\\1302.jpg', '..\\\\train\\\\..\\\\train\\\\Type_2\\\\1303.jpg', '..\\\\train\\\\..\\\\train\\\\Type_2\\\\1304.jpg', '..\\\\train\\\\..\\\\train\\\\Type_2\\\\1305.jpg', '..\\\\train\\\\..\\\\train\\\\Type_2\\\\131.jpg', '..\\\\train\\\\..\\\\train\\\\Type_2\\\\1310.jpg', '..\\\\train\\\\..\\\\train\\\\Type_2\\\\1311.jpg', '..\\\\train\\\\..\\\\train\\\\Type_2\\\\1312.jpg', '..\\\\train\\\\..\\\\train\\\\Type_2\\\\1313.jpg', '..\\\\train\\\\..\\\\train\\\\Type_2\\\\1315.jpg', '..\\\\train\\\\..\\\\train\\\\Type_2\\\\1316.jpg', '..\\\\train\\\\..\\\\train\\\\Type_2\\\\1317.jpg', '..\\\\train\\\\..\\\\train\\\\Type_2\\\\1318.jpg', '..\\\\train\\\\..\\\\train\\\\Type_2\\\\1319.jpg', '..\\\\train\\\\..\\\\train\\\\Type_2\\\\1321.jpg', '..\\\\train\\\\..\\\\train\\\\Type_2\\\\1322.jpg', '..\\\\train\\\\..\\\\train\\\\Type_2\\\\1325.jpg', '..\\\\train\\\\..\\\\train\\\\Type_2\\\\1327.jpg', '..\\\\train\\\\..\\\\train\\\\Type_2\\\\1328.jpg', '..\\\\train\\\\..\\\\train\\\\Type_2\\\\1329.jpg', '..\\\\train\\\\..\\\\train\\\\Type_2\\\\133.jpg', '..\\\\train\\\\..\\\\train\\\\Type_2\\\\1330.jpg', '..\\\\train\\\\..\\\\train\\\\Type_2\\\\1331.jpg', '..\\\\train\\\\..\\\\train\\\\Type_2\\\\1334.jpg', '..\\\\train\\\\..\\\\train\\\\Type_2\\\\1337.jpg', '..\\\\train\\\\..\\\\train\\\\Type_2\\\\1338.jpg', '..\\\\train\\\\..\\\\train\\\\Type_2\\\\134.jpg', '..\\\\train\\\\..\\\\train\\\\Type_2\\\\1340.jpg', '..\\\\train\\\\..\\\\train\\\\Type_2\\\\1342.jpg', '..\\\\train\\\\..\\\\train\\\\Type_2\\\\1343.jpg', '..\\\\train\\\\..\\\\train\\\\Type_2\\\\1345.jpg', '..\\\\train\\\\..\\\\train\\\\Type_2\\\\1348.jpg', '..\\\\train\\\\..\\\\train\\\\Type_2\\\\1349.jpg', '..\\\\train\\\\..\\\\train\\\\Type_2\\\\1352.jpg', '..\\\\train\\\\..\\\\train\\\\Type_2\\\\1353.jpg', '..\\\\train\\\\..\\\\train\\\\Type_2\\\\1354.jpg', '..\\\\train\\\\..\\\\train\\\\Type_2\\\\1356.jpg', '..\\\\train\\\\..\\\\train\\\\Type_2\\\\1357.jpg', '..\\\\train\\\\..\\\\train\\\\Type_2\\\\1358.jpg', '..\\\\train\\\\..\\\\train\\\\Type_2\\\\1359.jpg', '..\\\\train\\\\..\\\\train\\\\Type_2\\\\136.jpg', '..\\\\train\\\\..\\\\train\\\\Type_2\\\\1361.jpg', '..\\\\train\\\\..\\\\train\\\\Type_2\\\\1362.jpg', '..\\\\train\\\\..\\\\train\\\\Type_2\\\\1363.jpg', '..\\\\train\\\\..\\\\train\\\\Type_2\\\\1365.jpg', '..\\\\train\\\\..\\\\train\\\\Type_2\\\\1368.jpg', '..\\\\train\\\\..\\\\train\\\\Type_2\\\\1369.jpg', '..\\\\train\\\\..\\\\train\\\\Type_2\\\\137.jpg', '..\\\\train\\\\..\\\\train\\\\Type_2\\\\1371.jpg', '..\\\\train\\\\..\\\\train\\\\Type_2\\\\1373.jpg', '..\\\\train\\\\..\\\\train\\\\Type_2\\\\1376.jpg', '..\\\\train\\\\..\\\\train\\\\Type_2\\\\1377.jpg', '..\\\\train\\\\..\\\\train\\\\Type_2\\\\1378.jpg', '..\\\\train\\\\..\\\\train\\\\Type_2\\\\1379.jpg', '..\\\\train\\\\..\\\\train\\\\Type_2\\\\1380.jpg', '..\\\\train\\\\..\\\\train\\\\Type_2\\\\1381.jpg', '..\\\\train\\\\..\\\\train\\\\Type_2\\\\1383.jpg', '..\\\\train\\\\..\\\\train\\\\Type_2\\\\1385.jpg', '..\\\\train\\\\..\\\\train\\\\Type_2\\\\1386.jpg', '..\\\\train\\\\..\\\\train\\\\Type_2\\\\1388.jpg', '..\\\\train\\\\..\\\\train\\\\Type_2\\\\1391.jpg', '..\\\\train\\\\..\\\\train\\\\Type_2\\\\1392.jpg', '..\\\\train\\\\..\\\\train\\\\Type_2\\\\1395.jpg', '..\\\\train\\\\..\\\\train\\\\Type_2\\\\1398.jpg', '..\\\\train\\\\..\\\\train\\\\Type_2\\\\1399.jpg', '..\\\\train\\\\..\\\\train\\\\Type_2\\\\140.jpg', '..\\\\train\\\\..\\\\train\\\\Type_2\\\\1405.jpg', '..\\\\train\\\\..\\\\train\\\\Type_2\\\\1406.jpg', '..\\\\train\\\\..\\\\train\\\\Type_2\\\\1407.jpg', '..\\\\train\\\\..\\\\train\\\\Type_2\\\\1411.jpg', '..\\\\train\\\\..\\\\train\\\\Type_2\\\\1413.jpg', '..\\\\train\\\\..\\\\train\\\\Type_2\\\\1415.jpg', '..\\\\train\\\\..\\\\train\\\\Type_2\\\\1416.jpg', '..\\\\train\\\\..\\\\train\\\\Type_2\\\\1418.jpg', '..\\\\train\\\\..\\\\train\\\\Type_2\\\\1419.jpg', '..\\\\train\\\\..\\\\train\\\\Type_2\\\\1421.jpg', '..\\\\train\\\\..\\\\train\\\\Type_2\\\\1424.jpg', '..\\\\train\\\\..\\\\train\\\\Type_2\\\\1426.jpg', '..\\\\train\\\\..\\\\train\\\\Type_2\\\\1428.jpg', '..\\\\train\\\\..\\\\train\\\\Type_2\\\\1432.jpg', '..\\\\train\\\\..\\\\train\\\\Type_2\\\\1433.jpg', '..\\\\train\\\\..\\\\train\\\\Type_2\\\\1435.jpg', '..\\\\train\\\\..\\\\train\\\\Type_2\\\\1436.jpg', '..\\\\train\\\\..\\\\train\\\\Type_2\\\\1438.jpg', '..\\\\train\\\\..\\\\train\\\\Type_2\\\\1439.jpg', '..\\\\train\\\\..\\\\train\\\\Type_2\\\\1441.jpg', '..\\\\train\\\\..\\\\train\\\\Type_2\\\\1443.jpg', '..\\\\train\\\\..\\\\train\\\\Type_2\\\\1444.jpg', '..\\\\train\\\\..\\\\train\\\\Type_2\\\\1445.jpg', '..\\\\train\\\\..\\\\train\\\\Type_2\\\\1446.jpg', '..\\\\train\\\\..\\\\train\\\\Type_2\\\\1449.jpg', '..\\\\train\\\\..\\\\train\\\\Type_2\\\\1450.jpg', '..\\\\train\\\\..\\\\train\\\\Type_2\\\\1451.jpg', '..\\\\train\\\\..\\\\train\\\\Type_2\\\\1452.jpg', '..\\\\train\\\\..\\\\train\\\\Type_2\\\\1453.jpg', '..\\\\train\\\\..\\\\train\\\\Type_2\\\\1454.jpg', '..\\\\train\\\\..\\\\train\\\\Type_2\\\\1457.jpg', '..\\\\train\\\\..\\\\train\\\\Type_2\\\\1462.jpg', '..\\\\train\\\\..\\\\train\\\\Type_2\\\\1463.jpg', '..\\\\train\\\\..\\\\train\\\\Type_2\\\\1465.jpg', '..\\\\train\\\\..\\\\train\\\\Type_2\\\\1466.jpg', '..\\\\train\\\\..\\\\train\\\\Type_2\\\\1467.jpg', '..\\\\train\\\\..\\\\train\\\\Type_2\\\\147.jpg', '..\\\\train\\\\..\\\\train\\\\Type_2\\\\1471.jpg', '..\\\\train\\\\..\\\\train\\\\Type_2\\\\1472.jpg', '..\\\\train\\\\..\\\\train\\\\Type_2\\\\1474.jpg', '..\\\\train\\\\..\\\\train\\\\Type_2\\\\1476.jpg', '..\\\\train\\\\..\\\\train\\\\Type_2\\\\1478.jpg', '..\\\\train\\\\..\\\\train\\\\Type_2\\\\1480.jpg', '..\\\\train\\\\..\\\\train\\\\Type_2\\\\149.jpg', '..\\\\train\\\\..\\\\train\\\\Type_2\\\\15.jpg', '..\\\\train\\\\..\\\\train\\\\Type_2\\\\151.jpg', '..\\\\train\\\\..\\\\train\\\\Type_2\\\\152.jpg', '..\\\\train\\\\..\\\\train\\\\Type_2\\\\153.jpg', '..\\\\train\\\\..\\\\train\\\\Type_2\\\\156.jpg', '..\\\\train\\\\..\\\\train\\\\Type_2\\\\157.jpg', '..\\\\train\\\\..\\\\train\\\\Type_2\\\\159.jpg', '..\\\\train\\\\..\\\\train\\\\Type_2\\\\161.jpg', '..\\\\train\\\\..\\\\train\\\\Type_2\\\\162.jpg', '..\\\\train\\\\..\\\\train\\\\Type_2\\\\164.jpg', '..\\\\train\\\\..\\\\train\\\\Type_2\\\\165.jpg', '..\\\\train\\\\..\\\\train\\\\Type_2\\\\167.jpg', '..\\\\train\\\\..\\\\train\\\\Type_2\\\\168.jpg', '..\\\\train\\\\..\\\\train\\\\Type_2\\\\17.jpg', '..\\\\train\\\\..\\\\train\\\\Type_2\\\\173.jpg', '..\\\\train\\\\..\\\\train\\\\Type_2\\\\175.jpg', '..\\\\train\\\\..\\\\train\\\\Type_2\\\\177.jpg', '..\\\\train\\\\..\\\\train\\\\Type_2\\\\178.jpg', '..\\\\train\\\\..\\\\train\\\\Type_2\\\\182.jpg', '..\\\\train\\\\..\\\\train\\\\Type_2\\\\183.jpg', '..\\\\train\\\\..\\\\train\\\\Type_2\\\\184.jpg', '..\\\\train\\\\..\\\\train\\\\Type_2\\\\185.jpg', '..\\\\train\\\\..\\\\train\\\\Type_2\\\\186.jpg', '..\\\\train\\\\..\\\\train\\\\Type_2\\\\189.jpg', '..\\\\train\\\\..\\\\train\\\\Type_2\\\\19.jpg', '..\\\\train\\\\..\\\\train\\\\Type_2\\\\190.jpg', '..\\\\train\\\\..\\\\train\\\\Type_2\\\\192.jpg', '..\\\\train\\\\..\\\\train\\\\Type_2\\\\195.jpg', '..\\\\train\\\\..\\\\train\\\\Type_2\\\\198.jpg', '..\\\\train\\\\..\\\\train\\\\Type_2\\\\2.jpg', '..\\\\train\\\\..\\\\train\\\\Type_2\\\\203.jpg', '..\\\\train\\\\..\\\\train\\\\Type_2\\\\204.jpg', '..\\\\train\\\\..\\\\train\\\\Type_2\\\\206.jpg', '..\\\\train\\\\..\\\\train\\\\Type_2\\\\209.jpg', '..\\\\train\\\\..\\\\train\\\\Type_2\\\\21.jpg', '..\\\\train\\\\..\\\\train\\\\Type_2\\\\210.jpg', '..\\\\train\\\\..\\\\train\\\\Type_2\\\\213.jpg', '..\\\\train\\\\..\\\\train\\\\Type_2\\\\216.jpg', '..\\\\train\\\\..\\\\train\\\\Type_2\\\\219.jpg', '..\\\\train\\\\..\\\\train\\\\Type_2\\\\22.jpg', '..\\\\train\\\\..\\\\train\\\\Type_2\\\\223.jpg', '..\\\\train\\\\..\\\\train\\\\Type_2\\\\224.jpg', '..\\\\train\\\\..\\\\train\\\\Type_2\\\\225.jpg', '..\\\\train\\\\..\\\\train\\\\Type_2\\\\227.jpg', '..\\\\train\\\\..\\\\train\\\\Type_2\\\\231.jpg', '..\\\\train\\\\..\\\\train\\\\Type_2\\\\233.jpg', '..\\\\train\\\\..\\\\train\\\\Type_2\\\\234.jpg', '..\\\\train\\\\..\\\\train\\\\Type_2\\\\235.jpg', '..\\\\train\\\\..\\\\train\\\\Type_2\\\\236.jpg', '..\\\\train\\\\..\\\\train\\\\Type_2\\\\238.jpg', '..\\\\train\\\\..\\\\train\\\\Type_2\\\\24.jpg', '..\\\\train\\\\..\\\\train\\\\Type_2\\\\240.jpg', '..\\\\train\\\\..\\\\train\\\\Type_2\\\\241.jpg', '..\\\\train\\\\..\\\\train\\\\Type_2\\\\243.jpg', '..\\\\train\\\\..\\\\train\\\\Type_2\\\\244.jpg', '..\\\\train\\\\..\\\\train\\\\Type_2\\\\246.jpg', '..\\\\train\\\\..\\\\train\\\\Type_2\\\\250.jpg', '..\\\\train\\\\..\\\\train\\\\Type_2\\\\251.jpg', '..\\\\train\\\\..\\\\train\\\\Type_2\\\\255.jpg', '..\\\\train\\\\..\\\\train\\\\Type_2\\\\257.jpg', '..\\\\train\\\\..\\\\train\\\\Type_2\\\\26.jpg', '..\\\\train\\\\..\\\\train\\\\Type_2\\\\264.jpg', '..\\\\train\\\\..\\\\train\\\\Type_2\\\\266.jpg', '..\\\\train\\\\..\\\\train\\\\Type_2\\\\268.jpg', '..\\\\train\\\\..\\\\train\\\\Type_2\\\\270.jpg', '..\\\\train\\\\..\\\\train\\\\Type_2\\\\271.jpg', '..\\\\train\\\\..\\\\train\\\\Type_2\\\\274.jpg', '..\\\\train\\\\..\\\\train\\\\Type_2\\\\276.jpg', '..\\\\train\\\\..\\\\train\\\\Type_2\\\\278.jpg', '..\\\\train\\\\..\\\\train\\\\Type_2\\\\279.jpg', '..\\\\train\\\\..\\\\train\\\\Type_2\\\\28.jpg', '..\\\\train\\\\..\\\\train\\\\Type_2\\\\282.jpg', '..\\\\train\\\\..\\\\train\\\\Type_2\\\\283.jpg', '..\\\\train\\\\..\\\\train\\\\Type_2\\\\284.jpg', '..\\\\train\\\\..\\\\train\\\\Type_2\\\\285.jpg', '..\\\\train\\\\..\\\\train\\\\Type_2\\\\288.jpg', '..\\\\train\\\\..\\\\train\\\\Type_2\\\\29.jpg', '..\\\\train\\\\..\\\\train\\\\Type_2\\\\290.jpg', '..\\\\train\\\\..\\\\train\\\\Type_2\\\\291.jpg', '..\\\\train\\\\..\\\\train\\\\Type_2\\\\293.jpg', '..\\\\train\\\\..\\\\train\\\\Type_2\\\\296.jpg', '..\\\\train\\\\..\\\\train\\\\Type_2\\\\297.jpg', '..\\\\train\\\\..\\\\train\\\\Type_2\\\\301.jpg', '..\\\\train\\\\..\\\\train\\\\Type_2\\\\302.jpg', '..\\\\train\\\\..\\\\train\\\\Type_2\\\\303.jpg', '..\\\\train\\\\..\\\\train\\\\Type_2\\\\305.jpg', '..\\\\train\\\\..\\\\train\\\\Type_2\\\\31.jpg', '..\\\\train\\\\..\\\\train\\\\Type_2\\\\310.jpg', '..\\\\train\\\\..\\\\train\\\\Type_2\\\\312.jpg', '..\\\\train\\\\..\\\\train\\\\Type_2\\\\313.jpg', '..\\\\train\\\\..\\\\train\\\\Type_2\\\\314.jpg', '..\\\\train\\\\..\\\\train\\\\Type_2\\\\315.jpg', '..\\\\train\\\\..\\\\train\\\\Type_2\\\\316.jpg', '..\\\\train\\\\..\\\\train\\\\Type_2\\\\317.jpg', '..\\\\train\\\\..\\\\train\\\\Type_2\\\\319.jpg', '..\\\\train\\\\..\\\\train\\\\Type_2\\\\32.jpg', '..\\\\train\\\\..\\\\train\\\\Type_2\\\\326.jpg', '..\\\\train\\\\..\\\\train\\\\Type_2\\\\329.jpg', '..\\\\train\\\\..\\\\train\\\\Type_2\\\\330.jpg', '..\\\\train\\\\..\\\\train\\\\Type_2\\\\331.jpg', '..\\\\train\\\\..\\\\train\\\\Type_2\\\\332.jpg', '..\\\\train\\\\..\\\\train\\\\Type_2\\\\337.jpg', '..\\\\train\\\\..\\\\train\\\\Type_2\\\\339.jpg', '..\\\\train\\\\..\\\\train\\\\Type_2\\\\340.jpg', '..\\\\train\\\\..\\\\train\\\\Type_2\\\\341.jpg', '..\\\\train\\\\..\\\\train\\\\Type_2\\\\343.jpg', '..\\\\train\\\\..\\\\train\\\\Type_2\\\\345.jpg', '..\\\\train\\\\..\\\\train\\\\Type_2\\\\348.jpg', '..\\\\train\\\\..\\\\train\\\\Type_2\\\\351.jpg', '..\\\\train\\\\..\\\\train\\\\Type_2\\\\353.jpg', '..\\\\train\\\\..\\\\train\\\\Type_2\\\\354.jpg', '..\\\\train\\\\..\\\\train\\\\Type_2\\\\358.jpg', '..\\\\train\\\\..\\\\train\\\\Type_2\\\\359.jpg', '..\\\\train\\\\..\\\\train\\\\Type_2\\\\36.jpg', '..\\\\train\\\\..\\\\train\\\\Type_2\\\\360.jpg', '..\\\\train\\\\..\\\\train\\\\Type_2\\\\364.jpg', '..\\\\train\\\\..\\\\train\\\\Type_2\\\\365.jpg', '..\\\\train\\\\..\\\\train\\\\Type_2\\\\366.jpg', '..\\\\train\\\\..\\\\train\\\\Type_2\\\\367.jpg', '..\\\\train\\\\..\\\\train\\\\Type_2\\\\368.jpg', '..\\\\train\\\\..\\\\train\\\\Type_2\\\\369.jpg', '..\\\\train\\\\..\\\\train\\\\Type_2\\\\37.jpg', '..\\\\train\\\\..\\\\train\\\\Type_2\\\\371.jpg', '..\\\\train\\\\..\\\\train\\\\Type_2\\\\372.jpg', '..\\\\train\\\\..\\\\train\\\\Type_2\\\\374.jpg', '..\\\\train\\\\..\\\\train\\\\Type_2\\\\375.jpg', '..\\\\train\\\\..\\\\train\\\\Type_2\\\\377.jpg', '..\\\\train\\\\..\\\\train\\\\Type_2\\\\378.jpg', '..\\\\train\\\\..\\\\train\\\\Type_2\\\\381.jpg', '..\\\\train\\\\..\\\\train\\\\Type_2\\\\382.jpg', '..\\\\train\\\\..\\\\train\\\\Type_2\\\\385.jpg', '..\\\\train\\\\..\\\\train\\\\Type_2\\\\386.jpg', '..\\\\train\\\\..\\\\train\\\\Type_2\\\\388.jpg', '..\\\\train\\\\..\\\\train\\\\Type_2\\\\389.jpg', '..\\\\train\\\\..\\\\train\\\\Type_2\\\\39.jpg', '..\\\\train\\\\..\\\\train\\\\Type_2\\\\393.jpg', '..\\\\train\\\\..\\\\train\\\\Type_2\\\\394.jpg', '..\\\\train\\\\..\\\\train\\\\Type_2\\\\395.jpg', '..\\\\train\\\\..\\\\train\\\\Type_2\\\\397.jpg', '..\\\\train\\\\..\\\\train\\\\Type_2\\\\398.jpg', '..\\\\train\\\\..\\\\train\\\\Type_2\\\\4.jpg', '..\\\\train\\\\..\\\\train\\\\Type_2\\\\40.jpg', '..\\\\train\\\\..\\\\train\\\\Type_2\\\\400.jpg', '..\\\\train\\\\..\\\\train\\\\Type_2\\\\403.jpg', '..\\\\train\\\\..\\\\train\\\\Type_2\\\\404.jpg', '..\\\\train\\\\..\\\\train\\\\Type_2\\\\406.jpg', '..\\\\train\\\\..\\\\train\\\\Type_2\\\\407.jpg', '..\\\\train\\\\..\\\\train\\\\Type_2\\\\408.jpg', '..\\\\train\\\\..\\\\train\\\\Type_2\\\\410.jpg', '..\\\\train\\\\..\\\\train\\\\Type_2\\\\411.jpg', '..\\\\train\\\\..\\\\train\\\\Type_2\\\\412.jpg', '..\\\\train\\\\..\\\\train\\\\Type_2\\\\413.jpg', '..\\\\train\\\\..\\\\train\\\\Type_2\\\\414.jpg', '..\\\\train\\\\..\\\\train\\\\Type_2\\\\418.jpg', '..\\\\train\\\\..\\\\train\\\\Type_2\\\\419.jpg', '..\\\\train\\\\..\\\\train\\\\Type_2\\\\42.jpg', '..\\\\train\\\\..\\\\train\\\\Type_2\\\\420.jpg', '..\\\\train\\\\..\\\\train\\\\Type_2\\\\423.jpg', '..\\\\train\\\\..\\\\train\\\\Type_2\\\\428.jpg', '..\\\\train\\\\..\\\\train\\\\Type_2\\\\429.jpg', '..\\\\train\\\\..\\\\train\\\\Type_2\\\\43.jpg', '..\\\\train\\\\..\\\\train\\\\Type_2\\\\432.jpg', '..\\\\train\\\\..\\\\train\\\\Type_2\\\\437.jpg', '..\\\\train\\\\..\\\\train\\\\Type_2\\\\438.jpg', '..\\\\train\\\\..\\\\train\\\\Type_2\\\\44.jpg', '..\\\\train\\\\..\\\\train\\\\Type_2\\\\440.jpg', '..\\\\train\\\\..\\\\train\\\\Type_2\\\\442.jpg', '..\\\\train\\\\..\\\\train\\\\Type_2\\\\443.jpg', '..\\\\train\\\\..\\\\train\\\\Type_2\\\\444.jpg', '..\\\\train\\\\..\\\\train\\\\Type_2\\\\445.jpg', '..\\\\train\\\\..\\\\train\\\\Type_2\\\\447.jpg', '..\\\\train\\\\..\\\\train\\\\Type_2\\\\448.jpg', '..\\\\train\\\\..\\\\train\\\\Type_2\\\\449.jpg', '..\\\\train\\\\..\\\\train\\\\Type_2\\\\45.jpg', '..\\\\train\\\\..\\\\train\\\\Type_2\\\\451.jpg', '..\\\\train\\\\..\\\\train\\\\Type_2\\\\452.jpg', '..\\\\train\\\\..\\\\train\\\\Type_2\\\\453.jpg', '..\\\\train\\\\..\\\\train\\\\Type_2\\\\455.jpg', '..\\\\train\\\\..\\\\train\\\\Type_2\\\\456.jpg', '..\\\\train\\\\..\\\\train\\\\Type_2\\\\457.jpg', '..\\\\train\\\\..\\\\train\\\\Type_2\\\\458.jpg', '..\\\\train\\\\..\\\\train\\\\Type_2\\\\46.jpg', '..\\\\train\\\\..\\\\train\\\\Type_2\\\\460.jpg', '..\\\\train\\\\..\\\\train\\\\Type_2\\\\461.jpg', '..\\\\train\\\\..\\\\train\\\\Type_2\\\\462.jpg', '..\\\\train\\\\..\\\\train\\\\Type_2\\\\464.jpg', '..\\\\train\\\\..\\\\train\\\\Type_2\\\\472.jpg', '..\\\\train\\\\..\\\\train\\\\Type_2\\\\473.jpg', '..\\\\train\\\\..\\\\train\\\\Type_2\\\\474.jpg', '..\\\\train\\\\..\\\\train\\\\Type_2\\\\476.jpg', '..\\\\train\\\\..\\\\train\\\\Type_2\\\\482.jpg', '..\\\\train\\\\..\\\\train\\\\Type_2\\\\483.jpg', '..\\\\train\\\\..\\\\train\\\\Type_2\\\\485.jpg', '..\\\\train\\\\..\\\\train\\\\Type_2\\\\486.jpg', '..\\\\train\\\\..\\\\train\\\\Type_2\\\\487.jpg', '..\\\\train\\\\..\\\\train\\\\Type_2\\\\488.jpg', '..\\\\train\\\\..\\\\train\\\\Type_2\\\\490.jpg', '..\\\\train\\\\..\\\\train\\\\Type_2\\\\493.jpg', '..\\\\train\\\\..\\\\train\\\\Type_2\\\\496.jpg', '..\\\\train\\\\..\\\\train\\\\Type_2\\\\499.jpg', '..\\\\train\\\\..\\\\train\\\\Type_2\\\\501.jpg', '..\\\\train\\\\..\\\\train\\\\Type_2\\\\502.jpg', '..\\\\train\\\\..\\\\train\\\\Type_2\\\\503.jpg', '..\\\\train\\\\..\\\\train\\\\Type_2\\\\504.jpg', '..\\\\train\\\\..\\\\train\\\\Type_2\\\\505.jpg', '..\\\\train\\\\..\\\\train\\\\Type_2\\\\506.jpg', '..\\\\train\\\\..\\\\train\\\\Type_2\\\\507.jpg', '..\\\\train\\\\..\\\\train\\\\Type_2\\\\508.jpg', '..\\\\train\\\\..\\\\train\\\\Type_2\\\\509.jpg', '..\\\\train\\\\..\\\\train\\\\Type_2\\\\51.jpg', '..\\\\train\\\\..\\\\train\\\\Type_2\\\\515.jpg', '..\\\\train\\\\..\\\\train\\\\Type_2\\\\517.jpg', '..\\\\train\\\\..\\\\train\\\\Type_2\\\\52.jpg', '..\\\\train\\\\..\\\\train\\\\Type_2\\\\521.jpg', '..\\\\train\\\\..\\\\train\\\\Type_2\\\\522.jpg', '..\\\\train\\\\..\\\\train\\\\Type_2\\\\524.jpg', '..\\\\train\\\\..\\\\train\\\\Type_2\\\\525.jpg', '..\\\\train\\\\..\\\\train\\\\Type_2\\\\526.jpg', '..\\\\train\\\\..\\\\train\\\\Type_2\\\\528.jpg', '..\\\\train\\\\..\\\\train\\\\Type_2\\\\529.jpg', '..\\\\train\\\\..\\\\train\\\\Type_2\\\\53.jpg', '..\\\\train\\\\..\\\\train\\\\Type_2\\\\533.jpg', '..\\\\train\\\\..\\\\train\\\\Type_2\\\\534.jpg', '..\\\\train\\\\..\\\\train\\\\Type_2\\\\535.jpg', '..\\\\train\\\\..\\\\train\\\\Type_2\\\\537.jpg', '..\\\\train\\\\..\\\\train\\\\Type_2\\\\538.jpg', '..\\\\train\\\\..\\\\train\\\\Type_2\\\\54.jpg', '..\\\\train\\\\..\\\\train\\\\Type_2\\\\540.jpg', '..\\\\train\\\\..\\\\train\\\\Type_2\\\\541.jpg', '..\\\\train\\\\..\\\\train\\\\Type_2\\\\542.jpg', '..\\\\train\\\\..\\\\train\\\\Type_2\\\\544.jpg', '..\\\\train\\\\..\\\\train\\\\Type_2\\\\545.jpg', '..\\\\train\\\\..\\\\train\\\\Type_2\\\\546.jpg', '..\\\\train\\\\..\\\\train\\\\Type_2\\\\547.jpg', '..\\\\train\\\\..\\\\train\\\\Type_2\\\\548.jpg', '..\\\\train\\\\..\\\\train\\\\Type_2\\\\549.jpg', '..\\\\train\\\\..\\\\train\\\\Type_2\\\\552.jpg', '..\\\\train\\\\..\\\\train\\\\Type_2\\\\556.jpg', '..\\\\train\\\\..\\\\train\\\\Type_2\\\\557.jpg', '..\\\\train\\\\..\\\\train\\\\Type_2\\\\559.jpg', '..\\\\train\\\\..\\\\train\\\\Type_2\\\\56.jpg', '..\\\\train\\\\..\\\\train\\\\Type_2\\\\561.jpg', '..\\\\train\\\\..\\\\train\\\\Type_2\\\\563.jpg', '..\\\\train\\\\..\\\\train\\\\Type_2\\\\564.jpg', '..\\\\train\\\\..\\\\train\\\\Type_2\\\\566.jpg', '..\\\\train\\\\..\\\\train\\\\Type_2\\\\568.jpg', '..\\\\train\\\\..\\\\train\\\\Type_2\\\\569.jpg', '..\\\\train\\\\..\\\\train\\\\Type_2\\\\570.jpg', '..\\\\train\\\\..\\\\train\\\\Type_2\\\\572.jpg', '..\\\\train\\\\..\\\\train\\\\Type_2\\\\574.jpg', '..\\\\train\\\\..\\\\train\\\\Type_2\\\\577.jpg', '..\\\\train\\\\..\\\\train\\\\Type_2\\\\581.jpg', '..\\\\train\\\\..\\\\train\\\\Type_2\\\\584.jpg', '..\\\\train\\\\..\\\\train\\\\Type_2\\\\586.jpg', '..\\\\train\\\\..\\\\train\\\\Type_2\\\\588.jpg', '..\\\\train\\\\..\\\\train\\\\Type_2\\\\589.jpg', '..\\\\train\\\\..\\\\train\\\\Type_2\\\\591.jpg', '..\\\\train\\\\..\\\\train\\\\Type_2\\\\592.jpg', '..\\\\train\\\\..\\\\train\\\\Type_2\\\\595.jpg', '..\\\\train\\\\..\\\\train\\\\Type_2\\\\597.jpg', '..\\\\train\\\\..\\\\train\\\\Type_2\\\\6.jpg', '..\\\\train\\\\..\\\\train\\\\Type_2\\\\60.jpg', '..\\\\train\\\\..\\\\train\\\\Type_2\\\\601.jpg', '..\\\\train\\\\..\\\\train\\\\Type_2\\\\602.jpg', '..\\\\train\\\\..\\\\train\\\\Type_2\\\\603.jpg', '..\\\\train\\\\..\\\\train\\\\Type_2\\\\607.jpg', '..\\\\train\\\\..\\\\train\\\\Type_2\\\\608.jpg', '..\\\\train\\\\..\\\\train\\\\Type_2\\\\609.jpg', '..\\\\train\\\\..\\\\train\\\\Type_2\\\\610.jpg', '..\\\\train\\\\..\\\\train\\\\Type_2\\\\611.jpg', '..\\\\train\\\\..\\\\train\\\\Type_2\\\\612.jpg', '..\\\\train\\\\..\\\\train\\\\Type_2\\\\613.jpg', '..\\\\train\\\\..\\\\train\\\\Type_2\\\\614.jpg', '..\\\\train\\\\..\\\\train\\\\Type_2\\\\615.jpg', '..\\\\train\\\\..\\\\train\\\\Type_2\\\\616.jpg', '..\\\\train\\\\..\\\\train\\\\Type_2\\\\618.jpg', '..\\\\train\\\\..\\\\train\\\\Type_2\\\\621.jpg', '..\\\\train\\\\..\\\\train\\\\Type_2\\\\622.jpg', '..\\\\train\\\\..\\\\train\\\\Type_2\\\\632.jpg', '..\\\\train\\\\..\\\\train\\\\Type_2\\\\633.jpg', '..\\\\train\\\\..\\\\train\\\\Type_2\\\\634.jpg', '..\\\\train\\\\..\\\\train\\\\Type_2\\\\639.jpg', '..\\\\train\\\\..\\\\train\\\\Type_2\\\\64.jpg', '..\\\\train\\\\..\\\\train\\\\Type_2\\\\640.jpg', '..\\\\train\\\\..\\\\train\\\\Type_2\\\\642.jpg', '..\\\\train\\\\..\\\\train\\\\Type_2\\\\644.jpg', '..\\\\train\\\\..\\\\train\\\\Type_2\\\\647.jpg', '..\\\\train\\\\..\\\\train\\\\Type_2\\\\648.jpg', '..\\\\train\\\\..\\\\train\\\\Type_2\\\\65.jpg', '..\\\\train\\\\..\\\\train\\\\Type_2\\\\651.jpg', '..\\\\train\\\\..\\\\train\\\\Type_2\\\\652.jpg', '..\\\\train\\\\..\\\\train\\\\Type_2\\\\655.jpg', '..\\\\train\\\\..\\\\train\\\\Type_2\\\\656.jpg', '..\\\\train\\\\..\\\\train\\\\Type_2\\\\657.jpg', '..\\\\train\\\\..\\\\train\\\\Type_2\\\\658.jpg', '..\\\\train\\\\..\\\\train\\\\Type_2\\\\659.jpg', '..\\\\train\\\\..\\\\train\\\\Type_2\\\\66.jpg', '..\\\\train\\\\..\\\\train\\\\Type_2\\\\662.jpg', '..\\\\train\\\\..\\\\train\\\\Type_2\\\\665.jpg', '..\\\\train\\\\..\\\\train\\\\Type_2\\\\666.jpg', '..\\\\train\\\\..\\\\train\\\\Type_2\\\\67.jpg', '..\\\\train\\\\..\\\\train\\\\Type_2\\\\671.jpg', '..\\\\train\\\\..\\\\train\\\\Type_2\\\\673.jpg', '..\\\\train\\\\..\\\\train\\\\Type_2\\\\674.jpg', '..\\\\train\\\\..\\\\train\\\\Type_2\\\\676.jpg', '..\\\\train\\\\..\\\\train\\\\Type_2\\\\678.jpg', '..\\\\train\\\\..\\\\train\\\\Type_2\\\\68.jpg', '..\\\\train\\\\..\\\\train\\\\Type_2\\\\680.jpg', '..\\\\train\\\\..\\\\train\\\\Type_2\\\\681.jpg', '..\\\\train\\\\..\\\\train\\\\Type_2\\\\684.jpg', '..\\\\train\\\\..\\\\train\\\\Type_2\\\\686.jpg', '..\\\\train\\\\..\\\\train\\\\Type_2\\\\687.jpg', '..\\\\train\\\\..\\\\train\\\\Type_2\\\\688.jpg', '..\\\\train\\\\..\\\\train\\\\Type_2\\\\691.jpg', '..\\\\train\\\\..\\\\train\\\\Type_2\\\\693.jpg', '..\\\\train\\\\..\\\\train\\\\Type_2\\\\696.jpg', '..\\\\train\\\\..\\\\train\\\\Type_2\\\\698.jpg', '..\\\\train\\\\..\\\\train\\\\Type_2\\\\699.jpg', '..\\\\train\\\\..\\\\train\\\\Type_2\\\\701.jpg', '..\\\\train\\\\..\\\\train\\\\Type_2\\\\702.jpg', '..\\\\train\\\\..\\\\train\\\\Type_2\\\\703.jpg', '..\\\\train\\\\..\\\\train\\\\Type_2\\\\704.jpg', '..\\\\train\\\\..\\\\train\\\\Type_2\\\\705.jpg', '..\\\\train\\\\..\\\\train\\\\Type_2\\\\707.jpg', '..\\\\train\\\\..\\\\train\\\\Type_2\\\\712.jpg', '..\\\\train\\\\..\\\\train\\\\Type_2\\\\714.jpg', '..\\\\train\\\\..\\\\train\\\\Type_2\\\\716.jpg', '..\\\\train\\\\..\\\\train\\\\Type_2\\\\717.jpg', '..\\\\train\\\\..\\\\train\\\\Type_2\\\\718.jpg', '..\\\\train\\\\..\\\\train\\\\Type_2\\\\719.jpg', '..\\\\train\\\\..\\\\train\\\\Type_2\\\\72.jpg', '..\\\\train\\\\..\\\\train\\\\Type_2\\\\720.jpg', '..\\\\train\\\\..\\\\train\\\\Type_2\\\\722.jpg', '..\\\\train\\\\..\\\\train\\\\Type_2\\\\723.jpg', '..\\\\train\\\\..\\\\train\\\\Type_2\\\\724.jpg', '..\\\\train\\\\..\\\\train\\\\Type_2\\\\726.jpg', '..\\\\train\\\\..\\\\train\\\\Type_2\\\\729.jpg', '..\\\\train\\\\..\\\\train\\\\Type_2\\\\730.jpg', '..\\\\train\\\\..\\\\train\\\\Type_2\\\\738.jpg', '..\\\\train\\\\..\\\\train\\\\Type_2\\\\74.jpg', '..\\\\train\\\\..\\\\train\\\\Type_2\\\\741.jpg', '..\\\\train\\\\..\\\\train\\\\Type_2\\\\743.jpg', '..\\\\train\\\\..\\\\train\\\\Type_2\\\\744.jpg', '..\\\\train\\\\..\\\\train\\\\Type_2\\\\748.jpg', '..\\\\train\\\\..\\\\train\\\\Type_2\\\\749.jpg', '..\\\\train\\\\..\\\\train\\\\Type_2\\\\75.jpg', '..\\\\train\\\\..\\\\train\\\\Type_2\\\\753.jpg', '..\\\\train\\\\..\\\\train\\\\Type_2\\\\754.jpg', '..\\\\train\\\\..\\\\train\\\\Type_2\\\\756.jpg', '..\\\\train\\\\..\\\\train\\\\Type_2\\\\76.jpg', '..\\\\train\\\\..\\\\train\\\\Type_2\\\\760.jpg', '..\\\\train\\\\..\\\\train\\\\Type_2\\\\761.jpg', '..\\\\train\\\\..\\\\train\\\\Type_2\\\\762.jpg', '..\\\\train\\\\..\\\\train\\\\Type_2\\\\768.jpg', '..\\\\train\\\\..\\\\train\\\\Type_2\\\\77.jpg', '..\\\\train\\\\..\\\\train\\\\Type_2\\\\771.jpg', '..\\\\train\\\\..\\\\train\\\\Type_2\\\\772.jpg', '..\\\\train\\\\..\\\\train\\\\Type_2\\\\775.jpg', '..\\\\train\\\\..\\\\train\\\\Type_2\\\\777.jpg', '..\\\\train\\\\..\\\\train\\\\Type_2\\\\78.jpg', '..\\\\train\\\\..\\\\train\\\\Type_2\\\\781.jpg', '..\\\\train\\\\..\\\\train\\\\Type_2\\\\785.jpg', '..\\\\train\\\\..\\\\train\\\\Type_2\\\\786.jpg', '..\\\\train\\\\..\\\\train\\\\Type_2\\\\789.jpg', '..\\\\train\\\\..\\\\train\\\\Type_2\\\\79.jpg', '..\\\\train\\\\..\\\\train\\\\Type_2\\\\790.jpg', '..\\\\train\\\\..\\\\train\\\\Type_2\\\\792.jpg', '..\\\\train\\\\..\\\\train\\\\Type_2\\\\793.jpg', '..\\\\train\\\\..\\\\train\\\\Type_2\\\\794.jpg', '..\\\\train\\\\..\\\\train\\\\Type_2\\\\795.jpg', '..\\\\train\\\\..\\\\train\\\\Type_2\\\\797.jpg', '..\\\\train\\\\..\\\\train\\\\Type_2\\\\798.jpg', '..\\\\train\\\\..\\\\train\\\\Type_2\\\\8.jpg', '..\\\\train\\\\..\\\\train\\\\Type_2\\\\80.jpg', '..\\\\train\\\\..\\\\train\\\\Type_2\\\\804.jpg', '..\\\\train\\\\..\\\\train\\\\Type_2\\\\807.jpg', '..\\\\train\\\\..\\\\train\\\\Type_2\\\\813.jpg', '..\\\\train\\\\..\\\\train\\\\Type_2\\\\815.jpg', '..\\\\train\\\\..\\\\train\\\\Type_2\\\\816.jpg', '..\\\\train\\\\..\\\\train\\\\Type_2\\\\819.jpg', '..\\\\train\\\\..\\\\train\\\\Type_2\\\\824.jpg', '..\\\\train\\\\..\\\\train\\\\Type_2\\\\826.jpg', '..\\\\train\\\\..\\\\train\\\\Type_2\\\\827.jpg', '..\\\\train\\\\..\\\\train\\\\Type_2\\\\829.jpg', '..\\\\train\\\\..\\\\train\\\\Type_2\\\\830.jpg', '..\\\\train\\\\..\\\\train\\\\Type_2\\\\831.jpg', '..\\\\train\\\\..\\\\train\\\\Type_2\\\\832.jpg', '..\\\\train\\\\..\\\\train\\\\Type_2\\\\834.jpg', '..\\\\train\\\\..\\\\train\\\\Type_2\\\\838.jpg', '..\\\\train\\\\..\\\\train\\\\Type_2\\\\84.jpg', '..\\\\train\\\\..\\\\train\\\\Type_2\\\\841.jpg', '..\\\\train\\\\..\\\\train\\\\Type_2\\\\843.jpg', '..\\\\train\\\\..\\\\train\\\\Type_2\\\\844.jpg', '..\\\\train\\\\..\\\\train\\\\Type_2\\\\847.jpg', '..\\\\train\\\\..\\\\train\\\\Type_2\\\\849.jpg', '..\\\\train\\\\..\\\\train\\\\Type_2\\\\85.jpg', '..\\\\train\\\\..\\\\train\\\\Type_2\\\\850.jpg', '..\\\\train\\\\..\\\\train\\\\Type_2\\\\851.jpg', '..\\\\train\\\\..\\\\train\\\\Type_2\\\\852.jpg', '..\\\\train\\\\..\\\\train\\\\Type_2\\\\854.jpg', '..\\\\train\\\\..\\\\train\\\\Type_2\\\\856.jpg', '..\\\\train\\\\..\\\\train\\\\Type_2\\\\857.jpg', '..\\\\train\\\\..\\\\train\\\\Type_2\\\\858.jpg', '..\\\\train\\\\..\\\\train\\\\Type_2\\\\859.jpg', '..\\\\train\\\\..\\\\train\\\\Type_2\\\\86.jpg', '..\\\\train\\\\..\\\\train\\\\Type_2\\\\860.jpg', '..\\\\train\\\\..\\\\train\\\\Type_2\\\\861.jpg', '..\\\\train\\\\..\\\\train\\\\Type_2\\\\862.jpg', '..\\\\train\\\\..\\\\train\\\\Type_2\\\\863.jpg', '..\\\\train\\\\..\\\\train\\\\Type_2\\\\865.jpg', '..\\\\train\\\\..\\\\train\\\\Type_2\\\\867.jpg', '..\\\\train\\\\..\\\\train\\\\Type_2\\\\868.jpg', '..\\\\train\\\\..\\\\train\\\\Type_2\\\\871.jpg', '..\\\\train\\\\..\\\\train\\\\Type_2\\\\874.jpg', '..\\\\train\\\\..\\\\train\\\\Type_2\\\\88.jpg', '..\\\\train\\\\..\\\\train\\\\Type_2\\\\882.jpg', '..\\\\train\\\\..\\\\train\\\\Type_2\\\\883.jpg', '..\\\\train\\\\..\\\\train\\\\Type_2\\\\884.jpg', '..\\\\train\\\\..\\\\train\\\\Type_2\\\\886.jpg', '..\\\\train\\\\..\\\\train\\\\Type_2\\\\888.jpg', '..\\\\train\\\\..\\\\train\\\\Type_2\\\\89.jpg', '..\\\\train\\\\..\\\\train\\\\Type_2\\\\894.jpg', '..\\\\train\\\\..\\\\train\\\\Type_2\\\\896.jpg', '..\\\\train\\\\..\\\\train\\\\Type_2\\\\9.jpg', '..\\\\train\\\\..\\\\train\\\\Type_2\\\\90.jpg', '..\\\\train\\\\..\\\\train\\\\Type_2\\\\903.jpg', '..\\\\train\\\\..\\\\train\\\\Type_2\\\\904.jpg', '..\\\\train\\\\..\\\\train\\\\Type_2\\\\905.jpg', '..\\\\train\\\\..\\\\train\\\\Type_2\\\\91.jpg', '..\\\\train\\\\..\\\\train\\\\Type_2\\\\911.jpg', '..\\\\train\\\\..\\\\train\\\\Type_2\\\\912.jpg', '..\\\\train\\\\..\\\\train\\\\Type_2\\\\913.jpg', '..\\\\train\\\\..\\\\train\\\\Type_2\\\\915.jpg', '..\\\\train\\\\..\\\\train\\\\Type_2\\\\919.jpg', '..\\\\train\\\\..\\\\train\\\\Type_2\\\\92.jpg', '..\\\\train\\\\..\\\\train\\\\Type_2\\\\922.jpg', '..\\\\train\\\\..\\\\train\\\\Type_2\\\\925.jpg', '..\\\\train\\\\..\\\\train\\\\Type_2\\\\926.jpg', '..\\\\train\\\\..\\\\train\\\\Type_2\\\\929.jpg', '..\\\\train\\\\..\\\\train\\\\Type_2\\\\93.jpg', '..\\\\train\\\\..\\\\train\\\\Type_2\\\\932.jpg', '..\\\\train\\\\..\\\\train\\\\Type_2\\\\933.jpg', '..\\\\train\\\\..\\\\train\\\\Type_2\\\\934.jpg', '..\\\\train\\\\..\\\\train\\\\Type_2\\\\935.jpg', '..\\\\train\\\\..\\\\train\\\\Type_2\\\\936.jpg', '..\\\\train\\\\..\\\\train\\\\Type_2\\\\937.jpg', '..\\\\train\\\\..\\\\train\\\\Type_2\\\\938.jpg', '..\\\\train\\\\..\\\\train\\\\Type_2\\\\939.jpg', '..\\\\train\\\\..\\\\train\\\\Type_2\\\\94.jpg', '..\\\\train\\\\..\\\\train\\\\Type_2\\\\940.jpg', '..\\\\train\\\\..\\\\train\\\\Type_2\\\\942.jpg', '..\\\\train\\\\..\\\\train\\\\Type_2\\\\946.jpg', '..\\\\train\\\\..\\\\train\\\\Type_2\\\\948.jpg', '..\\\\train\\\\..\\\\train\\\\Type_2\\\\95.jpg', '..\\\\train\\\\..\\\\train\\\\Type_2\\\\955.jpg', '..\\\\train\\\\..\\\\train\\\\Type_2\\\\956.jpg', '..\\\\train\\\\..\\\\train\\\\Type_2\\\\957.jpg', '..\\\\train\\\\..\\\\train\\\\Type_2\\\\958.jpg', '..\\\\train\\\\..\\\\train\\\\Type_2\\\\959.jpg', '..\\\\train\\\\..\\\\train\\\\Type_2\\\\960.jpg', '..\\\\train\\\\..\\\\train\\\\Type_2\\\\961.jpg', '..\\\\train\\\\..\\\\train\\\\Type_2\\\\963.jpg', '..\\\\train\\\\..\\\\train\\\\Type_2\\\\964.jpg', '..\\\\train\\\\..\\\\train\\\\Type_2\\\\966.jpg', '..\\\\train\\\\..\\\\train\\\\Type_2\\\\967.jpg', '..\\\\train\\\\..\\\\train\\\\Type_2\\\\969.jpg', '..\\\\train\\\\..\\\\train\\\\Type_2\\\\97.jpg', '..\\\\train\\\\..\\\\train\\\\Type_2\\\\970.jpg', '..\\\\train\\\\..\\\\train\\\\Type_2\\\\971.jpg', '..\\\\train\\\\..\\\\train\\\\Type_2\\\\973.jpg', '..\\\\train\\\\..\\\\train\\\\Type_2\\\\974.jpg', '..\\\\train\\\\..\\\\train\\\\Type_2\\\\976.jpg', '..\\\\train\\\\..\\\\train\\\\Type_2\\\\978.jpg', '..\\\\train\\\\..\\\\train\\\\Type_2\\\\979.jpg', '..\\\\train\\\\..\\\\train\\\\Type_2\\\\981.jpg', '..\\\\train\\\\..\\\\train\\\\Type_2\\\\985.jpg', '..\\\\train\\\\..\\\\train\\\\Type_2\\\\987.jpg', '..\\\\train\\\\..\\\\train\\\\Type_2\\\\988.jpg', '..\\\\train\\\\..\\\\train\\\\Type_2\\\\989.jpg', '..\\\\train\\\\..\\\\train\\\\Type_2\\\\99.jpg', '..\\\\train\\\\..\\\\train\\\\Type_2\\\\990.jpg', '..\\\\train\\\\..\\\\train\\\\Type_2\\\\992.jpg', '..\\\\train\\\\..\\\\train\\\\Type_2\\\\994.jpg', '..\\\\train\\\\..\\\\train\\\\Type_2\\\\997.jpg', '..\\\\train\\\\..\\\\train\\\\Type_2\\\\999.jpg', '..\\\\train\\\\..\\\\train\\\\Type_3\\\\1000.jpg', '..\\\\train\\\\..\\\\train\\\\Type_3\\\\1003.jpg', '..\\\\train\\\\..\\\\train\\\\Type_3\\\\1004.jpg', '..\\\\train\\\\..\\\\train\\\\Type_3\\\\1007.jpg', '..\\\\train\\\\..\\\\train\\\\Type_3\\\\1008.jpg', '..\\\\train\\\\..\\\\train\\\\Type_3\\\\1009.jpg', '..\\\\train\\\\..\\\\train\\\\Type_3\\\\1015.jpg', '..\\\\train\\\\..\\\\train\\\\Type_3\\\\1020.jpg', '..\\\\train\\\\..\\\\train\\\\Type_3\\\\1028.jpg', '..\\\\train\\\\..\\\\train\\\\Type_3\\\\1029.jpg', '..\\\\train\\\\..\\\\train\\\\Type_3\\\\1030.jpg', '..\\\\train\\\\..\\\\train\\\\Type_3\\\\1031.jpg', '..\\\\train\\\\..\\\\train\\\\Type_3\\\\1034.jpg', '..\\\\train\\\\..\\\\train\\\\Type_3\\\\1037.jpg', '..\\\\train\\\\..\\\\train\\\\Type_3\\\\1041.jpg', '..\\\\train\\\\..\\\\train\\\\Type_3\\\\1045.jpg', '..\\\\train\\\\..\\\\train\\\\Type_3\\\\1048.jpg', '..\\\\train\\\\..\\\\train\\\\Type_3\\\\1052.jpg', '..\\\\train\\\\..\\\\train\\\\Type_3\\\\1053.jpg', '..\\\\train\\\\..\\\\train\\\\Type_3\\\\106.jpg', '..\\\\train\\\\..\\\\train\\\\Type_3\\\\1060.jpg', '..\\\\train\\\\..\\\\train\\\\Type_3\\\\1062.jpg', '..\\\\train\\\\..\\\\train\\\\Type_3\\\\1063.jpg', '..\\\\train\\\\..\\\\train\\\\Type_3\\\\1064.jpg', '..\\\\train\\\\..\\\\train\\\\Type_3\\\\1069.jpg', '..\\\\train\\\\..\\\\train\\\\Type_3\\\\108.jpg', '..\\\\train\\\\..\\\\train\\\\Type_3\\\\1080.jpg', '..\\\\train\\\\..\\\\train\\\\Type_3\\\\1081.jpg', '..\\\\train\\\\..\\\\train\\\\Type_3\\\\1082.jpg', '..\\\\train\\\\..\\\\train\\\\Type_3\\\\1086.jpg', '..\\\\train\\\\..\\\\train\\\\Type_3\\\\1088.jpg', '..\\\\train\\\\..\\\\train\\\\Type_3\\\\1092.jpg', '..\\\\train\\\\..\\\\train\\\\Type_3\\\\1094.jpg', '..\\\\train\\\\..\\\\train\\\\Type_3\\\\1095.jpg', '..\\\\train\\\\..\\\\train\\\\Type_3\\\\11.jpg', '..\\\\train\\\\..\\\\train\\\\Type_3\\\\1101.jpg', '..\\\\train\\\\..\\\\train\\\\Type_3\\\\1107.jpg', '..\\\\train\\\\..\\\\train\\\\Type_3\\\\1108.jpg', '..\\\\train\\\\..\\\\train\\\\Type_3\\\\111.jpg', '..\\\\train\\\\..\\\\train\\\\Type_3\\\\1110.jpg', '..\\\\train\\\\..\\\\train\\\\Type_3\\\\1111.jpg', '..\\\\train\\\\..\\\\train\\\\Type_3\\\\1112.jpg', '..\\\\train\\\\..\\\\train\\\\Type_3\\\\1113.jpg', '..\\\\train\\\\..\\\\train\\\\Type_3\\\\1120.jpg', '..\\\\train\\\\..\\\\train\\\\Type_3\\\\1127.jpg', '..\\\\train\\\\..\\\\train\\\\Type_3\\\\1128.jpg', '..\\\\train\\\\..\\\\train\\\\Type_3\\\\1129.jpg', '..\\\\train\\\\..\\\\train\\\\Type_3\\\\113.jpg', '..\\\\train\\\\..\\\\train\\\\Type_3\\\\1133.jpg', '..\\\\train\\\\..\\\\train\\\\Type_3\\\\1137.jpg', '..\\\\train\\\\..\\\\train\\\\Type_3\\\\114.jpg', '..\\\\train\\\\..\\\\train\\\\Type_3\\\\1150.jpg', '..\\\\train\\\\..\\\\train\\\\Type_3\\\\1153.jpg', '..\\\\train\\\\..\\\\train\\\\Type_3\\\\1157.jpg', '..\\\\train\\\\..\\\\train\\\\Type_3\\\\1162.jpg', '..\\\\train\\\\..\\\\train\\\\Type_3\\\\1163.jpg', '..\\\\train\\\\..\\\\train\\\\Type_3\\\\1164.jpg', '..\\\\train\\\\..\\\\train\\\\Type_3\\\\1165.jpg', '..\\\\train\\\\..\\\\train\\\\Type_3\\\\1166.jpg', '..\\\\train\\\\..\\\\train\\\\Type_3\\\\1167.jpg', '..\\\\train\\\\..\\\\train\\\\Type_3\\\\1177.jpg', '..\\\\train\\\\..\\\\train\\\\Type_3\\\\118.jpg', '..\\\\train\\\\..\\\\train\\\\Type_3\\\\1182.jpg', '..\\\\train\\\\..\\\\train\\\\Type_3\\\\1183.jpg', '..\\\\train\\\\..\\\\train\\\\Type_3\\\\1191.jpg', '..\\\\train\\\\..\\\\train\\\\Type_3\\\\1200.jpg', '..\\\\train\\\\..\\\\train\\\\Type_3\\\\1206.jpg', '..\\\\train\\\\..\\\\train\\\\Type_3\\\\1207.jpg', '..\\\\train\\\\..\\\\train\\\\Type_3\\\\1208.jpg', '..\\\\train\\\\..\\\\train\\\\Type_3\\\\1221.jpg', '..\\\\train\\\\..\\\\train\\\\Type_3\\\\1224.jpg', '..\\\\train\\\\..\\\\train\\\\Type_3\\\\1232.jpg', '..\\\\train\\\\..\\\\train\\\\Type_3\\\\1235.jpg', '..\\\\train\\\\..\\\\train\\\\Type_3\\\\1237.jpg', '..\\\\train\\\\..\\\\train\\\\Type_3\\\\124.jpg', '..\\\\train\\\\..\\\\train\\\\Type_3\\\\1244.jpg', '..\\\\train\\\\..\\\\train\\\\Type_3\\\\1248.jpg', '..\\\\train\\\\..\\\\train\\\\Type_3\\\\125.jpg', '..\\\\train\\\\..\\\\train\\\\Type_3\\\\1252.jpg', '..\\\\train\\\\..\\\\train\\\\Type_3\\\\1254.jpg', '..\\\\train\\\\..\\\\train\\\\Type_3\\\\1256.jpg', '..\\\\train\\\\..\\\\train\\\\Type_3\\\\1259.jpg', '..\\\\train\\\\..\\\\train\\\\Type_3\\\\1265.jpg', '..\\\\train\\\\..\\\\train\\\\Type_3\\\\1268.jpg', '..\\\\train\\\\..\\\\train\\\\Type_3\\\\1270.jpg', '..\\\\train\\\\..\\\\train\\\\Type_3\\\\1275.jpg', '..\\\\train\\\\..\\\\train\\\\Type_3\\\\1277.jpg', '..\\\\train\\\\..\\\\train\\\\Type_3\\\\1278.jpg', '..\\\\train\\\\..\\\\train\\\\Type_3\\\\1280.jpg', '..\\\\train\\\\..\\\\train\\\\Type_3\\\\1284.jpg', '..\\\\train\\\\..\\\\train\\\\Type_3\\\\1286.jpg', '..\\\\train\\\\..\\\\train\\\\Type_3\\\\1287.jpg', '..\\\\train\\\\..\\\\train\\\\Type_3\\\\1291.jpg', '..\\\\train\\\\..\\\\train\\\\Type_3\\\\1296.jpg', '..\\\\train\\\\..\\\\train\\\\Type_3\\\\130.jpg', '..\\\\train\\\\..\\\\train\\\\Type_3\\\\1300.jpg', '..\\\\train\\\\..\\\\train\\\\Type_3\\\\1306.jpg', '..\\\\train\\\\..\\\\train\\\\Type_3\\\\1307.jpg', '..\\\\train\\\\..\\\\train\\\\Type_3\\\\1309.jpg', '..\\\\train\\\\..\\\\train\\\\Type_3\\\\132.jpg', '..\\\\train\\\\..\\\\train\\\\Type_3\\\\1323.jpg', '..\\\\train\\\\..\\\\train\\\\Type_3\\\\1332.jpg', '..\\\\train\\\\..\\\\train\\\\Type_3\\\\1333.jpg', '..\\\\train\\\\..\\\\train\\\\Type_3\\\\1335.jpg', '..\\\\train\\\\..\\\\train\\\\Type_3\\\\1341.jpg', '..\\\\train\\\\..\\\\train\\\\Type_3\\\\1347.jpg', '..\\\\train\\\\..\\\\train\\\\Type_3\\\\135.jpg', '..\\\\train\\\\..\\\\train\\\\Type_3\\\\1350.jpg', '..\\\\train\\\\..\\\\train\\\\Type_3\\\\1351.jpg', '..\\\\train\\\\..\\\\train\\\\Type_3\\\\1355.jpg', '..\\\\train\\\\..\\\\train\\\\Type_3\\\\1360.jpg', '..\\\\train\\\\..\\\\train\\\\Type_3\\\\1364.jpg', '..\\\\train\\\\..\\\\train\\\\Type_3\\\\1366.jpg', '..\\\\train\\\\..\\\\train\\\\Type_3\\\\1367.jpg', '..\\\\train\\\\..\\\\train\\\\Type_3\\\\1372.jpg', '..\\\\train\\\\..\\\\train\\\\Type_3\\\\1374.jpg', '..\\\\train\\\\..\\\\train\\\\Type_3\\\\1375.jpg', '..\\\\train\\\\..\\\\train\\\\Type_3\\\\1382.jpg', '..\\\\train\\\\..\\\\train\\\\Type_3\\\\1387.jpg', '..\\\\train\\\\..\\\\train\\\\Type_3\\\\1394.jpg', '..\\\\train\\\\..\\\\train\\\\Type_3\\\\1396.jpg', '..\\\\train\\\\..\\\\train\\\\Type_3\\\\1397.jpg', '..\\\\train\\\\..\\\\train\\\\Type_3\\\\1400.jpg', '..\\\\train\\\\..\\\\train\\\\Type_3\\\\1401.jpg', '..\\\\train\\\\..\\\\train\\\\Type_3\\\\1402.jpg', '..\\\\train\\\\..\\\\train\\\\Type_3\\\\1403.jpg', '..\\\\train\\\\..\\\\train\\\\Type_3\\\\1404.jpg', '..\\\\train\\\\..\\\\train\\\\Type_3\\\\1408.jpg', '..\\\\train\\\\..\\\\train\\\\Type_3\\\\1409.jpg', '..\\\\train\\\\..\\\\train\\\\Type_3\\\\141.jpg', '..\\\\train\\\\..\\\\train\\\\Type_3\\\\1410.jpg', '..\\\\train\\\\..\\\\train\\\\Type_3\\\\1412.jpg', '..\\\\train\\\\..\\\\train\\\\Type_3\\\\1417.jpg', '..\\\\train\\\\..\\\\train\\\\Type_3\\\\1420.jpg', '..\\\\train\\\\..\\\\train\\\\Type_3\\\\1423.jpg', '..\\\\train\\\\..\\\\train\\\\Type_3\\\\1425.jpg', '..\\\\train\\\\..\\\\train\\\\Type_3\\\\1429.jpg', '..\\\\train\\\\..\\\\train\\\\Type_3\\\\143.jpg', '..\\\\train\\\\..\\\\train\\\\Type_3\\\\1431.jpg', '..\\\\train\\\\..\\\\train\\\\Type_3\\\\1434.jpg', '..\\\\train\\\\..\\\\train\\\\Type_3\\\\1442.jpg', '..\\\\train\\\\..\\\\train\\\\Type_3\\\\1447.jpg', '..\\\\train\\\\..\\\\train\\\\Type_3\\\\1448.jpg', '..\\\\train\\\\..\\\\train\\\\Type_3\\\\145.jpg', '..\\\\train\\\\..\\\\train\\\\Type_3\\\\1455.jpg', '..\\\\train\\\\..\\\\train\\\\Type_3\\\\1458.jpg', '..\\\\train\\\\..\\\\train\\\\Type_3\\\\1459.jpg', '..\\\\train\\\\..\\\\train\\\\Type_3\\\\146.jpg', '..\\\\train\\\\..\\\\train\\\\Type_3\\\\1460.jpg', '..\\\\train\\\\..\\\\train\\\\Type_3\\\\1461.jpg', '..\\\\train\\\\..\\\\train\\\\Type_3\\\\1469.jpg', '..\\\\train\\\\..\\\\train\\\\Type_3\\\\1470.jpg', '..\\\\train\\\\..\\\\train\\\\Type_3\\\\1475.jpg', '..\\\\train\\\\..\\\\train\\\\Type_3\\\\1477.jpg', '..\\\\train\\\\..\\\\train\\\\Type_3\\\\1479.jpg', '..\\\\train\\\\..\\\\train\\\\Type_3\\\\150.jpg', '..\\\\train\\\\..\\\\train\\\\Type_3\\\\154.jpg', '..\\\\train\\\\..\\\\train\\\\Type_3\\\\155.jpg', '..\\\\train\\\\..\\\\train\\\\Type_3\\\\158.jpg', '..\\\\train\\\\..\\\\train\\\\Type_3\\\\16.jpg', '..\\\\train\\\\..\\\\train\\\\Type_3\\\\163.jpg', '..\\\\train\\\\..\\\\train\\\\Type_3\\\\166.jpg', '..\\\\train\\\\..\\\\train\\\\Type_3\\\\169.jpg', '..\\\\train\\\\..\\\\train\\\\Type_3\\\\170.jpg', '..\\\\train\\\\..\\\\train\\\\Type_3\\\\172.jpg', '..\\\\train\\\\..\\\\train\\\\Type_3\\\\174.jpg', '..\\\\train\\\\..\\\\train\\\\Type_3\\\\179.jpg', '..\\\\train\\\\..\\\\train\\\\Type_3\\\\18.jpg', '..\\\\train\\\\..\\\\train\\\\Type_3\\\\187.jpg', '..\\\\train\\\\..\\\\train\\\\Type_3\\\\188.jpg', '..\\\\train\\\\..\\\\train\\\\Type_3\\\\193.jpg', '..\\\\train\\\\..\\\\train\\\\Type_3\\\\194.jpg', '..\\\\train\\\\..\\\\train\\\\Type_3\\\\196.jpg', '..\\\\train\\\\..\\\\train\\\\Type_3\\\\197.jpg', '..\\\\train\\\\..\\\\train\\\\Type_3\\\\199.jpg', '..\\\\train\\\\..\\\\train\\\\Type_3\\\\20.jpg', '..\\\\train\\\\..\\\\train\\\\Type_3\\\\200.jpg', '..\\\\train\\\\..\\\\train\\\\Type_3\\\\202.jpg', '..\\\\train\\\\..\\\\train\\\\Type_3\\\\207.jpg', '..\\\\train\\\\..\\\\train\\\\Type_3\\\\211.jpg', '..\\\\train\\\\..\\\\train\\\\Type_3\\\\212.jpg', '..\\\\train\\\\..\\\\train\\\\Type_3\\\\214.jpg', '..\\\\train\\\\..\\\\train\\\\Type_3\\\\217.jpg', '..\\\\train\\\\..\\\\train\\\\Type_3\\\\220.jpg', '..\\\\train\\\\..\\\\train\\\\Type_3\\\\221.jpg', '..\\\\train\\\\..\\\\train\\\\Type_3\\\\222.jpg', '..\\\\train\\\\..\\\\train\\\\Type_3\\\\226.jpg', '..\\\\train\\\\..\\\\train\\\\Type_3\\\\228.jpg', '..\\\\train\\\\..\\\\train\\\\Type_3\\\\23.jpg', '..\\\\train\\\\..\\\\train\\\\Type_3\\\\232.jpg', '..\\\\train\\\\..\\\\train\\\\Type_3\\\\242.jpg', '..\\\\train\\\\..\\\\train\\\\Type_3\\\\247.jpg', '..\\\\train\\\\..\\\\train\\\\Type_3\\\\249.jpg', '..\\\\train\\\\..\\\\train\\\\Type_3\\\\25.jpg', '..\\\\train\\\\..\\\\train\\\\Type_3\\\\253.jpg', '..\\\\train\\\\..\\\\train\\\\Type_3\\\\256.jpg', '..\\\\train\\\\..\\\\train\\\\Type_3\\\\258.jpg', '..\\\\train\\\\..\\\\train\\\\Type_3\\\\259.jpg', '..\\\\train\\\\..\\\\train\\\\Type_3\\\\260.jpg', '..\\\\train\\\\..\\\\train\\\\Type_3\\\\261.jpg', '..\\\\train\\\\..\\\\train\\\\Type_3\\\\263.jpg', '..\\\\train\\\\..\\\\train\\\\Type_3\\\\269.jpg', '..\\\\train\\\\..\\\\train\\\\Type_3\\\\272.jpg', '..\\\\train\\\\..\\\\train\\\\Type_3\\\\273.jpg', '..\\\\train\\\\..\\\\train\\\\Type_3\\\\275.jpg', '..\\\\train\\\\..\\\\train\\\\Type_3\\\\277.jpg', '..\\\\train\\\\..\\\\train\\\\Type_3\\\\280.jpg', '..\\\\train\\\\..\\\\train\\\\Type_3\\\\286.jpg', '..\\\\train\\\\..\\\\train\\\\Type_3\\\\287.jpg', '..\\\\train\\\\..\\\\train\\\\Type_3\\\\289.jpg', '..\\\\train\\\\..\\\\train\\\\Type_3\\\\292.jpg', '..\\\\train\\\\..\\\\train\\\\Type_3\\\\295.jpg', '..\\\\train\\\\..\\\\train\\\\Type_3\\\\299.jpg', '..\\\\train\\\\..\\\\train\\\\Type_3\\\\3.jpg', '..\\\\train\\\\..\\\\train\\\\Type_3\\\\30.jpg', '..\\\\train\\\\..\\\\train\\\\Type_3\\\\300.jpg', '..\\\\train\\\\..\\\\train\\\\Type_3\\\\304.jpg', '..\\\\train\\\\..\\\\train\\\\Type_3\\\\307.jpg', '..\\\\train\\\\..\\\\train\\\\Type_3\\\\309.jpg', '..\\\\train\\\\..\\\\train\\\\Type_3\\\\318.jpg', '..\\\\train\\\\..\\\\train\\\\Type_3\\\\320.jpg', '..\\\\train\\\\..\\\\train\\\\Type_3\\\\321.jpg', '..\\\\train\\\\..\\\\train\\\\Type_3\\\\322.jpg', '..\\\\train\\\\..\\\\train\\\\Type_3\\\\323.jpg', '..\\\\train\\\\..\\\\train\\\\Type_3\\\\324.jpg', '..\\\\train\\\\..\\\\train\\\\Type_3\\\\325.jpg', '..\\\\train\\\\..\\\\train\\\\Type_3\\\\327.jpg', '..\\\\train\\\\..\\\\train\\\\Type_3\\\\328.jpg', '..\\\\train\\\\..\\\\train\\\\Type_3\\\\33.jpg', '..\\\\train\\\\..\\\\train\\\\Type_3\\\\335.jpg', '..\\\\train\\\\..\\\\train\\\\Type_3\\\\336.jpg', '..\\\\train\\\\..\\\\train\\\\Type_3\\\\344.jpg', '..\\\\train\\\\..\\\\train\\\\Type_3\\\\347.jpg', '..\\\\train\\\\..\\\\train\\\\Type_3\\\\350.jpg', '..\\\\train\\\\..\\\\train\\\\Type_3\\\\352.jpg', '..\\\\train\\\\..\\\\train\\\\Type_3\\\\355.jpg', '..\\\\train\\\\..\\\\train\\\\Type_3\\\\357.jpg', '..\\\\train\\\\..\\\\train\\\\Type_3\\\\361.jpg', '..\\\\train\\\\..\\\\train\\\\Type_3\\\\362.jpg', '..\\\\train\\\\..\\\\train\\\\Type_3\\\\363.jpg', '..\\\\train\\\\..\\\\train\\\\Type_3\\\\370.jpg', '..\\\\train\\\\..\\\\train\\\\Type_3\\\\373.jpg', '..\\\\train\\\\..\\\\train\\\\Type_3\\\\38.jpg', '..\\\\train\\\\..\\\\train\\\\Type_3\\\\380.jpg', '..\\\\train\\\\..\\\\train\\\\Type_3\\\\390.jpg', '..\\\\train\\\\..\\\\train\\\\Type_3\\\\391.jpg', '..\\\\train\\\\..\\\\train\\\\Type_3\\\\392.jpg', '..\\\\train\\\\..\\\\train\\\\Type_3\\\\399.jpg', '..\\\\train\\\\..\\\\train\\\\Type_3\\\\402.jpg', '..\\\\train\\\\..\\\\train\\\\Type_3\\\\405.jpg', '..\\\\train\\\\..\\\\train\\\\Type_3\\\\409.jpg', '..\\\\train\\\\..\\\\train\\\\Type_3\\\\415.jpg', '..\\\\train\\\\..\\\\train\\\\Type_3\\\\417.jpg', '..\\\\train\\\\..\\\\train\\\\Type_3\\\\422.jpg', '..\\\\train\\\\..\\\\train\\\\Type_3\\\\424.jpg', '..\\\\train\\\\..\\\\train\\\\Type_3\\\\426.jpg', '..\\\\train\\\\..\\\\train\\\\Type_3\\\\427.jpg', '..\\\\train\\\\..\\\\train\\\\Type_3\\\\430.jpg', '..\\\\train\\\\..\\\\train\\\\Type_3\\\\431.jpg', '..\\\\train\\\\..\\\\train\\\\Type_3\\\\433.jpg', '..\\\\train\\\\..\\\\train\\\\Type_3\\\\435.jpg', '..\\\\train\\\\..\\\\train\\\\Type_3\\\\436.jpg', '..\\\\train\\\\..\\\\train\\\\Type_3\\\\439.jpg', '..\\\\train\\\\..\\\\train\\\\Type_3\\\\450.jpg', '..\\\\train\\\\..\\\\train\\\\Type_3\\\\459.jpg', '..\\\\train\\\\..\\\\train\\\\Type_3\\\\465.jpg', '..\\\\train\\\\..\\\\train\\\\Type_3\\\\466.jpg', '..\\\\train\\\\..\\\\train\\\\Type_3\\\\467.jpg', '..\\\\train\\\\..\\\\train\\\\Type_3\\\\468.jpg', '..\\\\train\\\\..\\\\train\\\\Type_3\\\\475.jpg', '..\\\\train\\\\..\\\\train\\\\Type_3\\\\477.jpg', '..\\\\train\\\\..\\\\train\\\\Type_3\\\\479.jpg', '..\\\\train\\\\..\\\\train\\\\Type_3\\\\480.jpg', '..\\\\train\\\\..\\\\train\\\\Type_3\\\\489.jpg', '..\\\\train\\\\..\\\\train\\\\Type_3\\\\49.jpg', '..\\\\train\\\\..\\\\train\\\\Type_3\\\\491.jpg', '..\\\\train\\\\..\\\\train\\\\Type_3\\\\492.jpg', '..\\\\train\\\\..\\\\train\\\\Type_3\\\\494.jpg', '..\\\\train\\\\..\\\\train\\\\Type_3\\\\495.jpg', '..\\\\train\\\\..\\\\train\\\\Type_3\\\\498.jpg', '..\\\\train\\\\..\\\\train\\\\Type_3\\\\5.jpg', '..\\\\train\\\\..\\\\train\\\\Type_3\\\\50.jpg', '..\\\\train\\\\..\\\\train\\\\Type_3\\\\500.jpg', '..\\\\train\\\\..\\\\train\\\\Type_3\\\\510.jpg', '..\\\\train\\\\..\\\\train\\\\Type_3\\\\511.jpg', '..\\\\train\\\\..\\\\train\\\\Type_3\\\\512.jpg', '..\\\\train\\\\..\\\\train\\\\Type_3\\\\514.jpg', '..\\\\train\\\\..\\\\train\\\\Type_3\\\\519.jpg', '..\\\\train\\\\..\\\\train\\\\Type_3\\\\520.jpg', '..\\\\train\\\\..\\\\train\\\\Type_3\\\\527.jpg', '..\\\\train\\\\..\\\\train\\\\Type_3\\\\530.jpg', '..\\\\train\\\\..\\\\train\\\\Type_3\\\\543.jpg', '..\\\\train\\\\..\\\\train\\\\Type_3\\\\554.jpg', '..\\\\train\\\\..\\\\train\\\\Type_3\\\\555.jpg', '..\\\\train\\\\..\\\\train\\\\Type_3\\\\565.jpg', '..\\\\train\\\\..\\\\train\\\\Type_3\\\\567.jpg', '..\\\\train\\\\..\\\\train\\\\Type_3\\\\571.jpg', '..\\\\train\\\\..\\\\train\\\\Type_3\\\\573.jpg', '..\\\\train\\\\..\\\\train\\\\Type_3\\\\575.jpg', '..\\\\train\\\\..\\\\train\\\\Type_3\\\\58.jpg', '..\\\\train\\\\..\\\\train\\\\Type_3\\\\585.jpg', '..\\\\train\\\\..\\\\train\\\\Type_3\\\\587.jpg', '..\\\\train\\\\..\\\\train\\\\Type_3\\\\59.jpg', '..\\\\train\\\\..\\\\train\\\\Type_3\\\\590.jpg', '..\\\\train\\\\..\\\\train\\\\Type_3\\\\594.jpg', '..\\\\train\\\\..\\\\train\\\\Type_3\\\\598.jpg', '..\\\\train\\\\..\\\\train\\\\Type_3\\\\599.jpg', '..\\\\train\\\\..\\\\train\\\\Type_3\\\\600.jpg', '..\\\\train\\\\..\\\\train\\\\Type_3\\\\604.jpg', '..\\\\train\\\\..\\\\train\\\\Type_3\\\\606.jpg', '..\\\\train\\\\..\\\\train\\\\Type_3\\\\61.jpg', '..\\\\train\\\\..\\\\train\\\\Type_3\\\\617.jpg', '..\\\\train\\\\..\\\\train\\\\Type_3\\\\62.jpg', '..\\\\train\\\\..\\\\train\\\\Type_3\\\\625.jpg', '..\\\\train\\\\..\\\\train\\\\Type_3\\\\626.jpg', '..\\\\train\\\\..\\\\train\\\\Type_3\\\\627.jpg', '..\\\\train\\\\..\\\\train\\\\Type_3\\\\628.jpg', '..\\\\train\\\\..\\\\train\\\\Type_3\\\\629.jpg', '..\\\\train\\\\..\\\\train\\\\Type_3\\\\63.jpg', '..\\\\train\\\\..\\\\train\\\\Type_3\\\\630.jpg', '..\\\\train\\\\..\\\\train\\\\Type_3\\\\631.jpg', '..\\\\train\\\\..\\\\train\\\\Type_3\\\\635.jpg', '..\\\\train\\\\..\\\\train\\\\Type_3\\\\636.jpg', '..\\\\train\\\\..\\\\train\\\\Type_3\\\\637.jpg', '..\\\\train\\\\..\\\\train\\\\Type_3\\\\638.jpg', '..\\\\train\\\\..\\\\train\\\\Type_3\\\\646.jpg', '..\\\\train\\\\..\\\\train\\\\Type_3\\\\650.jpg', '..\\\\train\\\\..\\\\train\\\\Type_3\\\\654.jpg', '..\\\\train\\\\..\\\\train\\\\Type_3\\\\661.jpg', '..\\\\train\\\\..\\\\train\\\\Type_3\\\\664.jpg', '..\\\\train\\\\..\\\\train\\\\Type_3\\\\669.jpg', '..\\\\train\\\\..\\\\train\\\\Type_3\\\\670.jpg', '..\\\\train\\\\..\\\\train\\\\Type_3\\\\672.jpg', '..\\\\train\\\\..\\\\train\\\\Type_3\\\\675.jpg', '..\\\\train\\\\..\\\\train\\\\Type_3\\\\679.jpg', '..\\\\train\\\\..\\\\train\\\\Type_3\\\\682.jpg', '..\\\\train\\\\..\\\\train\\\\Type_3\\\\689.jpg', '..\\\\train\\\\..\\\\train\\\\Type_3\\\\69.jpg', '..\\\\train\\\\..\\\\train\\\\Type_3\\\\690.jpg', '..\\\\train\\\\..\\\\train\\\\Type_3\\\\692.jpg', '..\\\\train\\\\..\\\\train\\\\Type_3\\\\694.jpg', '..\\\\train\\\\..\\\\train\\\\Type_3\\\\695.jpg', '..\\\\train\\\\..\\\\train\\\\Type_3\\\\697.jpg', '..\\\\train\\\\..\\\\train\\\\Type_3\\\\70.jpg', '..\\\\train\\\\..\\\\train\\\\Type_3\\\\706.jpg', '..\\\\train\\\\..\\\\train\\\\Type_3\\\\71.jpg', '..\\\\train\\\\..\\\\train\\\\Type_3\\\\711.jpg', '..\\\\train\\\\..\\\\train\\\\Type_3\\\\715.jpg', '..\\\\train\\\\..\\\\train\\\\Type_3\\\\721.jpg', '..\\\\train\\\\..\\\\train\\\\Type_3\\\\728.jpg', '..\\\\train\\\\..\\\\train\\\\Type_3\\\\73.jpg', '..\\\\train\\\\..\\\\train\\\\Type_3\\\\731.jpg', '..\\\\train\\\\..\\\\train\\\\Type_3\\\\733.jpg', '..\\\\train\\\\..\\\\train\\\\Type_3\\\\734.jpg', '..\\\\train\\\\..\\\\train\\\\Type_3\\\\735.jpg', '..\\\\train\\\\..\\\\train\\\\Type_3\\\\736.jpg', '..\\\\train\\\\..\\\\train\\\\Type_3\\\\737.jpg', '..\\\\train\\\\..\\\\train\\\\Type_3\\\\740.jpg', '..\\\\train\\\\..\\\\train\\\\Type_3\\\\742.jpg', '..\\\\train\\\\..\\\\train\\\\Type_3\\\\746.jpg', '..\\\\train\\\\..\\\\train\\\\Type_3\\\\747.jpg', '..\\\\train\\\\..\\\\train\\\\Type_3\\\\750.jpg', '..\\\\train\\\\..\\\\train\\\\Type_3\\\\752.jpg', '..\\\\train\\\\..\\\\train\\\\Type_3\\\\755.jpg', '..\\\\train\\\\..\\\\train\\\\Type_3\\\\757.jpg', '..\\\\train\\\\..\\\\train\\\\Type_3\\\\758.jpg', '..\\\\train\\\\..\\\\train\\\\Type_3\\\\766.jpg', '..\\\\train\\\\..\\\\train\\\\Type_3\\\\767.jpg', '..\\\\train\\\\..\\\\train\\\\Type_3\\\\770.jpg', '..\\\\train\\\\..\\\\train\\\\Type_3\\\\773.jpg', '..\\\\train\\\\..\\\\train\\\\Type_3\\\\774.jpg', '..\\\\train\\\\..\\\\train\\\\Type_3\\\\776.jpg', '..\\\\train\\\\..\\\\train\\\\Type_3\\\\778.jpg', '..\\\\train\\\\..\\\\train\\\\Type_3\\\\780.jpg', '..\\\\train\\\\..\\\\train\\\\Type_3\\\\782.jpg', '..\\\\train\\\\..\\\\train\\\\Type_3\\\\784.jpg', '..\\\\train\\\\..\\\\train\\\\Type_3\\\\788.jpg', '..\\\\train\\\\..\\\\train\\\\Type_3\\\\796.jpg', '..\\\\train\\\\..\\\\train\\\\Type_3\\\\799.jpg', '..\\\\train\\\\..\\\\train\\\\Type_3\\\\800.jpg', '..\\\\train\\\\..\\\\train\\\\Type_3\\\\801.jpg', '..\\\\train\\\\..\\\\train\\\\Type_3\\\\803.jpg', '..\\\\train\\\\..\\\\train\\\\Type_3\\\\806.jpg', '..\\\\train\\\\..\\\\train\\\\Type_3\\\\808.jpg', '..\\\\train\\\\..\\\\train\\\\Type_3\\\\811.jpg', '..\\\\train\\\\..\\\\train\\\\Type_3\\\\812.jpg', '..\\\\train\\\\..\\\\train\\\\Type_3\\\\818.jpg', '..\\\\train\\\\..\\\\train\\\\Type_3\\\\82.jpg', '..\\\\train\\\\..\\\\train\\\\Type_3\\\\820.jpg', '..\\\\train\\\\..\\\\train\\\\Type_3\\\\822.jpg', '..\\\\train\\\\..\\\\train\\\\Type_3\\\\823.jpg', '..\\\\train\\\\..\\\\train\\\\Type_3\\\\825.jpg', '..\\\\train\\\\..\\\\train\\\\Type_3\\\\828.jpg', '..\\\\train\\\\..\\\\train\\\\Type_3\\\\83.jpg', '..\\\\train\\\\..\\\\train\\\\Type_3\\\\835.jpg', '..\\\\train\\\\..\\\\train\\\\Type_3\\\\837.jpg', '..\\\\train\\\\..\\\\train\\\\Type_3\\\\839.jpg', '..\\\\train\\\\..\\\\train\\\\Type_3\\\\840.jpg', '..\\\\train\\\\..\\\\train\\\\Type_3\\\\845.jpg', '..\\\\train\\\\..\\\\train\\\\Type_3\\\\848.jpg', '..\\\\train\\\\..\\\\train\\\\Type_3\\\\853.jpg', '..\\\\train\\\\..\\\\train\\\\Type_3\\\\864.jpg', '..\\\\train\\\\..\\\\train\\\\Type_3\\\\866.jpg', '..\\\\train\\\\..\\\\train\\\\Type_3\\\\869.jpg', '..\\\\train\\\\..\\\\train\\\\Type_3\\\\87.jpg', '..\\\\train\\\\..\\\\train\\\\Type_3\\\\870.jpg', '..\\\\train\\\\..\\\\train\\\\Type_3\\\\872.jpg', '..\\\\train\\\\..\\\\train\\\\Type_3\\\\875.jpg', '..\\\\train\\\\..\\\\train\\\\Type_3\\\\876.jpg', '..\\\\train\\\\..\\\\train\\\\Type_3\\\\877.jpg', '..\\\\train\\\\..\\\\train\\\\Type_3\\\\878.jpg', '..\\\\train\\\\..\\\\train\\\\Type_3\\\\881.jpg', '..\\\\train\\\\..\\\\train\\\\Type_3\\\\885.jpg', '..\\\\train\\\\..\\\\train\\\\Type_3\\\\892.jpg', '..\\\\train\\\\..\\\\train\\\\Type_3\\\\893.jpg', '..\\\\train\\\\..\\\\train\\\\Type_3\\\\897.jpg', '..\\\\train\\\\..\\\\train\\\\Type_3\\\\898.jpg', '..\\\\train\\\\..\\\\train\\\\Type_3\\\\899.jpg', '..\\\\train\\\\..\\\\train\\\\Type_3\\\\900.jpg', '..\\\\train\\\\..\\\\train\\\\Type_3\\\\902.jpg', '..\\\\train\\\\..\\\\train\\\\Type_3\\\\907.jpg', '..\\\\train\\\\..\\\\train\\\\Type_3\\\\909.jpg', '..\\\\train\\\\..\\\\train\\\\Type_3\\\\910.jpg', '..\\\\train\\\\..\\\\train\\\\Type_3\\\\914.jpg', '..\\\\train\\\\..\\\\train\\\\Type_3\\\\916.jpg', '..\\\\train\\\\..\\\\train\\\\Type_3\\\\923.jpg', '..\\\\train\\\\..\\\\train\\\\Type_3\\\\924.jpg', '..\\\\train\\\\..\\\\train\\\\Type_3\\\\927.jpg', '..\\\\train\\\\..\\\\train\\\\Type_3\\\\931.jpg', '..\\\\train\\\\..\\\\train\\\\Type_3\\\\941.jpg', '..\\\\train\\\\..\\\\train\\\\Type_3\\\\943.jpg', '..\\\\train\\\\..\\\\train\\\\Type_3\\\\944.jpg', '..\\\\train\\\\..\\\\train\\\\Type_3\\\\945.jpg', '..\\\\train\\\\..\\\\train\\\\Type_3\\\\947.jpg', '..\\\\train\\\\..\\\\train\\\\Type_3\\\\949.jpg', '..\\\\train\\\\..\\\\train\\\\Type_3\\\\950.jpg', '..\\\\train\\\\..\\\\train\\\\Type_3\\\\951.jpg', '..\\\\train\\\\..\\\\train\\\\Type_3\\\\952.jpg', '..\\\\train\\\\..\\\\train\\\\Type_3\\\\953.jpg', '..\\\\train\\\\..\\\\train\\\\Type_3\\\\954.jpg', '..\\\\train\\\\..\\\\train\\\\Type_3\\\\962.jpg', '..\\\\train\\\\..\\\\train\\\\Type_3\\\\968.jpg', '..\\\\train\\\\..\\\\train\\\\Type_3\\\\975.jpg', '..\\\\train\\\\..\\\\train\\\\Type_3\\\\98.jpg', '..\\\\train\\\\..\\\\train\\\\Type_3\\\\980.jpg', '..\\\\train\\\\..\\\\train\\\\Type_3\\\\983.jpg', '..\\\\train\\\\..\\\\train\\\\Type_3\\\\986.jpg', '..\\\\train\\\\..\\\\train\\\\Type_3\\\\993.jpg', '..\\\\train\\\\..\\\\train\\\\Type_3\\\\995.jpg', '..\\\\train\\\\..\\\\train\\\\Type_3\\\\996.jpg']\n",
      "Wall time: 31.6 ms\n"
     ]
    }
   ],
   "source": [
    "%%time\n",
    "imagePaths = []\n",
    "for path in sorted(glob(basepath + \"\\*\")):\n",
    "    # escape \\\n",
    "    cervix_type = path.split(\"\\\\\")[-1]\n",
    "    #print(cervix_type)\n",
    "    imagefolders = (glob(basepath + path + \"\\\\*\"))\n",
    "    imagePaths = imagePaths + imagefolders\n",
    " \n",
    "\n",
    "#random.seed(42)\n",
    "#random.shuffle(imagePaths)\n",
    "\n",
    "print(imagePaths)\n"
   ]
  },
  {
   "cell_type": "code",
   "execution_count": 190,
   "metadata": {
    "collapsed": false
   },
   "outputs": [
    {
     "data": {
      "text/plain": [
       "1480"
      ]
     },
     "execution_count": 190,
     "metadata": {},
     "output_type": "execute_result"
    }
   ],
   "source": [
    "len(imagePaths)"
   ]
  },
  {
   "cell_type": "code",
   "execution_count": 191,
   "metadata": {
    "collapsed": false
   },
   "outputs": [
    {
     "ename": "KeyboardInterrupt",
     "evalue": "",
     "output_type": "error",
     "traceback": [
      "\u001b[0;31m---------------------------------------------------------------------------\u001b[0m",
      "\u001b[0;31mKeyboardInterrupt\u001b[0m                         Traceback (most recent call last)",
      "\u001b[0;32m<ipython-input-191-6fd671918915>\u001b[0m in \u001b[0;36m<module>\u001b[0;34m()\u001b[0m\n\u001b[0;32m----> 1\u001b[0;31m \u001b[0mget_ipython\u001b[0m\u001b[1;33m(\u001b[0m\u001b[1;33m)\u001b[0m\u001b[1;33m.\u001b[0m\u001b[0mrun_cell_magic\u001b[0m\u001b[1;33m(\u001b[0m\u001b[1;34m'time'\u001b[0m\u001b[1;33m,\u001b[0m \u001b[1;34m''\u001b[0m\u001b[1;33m,\u001b[0m \u001b[1;34m\"for imagepath in imagePaths:\\n    image = cv2.imread(imagepath)\\n    image = cv2.resize(image, (28, 28))\\n    image = img_to_array(image)\\n    data.append(image)\\n    \\n    label = imagepath.split(os.path.sep)[-2]\\n    if label == 'Type_1':\\n        label = 1\\n    elif label == 'Type_2':\\n        label = 2\\n    else:\\n        label = 3\\n    \\n    labels.append(label)\"\u001b[0m\u001b[1;33m)\u001b[0m\u001b[1;33m\u001b[0m\u001b[0m\n\u001b[0m",
      "\u001b[0;32mC:\\Users\\johna\\Anaconda3\\lib\\site-packages\\IPython\\core\\interactiveshell.py\u001b[0m in \u001b[0;36mrun_cell_magic\u001b[0;34m(self, magic_name, line, cell)\u001b[0m\n\u001b[1;32m   2113\u001b[0m             \u001b[0mmagic_arg_s\u001b[0m \u001b[1;33m=\u001b[0m \u001b[0mself\u001b[0m\u001b[1;33m.\u001b[0m\u001b[0mvar_expand\u001b[0m\u001b[1;33m(\u001b[0m\u001b[0mline\u001b[0m\u001b[1;33m,\u001b[0m \u001b[0mstack_depth\u001b[0m\u001b[1;33m)\u001b[0m\u001b[1;33m\u001b[0m\u001b[0m\n\u001b[1;32m   2114\u001b[0m             \u001b[1;32mwith\u001b[0m \u001b[0mself\u001b[0m\u001b[1;33m.\u001b[0m\u001b[0mbuiltin_trap\u001b[0m\u001b[1;33m:\u001b[0m\u001b[1;33m\u001b[0m\u001b[0m\n\u001b[0;32m-> 2115\u001b[0;31m                 \u001b[0mresult\u001b[0m \u001b[1;33m=\u001b[0m \u001b[0mfn\u001b[0m\u001b[1;33m(\u001b[0m\u001b[0mmagic_arg_s\u001b[0m\u001b[1;33m,\u001b[0m \u001b[0mcell\u001b[0m\u001b[1;33m)\u001b[0m\u001b[1;33m\u001b[0m\u001b[0m\n\u001b[0m\u001b[1;32m   2116\u001b[0m             \u001b[1;32mreturn\u001b[0m \u001b[0mresult\u001b[0m\u001b[1;33m\u001b[0m\u001b[0m\n\u001b[1;32m   2117\u001b[0m \u001b[1;33m\u001b[0m\u001b[0m\n",
      "\u001b[0;32m<decorator-gen-60>\u001b[0m in \u001b[0;36mtime\u001b[0;34m(self, line, cell, local_ns)\u001b[0m\n",
      "\u001b[0;32mC:\\Users\\johna\\Anaconda3\\lib\\site-packages\\IPython\\core\\magic.py\u001b[0m in \u001b[0;36m<lambda>\u001b[0;34m(f, *a, **k)\u001b[0m\n\u001b[1;32m    186\u001b[0m     \u001b[1;31m# but it's overkill for just that one bit of state.\u001b[0m\u001b[1;33m\u001b[0m\u001b[1;33m\u001b[0m\u001b[0m\n\u001b[1;32m    187\u001b[0m     \u001b[1;32mdef\u001b[0m \u001b[0mmagic_deco\u001b[0m\u001b[1;33m(\u001b[0m\u001b[0marg\u001b[0m\u001b[1;33m)\u001b[0m\u001b[1;33m:\u001b[0m\u001b[1;33m\u001b[0m\u001b[0m\n\u001b[0;32m--> 188\u001b[0;31m         \u001b[0mcall\u001b[0m \u001b[1;33m=\u001b[0m \u001b[1;32mlambda\u001b[0m \u001b[0mf\u001b[0m\u001b[1;33m,\u001b[0m \u001b[1;33m*\u001b[0m\u001b[0ma\u001b[0m\u001b[1;33m,\u001b[0m \u001b[1;33m**\u001b[0m\u001b[0mk\u001b[0m\u001b[1;33m:\u001b[0m \u001b[0mf\u001b[0m\u001b[1;33m(\u001b[0m\u001b[1;33m*\u001b[0m\u001b[0ma\u001b[0m\u001b[1;33m,\u001b[0m \u001b[1;33m**\u001b[0m\u001b[0mk\u001b[0m\u001b[1;33m)\u001b[0m\u001b[1;33m\u001b[0m\u001b[0m\n\u001b[0m\u001b[1;32m    189\u001b[0m \u001b[1;33m\u001b[0m\u001b[0m\n\u001b[1;32m    190\u001b[0m         \u001b[1;32mif\u001b[0m \u001b[0mcallable\u001b[0m\u001b[1;33m(\u001b[0m\u001b[0marg\u001b[0m\u001b[1;33m)\u001b[0m\u001b[1;33m:\u001b[0m\u001b[1;33m\u001b[0m\u001b[0m\n",
      "\u001b[0;32mC:\\Users\\johna\\Anaconda3\\lib\\site-packages\\IPython\\core\\magics\\execution.py\u001b[0m in \u001b[0;36mtime\u001b[0;34m(self, line, cell, local_ns)\u001b[0m\n\u001b[1;32m   1178\u001b[0m         \u001b[1;32melse\u001b[0m\u001b[1;33m:\u001b[0m\u001b[1;33m\u001b[0m\u001b[0m\n\u001b[1;32m   1179\u001b[0m             \u001b[0mst\u001b[0m \u001b[1;33m=\u001b[0m \u001b[0mclock2\u001b[0m\u001b[1;33m(\u001b[0m\u001b[1;33m)\u001b[0m\u001b[1;33m\u001b[0m\u001b[0m\n\u001b[0;32m-> 1180\u001b[0;31m             \u001b[0mexec\u001b[0m\u001b[1;33m(\u001b[0m\u001b[0mcode\u001b[0m\u001b[1;33m,\u001b[0m \u001b[0mglob\u001b[0m\u001b[1;33m,\u001b[0m \u001b[0mlocal_ns\u001b[0m\u001b[1;33m)\u001b[0m\u001b[1;33m\u001b[0m\u001b[0m\n\u001b[0m\u001b[1;32m   1181\u001b[0m             \u001b[0mend\u001b[0m \u001b[1;33m=\u001b[0m \u001b[0mclock2\u001b[0m\u001b[1;33m(\u001b[0m\u001b[1;33m)\u001b[0m\u001b[1;33m\u001b[0m\u001b[0m\n\u001b[1;32m   1182\u001b[0m             \u001b[0mout\u001b[0m \u001b[1;33m=\u001b[0m \u001b[1;32mNone\u001b[0m\u001b[1;33m\u001b[0m\u001b[0m\n",
      "\u001b[0;32m<timed exec>\u001b[0m in \u001b[0;36m<module>\u001b[0;34m()\u001b[0m\n",
      "\u001b[0;31mKeyboardInterrupt\u001b[0m: "
     ]
    }
   ],
   "source": [
    "%%time\n",
    "for imagepath in imagePaths:\n",
    "    image = cv2.imread(imagepath)\n",
    "    image = cv2.resize(image, (28, 28))\n",
    "    image = img_to_array(image)\n",
    "    data.append(image)\n",
    "    \n",
    "    label = imagepath.split(os.path.sep)[-2]\n",
    "    if label == 'Type_1':\n",
    "        label = 1\n",
    "    elif label == 'Type_2':\n",
    "        label = 2\n",
    "    else:\n",
    "        label = 3\n",
    "    \n",
    "    labels.append(label)"
   ]
  },
  {
   "cell_type": "code",
   "execution_count": 93,
   "metadata": {
    "collapsed": true
   },
   "outputs": [],
   "source": [
    "from collections import Counter"
   ]
  },
  {
   "cell_type": "code",
   "execution_count": 100,
   "metadata": {
    "collapsed": false
   },
   "outputs": [],
   "source": [
    "data = np.array(data, dtype=\"float\") / 255.0\n",
    "labels = np.array(labels)"
   ]
  },
  {
   "cell_type": "code",
   "execution_count": 192,
   "metadata": {
    "collapsed": true
   },
   "outputs": [],
   "source": [
    "# partition the data into training and testing splits\n",
    "(trainX, testX, trainY, testY) = train_test_split(data,\n",
    "labels, test_size=0.25, random_state=42)"
   ]
  },
  {
   "cell_type": "code",
   "execution_count": 194,
   "metadata": {
    "collapsed": false
   },
   "outputs": [
    {
     "ename": "IndexError",
     "evalue": "index 3 is out of bounds for axis 1 with size 3",
     "output_type": "error",
     "traceback": [
      "\u001b[0;31m---------------------------------------------------------------------------\u001b[0m",
      "\u001b[0;31mIndexError\u001b[0m                                Traceback (most recent call last)",
      "\u001b[0;32m<ipython-input-194-07c54e13271f>\u001b[0m in \u001b[0;36m<module>\u001b[0;34m()\u001b[0m\n\u001b[1;32m      1\u001b[0m \u001b[1;31m# convert the labels from integers to vectors\u001b[0m\u001b[1;33m\u001b[0m\u001b[1;33m\u001b[0m\u001b[0m\n\u001b[0;32m----> 2\u001b[0;31m \u001b[0mtrainY\u001b[0m \u001b[1;33m=\u001b[0m \u001b[0mto_categorical\u001b[0m\u001b[1;33m(\u001b[0m\u001b[0mtrainY\u001b[0m\u001b[1;33m,\u001b[0m \u001b[0mnum_classes\u001b[0m\u001b[1;33m=\u001b[0m\u001b[1;36m3\u001b[0m\u001b[1;33m)\u001b[0m\u001b[1;33m\u001b[0m\u001b[0m\n\u001b[0m\u001b[1;32m      3\u001b[0m \u001b[0mtestY\u001b[0m \u001b[1;33m=\u001b[0m \u001b[0mto_categorical\u001b[0m\u001b[1;33m(\u001b[0m\u001b[0mtestY\u001b[0m\u001b[1;33m,\u001b[0m \u001b[0mnum_classes\u001b[0m\u001b[1;33m=\u001b[0m\u001b[1;36m3\u001b[0m\u001b[1;33m)\u001b[0m\u001b[1;33m\u001b[0m\u001b[0m\n",
      "\u001b[0;32mC:\\Users\\johna\\Anaconda3\\lib\\site-packages\\keras\\utils\\np_utils.py\u001b[0m in \u001b[0;36mto_categorical\u001b[0;34m(y, num_classes)\u001b[0m\n\u001b[1;32m     23\u001b[0m     \u001b[0mn\u001b[0m \u001b[1;33m=\u001b[0m \u001b[0my\u001b[0m\u001b[1;33m.\u001b[0m\u001b[0mshape\u001b[0m\u001b[1;33m[\u001b[0m\u001b[1;36m0\u001b[0m\u001b[1;33m]\u001b[0m\u001b[1;33m\u001b[0m\u001b[0m\n\u001b[1;32m     24\u001b[0m     \u001b[0mcategorical\u001b[0m \u001b[1;33m=\u001b[0m \u001b[0mnp\u001b[0m\u001b[1;33m.\u001b[0m\u001b[0mzeros\u001b[0m\u001b[1;33m(\u001b[0m\u001b[1;33m(\u001b[0m\u001b[0mn\u001b[0m\u001b[1;33m,\u001b[0m \u001b[0mnum_classes\u001b[0m\u001b[1;33m)\u001b[0m\u001b[1;33m)\u001b[0m\u001b[1;33m\u001b[0m\u001b[0m\n\u001b[0;32m---> 25\u001b[0;31m     \u001b[0mcategorical\u001b[0m\u001b[1;33m[\u001b[0m\u001b[0mnp\u001b[0m\u001b[1;33m.\u001b[0m\u001b[0marange\u001b[0m\u001b[1;33m(\u001b[0m\u001b[0mn\u001b[0m\u001b[1;33m)\u001b[0m\u001b[1;33m,\u001b[0m \u001b[0my\u001b[0m\u001b[1;33m]\u001b[0m \u001b[1;33m=\u001b[0m \u001b[1;36m1\u001b[0m\u001b[1;33m\u001b[0m\u001b[0m\n\u001b[0m\u001b[1;32m     26\u001b[0m     \u001b[1;32mreturn\u001b[0m \u001b[0mcategorical\u001b[0m\u001b[1;33m\u001b[0m\u001b[0m\n\u001b[1;32m     27\u001b[0m \u001b[1;33m\u001b[0m\u001b[0m\n",
      "\u001b[0;31mIndexError\u001b[0m: index 3 is out of bounds for axis 1 with size 3"
     ]
    }
   ],
   "source": [
    "# convert the labels from integers to vectors\n",
    "trainY = to_categorical(trainY, num_classes=3)\n",
    "testY = to_categorical(testY, num_classes=3)"
   ]
  },
  {
   "cell_type": "code",
   "execution_count": 195,
   "metadata": {
    "collapsed": true
   },
   "outputs": [],
   "source": [
    "# construct the image generator for data augmentation\n",
    "aug = ImageDataGenerator(rotation_range=30, width_shift_range=0.1,\n",
    "height_shift_range=0.1, shear_range=0.2, zoom_range=0.2,\n",
    "horizontal_flip=True, fill_mode=\"nearest\")"
   ]
  },
  {
   "cell_type": "code",
   "execution_count": 196,
   "metadata": {
    "collapsed": false
   },
   "outputs": [
    {
     "name": "stdout",
     "output_type": "stream",
     "text": [
      "[INFO] compiling model...\n"
     ]
    }
   ],
   "source": [
    "# initialize the model\n",
    "print(\"[INFO] compiling model...\")\n",
    "model = LeNet.build(width=28, height=28, depth=3, classes=2)\n",
    "opt = Adam(lr=INIT_LR, decay=INIT_LR / EPOCHS)\n",
    "model.compile(loss=\"binary_crossentropy\", optimizer=opt,\n",
    "metrics=[\"accuracy\"])"
   ]
  },
  {
   "cell_type": "code",
   "execution_count": 197,
   "metadata": {
    "collapsed": false
   },
   "outputs": [
    {
     "name": "stdout",
     "output_type": "stream",
     "text": [
      "[INFO] training network...\n"
     ]
    },
    {
     "ename": "AttributeError",
     "evalue": "'list' object has no attribute 'shape'",
     "output_type": "error",
     "traceback": [
      "\u001b[0;31m---------------------------------------------------------------------------\u001b[0m",
      "\u001b[0;31mAttributeError\u001b[0m                            Traceback (most recent call last)",
      "\u001b[0;32m<ipython-input-197-e95ff7806c7d>\u001b[0m in \u001b[0;36m<module>\u001b[0;34m()\u001b[0m\n\u001b[1;32m      1\u001b[0m \u001b[1;31m# train the network\u001b[0m\u001b[1;33m\u001b[0m\u001b[1;33m\u001b[0m\u001b[0m\n\u001b[1;32m      2\u001b[0m \u001b[0mprint\u001b[0m\u001b[1;33m(\u001b[0m\u001b[1;34m\"[INFO] training network...\"\u001b[0m\u001b[1;33m)\u001b[0m\u001b[1;33m\u001b[0m\u001b[0m\n\u001b[0;32m----> 3\u001b[0;31m H = model.fit_generator(aug.flow(trainX, trainY, batch_size=BS),\n\u001b[0m\u001b[1;32m      4\u001b[0m \u001b[0mvalidation_data\u001b[0m\u001b[1;33m=\u001b[0m\u001b[1;33m(\u001b[0m\u001b[0mtestX\u001b[0m\u001b[1;33m,\u001b[0m \u001b[0mtestY\u001b[0m\u001b[1;33m)\u001b[0m\u001b[1;33m,\u001b[0m \u001b[0msteps_per_epoch\u001b[0m\u001b[1;33m=\u001b[0m\u001b[0mlen\u001b[0m\u001b[1;33m(\u001b[0m\u001b[0mtrainX\u001b[0m\u001b[1;33m)\u001b[0m \u001b[1;33m//\u001b[0m \u001b[0mBS\u001b[0m\u001b[1;33m,\u001b[0m\u001b[1;33m\u001b[0m\u001b[0m\n\u001b[1;32m      5\u001b[0m epochs=EPOCHS, verbose=1)\n",
      "\u001b[0;32mC:\\Users\\johna\\Anaconda3\\lib\\site-packages\\keras\\preprocessing\\image.py\u001b[0m in \u001b[0;36mflow\u001b[0;34m(self, x, y, batch_size, shuffle, seed, save_to_dir, save_prefix, save_format)\u001b[0m\n\u001b[1;32m    459\u001b[0m             \u001b[0msave_to_dir\u001b[0m\u001b[1;33m=\u001b[0m\u001b[0msave_to_dir\u001b[0m\u001b[1;33m,\u001b[0m\u001b[1;33m\u001b[0m\u001b[0m\n\u001b[1;32m    460\u001b[0m             \u001b[0msave_prefix\u001b[0m\u001b[1;33m=\u001b[0m\u001b[0msave_prefix\u001b[0m\u001b[1;33m,\u001b[0m\u001b[1;33m\u001b[0m\u001b[0m\n\u001b[0;32m--> 461\u001b[0;31m             save_format=save_format)\n\u001b[0m\u001b[1;32m    462\u001b[0m \u001b[1;33m\u001b[0m\u001b[0m\n\u001b[1;32m    463\u001b[0m     def flow_from_directory(self, directory,\n",
      "\u001b[0;32mC:\\Users\\johna\\Anaconda3\\lib\\site-packages\\keras\\preprocessing\\image.py\u001b[0m in \u001b[0;36m__init__\u001b[0;34m(self, x, y, image_data_generator, batch_size, shuffle, seed, data_format, save_to_dir, save_prefix, save_format)\u001b[0m\n\u001b[1;32m    795\u001b[0m         \u001b[0mself\u001b[0m\u001b[1;33m.\u001b[0m\u001b[0msave_prefix\u001b[0m \u001b[1;33m=\u001b[0m \u001b[0msave_prefix\u001b[0m\u001b[1;33m\u001b[0m\u001b[0m\n\u001b[1;32m    796\u001b[0m         \u001b[0mself\u001b[0m\u001b[1;33m.\u001b[0m\u001b[0msave_format\u001b[0m \u001b[1;33m=\u001b[0m \u001b[0msave_format\u001b[0m\u001b[1;33m\u001b[0m\u001b[0m\n\u001b[0;32m--> 797\u001b[0;31m         \u001b[0msuper\u001b[0m\u001b[1;33m(\u001b[0m\u001b[0mNumpyArrayIterator\u001b[0m\u001b[1;33m,\u001b[0m \u001b[0mself\u001b[0m\u001b[1;33m)\u001b[0m\u001b[1;33m.\u001b[0m\u001b[0m__init__\u001b[0m\u001b[1;33m(\u001b[0m\u001b[0mx\u001b[0m\u001b[1;33m.\u001b[0m\u001b[0mshape\u001b[0m\u001b[1;33m[\u001b[0m\u001b[1;36m0\u001b[0m\u001b[1;33m]\u001b[0m\u001b[1;33m,\u001b[0m \u001b[0mbatch_size\u001b[0m\u001b[1;33m,\u001b[0m \u001b[0mshuffle\u001b[0m\u001b[1;33m,\u001b[0m \u001b[0mseed\u001b[0m\u001b[1;33m)\u001b[0m\u001b[1;33m\u001b[0m\u001b[0m\n\u001b[0m\u001b[1;32m    798\u001b[0m \u001b[1;33m\u001b[0m\u001b[0m\n\u001b[1;32m    799\u001b[0m     \u001b[1;32mdef\u001b[0m \u001b[0mnext\u001b[0m\u001b[1;33m(\u001b[0m\u001b[0mself\u001b[0m\u001b[1;33m)\u001b[0m\u001b[1;33m:\u001b[0m\u001b[1;33m\u001b[0m\u001b[0m\n",
      "\u001b[0;31mAttributeError\u001b[0m: 'list' object has no attribute 'shape'"
     ]
    }
   ],
   "source": [
    "# train the network\n",
    "print(\"[INFO] training network...\")\n",
    "H = model.fit_generator(aug.flow(trainX, trainY, batch_size=BS),\n",
    "validation_data=(testX, testY), steps_per_epoch=len(trainX) // BS,\n",
    "epochs=EPOCHS, verbose=1)"
   ]
  },
  {
   "cell_type": "code",
   "execution_count": null,
   "metadata": {
    "collapsed": true
   },
   "outputs": [],
   "source": []
  }
 ],
 "metadata": {
  "kernelspec": {
   "display_name": "Python 3",
   "language": "python",
   "name": "python3"
  },
  "language_info": {
   "codemirror_mode": {
    "name": "ipython",
    "version": 3
   },
   "file_extension": ".py",
   "mimetype": "text/x-python",
   "name": "python",
   "nbconvert_exporter": "python",
   "pygments_lexer": "ipython3",
   "version": "3.6.0"
  }
 },
 "nbformat": 4,
 "nbformat_minor": 2
}
