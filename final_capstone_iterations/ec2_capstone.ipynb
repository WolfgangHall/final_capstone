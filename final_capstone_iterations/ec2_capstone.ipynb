{
 "cells": [
  {
   "cell_type": "code",
   "execution_count": 1,
   "metadata": {
    "collapsed": true
   },
   "outputs": [],
   "source": [
    "import numpy as np\n",
    "import pandas as pd\n",
    "import matplotlib.pyplot as plt\n",
    "%matplotlib inline\n",
    "import seaborn as sns"
   ]
  },
  {
   "cell_type": "code",
   "execution_count": 2,
   "metadata": {},
   "outputs": [
    {
     "name": "stderr",
     "output_type": "stream",
     "text": [
      "Using TensorFlow backend.\n"
     ]
    }
   ],
   "source": [
    "from keras.models import Sequential\n",
    "from keras.layers import Dense\n",
    "from keras.layers import Dropout\n",
    "from keras.layers import Flatten\n",
    "from keras.layers.convolutional import Conv2D\n",
    "from keras.layers.convolutional import MaxPooling2D\n",
    "from keras.utils import np_utils\n",
    "from keras.optimizers import SGD"
   ]
  },
  {
   "cell_type": "code",
   "execution_count": 3,
   "metadata": {},
   "outputs": [],
   "source": [
    "import cv2\n",
    "from glob import glob\n",
    "from skimage.io import imread, imshow\n",
    "import piexif"
   ]
  },
  {
   "cell_type": "code",
   "execution_count": 4,
   "metadata": {
    "collapsed": true
   },
   "outputs": [],
   "source": [
    "import os"
   ]
  },
  {
   "cell_type": "code",
   "execution_count": 35,
   "metadata": {
    "collapsed": true
   },
   "outputs": [],
   "source": [
    "# using os sets the \\ for me -> windows\n",
    "# using os / -> linux\n",
    "basepath = os.path.join('..', 'train/')"
   ]
  },
  {
   "cell_type": "code",
   "execution_count": 36,
   "metadata": {},
   "outputs": [
    {
     "name": "stdout",
     "output_type": "stream",
     "text": [
      "../train/\n"
     ]
    }
   ],
   "source": [
    "print(basepath)"
   ]
  },
  {
   "cell_type": "code",
   "execution_count": 37,
   "metadata": {
    "collapsed": true
   },
   "outputs": [],
   "source": [
    "all_cervix_images = []"
   ]
  },
  {
   "cell_type": "code",
   "execution_count": 38,
   "metadata": {},
   "outputs": [
    {
     "data": {
      "text/plain": [
       "[]"
      ]
     },
     "execution_count": 38,
     "metadata": {},
     "output_type": "execute_result"
    }
   ],
   "source": [
    "all_cervix_images"
   ]
  },
  {
   "cell_type": "code",
   "execution_count": 39,
   "metadata": {},
   "outputs": [],
   "source": [
    "for path in sorted(glob(basepath + \"*\")):\n",
    "    # escape \\\n",
    "    cervix_type = path.split(\"/\")[-1]\n",
    "    cervix_images = sorted((glob(basepath + cervix_type + \"/*\")))\n",
    "    all_cervix_images = all_cervix_images + cervix_images"
   ]
  },
  {
   "cell_type": "code",
   "execution_count": 41,
   "metadata": {},
   "outputs": [
    {
     "data": {
      "text/plain": [
       "['../train/Type_1/0.jpg',\n",
       " '../train/Type_1/10.jpg',\n",
       " '../train/Type_1/1013.jpg',\n",
       " '../train/Type_1/1014.jpg',\n",
       " '../train/Type_1/1019.jpg']"
      ]
     },
     "execution_count": 41,
     "metadata": {},
     "output_type": "execute_result"
    }
   ],
   "source": [
    "all_cervix_images[:5]"
   ]
  },
  {
   "cell_type": "code",
   "execution_count": 42,
   "metadata": {},
   "outputs": [],
   "source": [
    "all_cervix_images = pd.DataFrame({'imagepath': all_cervix_images})"
   ]
  },
  {
   "cell_type": "code",
   "execution_count": 43,
   "metadata": {},
   "outputs": [
    {
     "data": {
      "text/html": [
       "<div>\n",
       "<style>\n",
       "    .dataframe thead tr:only-child th {\n",
       "        text-align: right;\n",
       "    }\n",
       "\n",
       "    .dataframe thead th {\n",
       "        text-align: left;\n",
       "    }\n",
       "\n",
       "    .dataframe tbody tr th {\n",
       "        vertical-align: top;\n",
       "    }\n",
       "</style>\n",
       "<table border=\"1\" class=\"dataframe\">\n",
       "  <thead>\n",
       "    <tr style=\"text-align: right;\">\n",
       "      <th></th>\n",
       "      <th>imagepath</th>\n",
       "    </tr>\n",
       "  </thead>\n",
       "  <tbody>\n",
       "    <tr>\n",
       "      <th>0</th>\n",
       "      <td>../train/Type_1/0.jpg</td>\n",
       "    </tr>\n",
       "    <tr>\n",
       "      <th>1</th>\n",
       "      <td>../train/Type_1/10.jpg</td>\n",
       "    </tr>\n",
       "    <tr>\n",
       "      <th>2</th>\n",
       "      <td>../train/Type_1/1013.jpg</td>\n",
       "    </tr>\n",
       "    <tr>\n",
       "      <th>3</th>\n",
       "      <td>../train/Type_1/1014.jpg</td>\n",
       "    </tr>\n",
       "    <tr>\n",
       "      <th>4</th>\n",
       "      <td>../train/Type_1/1019.jpg</td>\n",
       "    </tr>\n",
       "  </tbody>\n",
       "</table>\n",
       "</div>"
      ],
      "text/plain": [
       "                  imagepath\n",
       "0     ../train/Type_1/0.jpg\n",
       "1    ../train/Type_1/10.jpg\n",
       "2  ../train/Type_1/1013.jpg\n",
       "3  ../train/Type_1/1014.jpg\n",
       "4  ../train/Type_1/1019.jpg"
      ]
     },
     "execution_count": 43,
     "metadata": {},
     "output_type": "execute_result"
    }
   ],
   "source": [
    "all_cervix_images.head()"
   ]
  },
  {
   "cell_type": "code",
   "execution_count": 44,
   "metadata": {},
   "outputs": [],
   "source": [
    "all_cervix_images['filetype'] = all_cervix_images.apply(lambda row: row.imagepath.split(\".\")[-1], axis=1)"
   ]
  },
  {
   "cell_type": "code",
   "execution_count": 45,
   "metadata": {},
   "outputs": [
    {
     "data": {
      "text/html": [
       "<div>\n",
       "<style>\n",
       "    .dataframe thead tr:only-child th {\n",
       "        text-align: right;\n",
       "    }\n",
       "\n",
       "    .dataframe thead th {\n",
       "        text-align: left;\n",
       "    }\n",
       "\n",
       "    .dataframe tbody tr th {\n",
       "        vertical-align: top;\n",
       "    }\n",
       "</style>\n",
       "<table border=\"1\" class=\"dataframe\">\n",
       "  <thead>\n",
       "    <tr style=\"text-align: right;\">\n",
       "      <th></th>\n",
       "      <th>imagepath</th>\n",
       "      <th>filetype</th>\n",
       "    </tr>\n",
       "  </thead>\n",
       "  <tbody>\n",
       "    <tr>\n",
       "      <th>0</th>\n",
       "      <td>../train/Type_1/0.jpg</td>\n",
       "      <td>jpg</td>\n",
       "    </tr>\n",
       "    <tr>\n",
       "      <th>1</th>\n",
       "      <td>../train/Type_1/10.jpg</td>\n",
       "      <td>jpg</td>\n",
       "    </tr>\n",
       "    <tr>\n",
       "      <th>2</th>\n",
       "      <td>../train/Type_1/1013.jpg</td>\n",
       "      <td>jpg</td>\n",
       "    </tr>\n",
       "    <tr>\n",
       "      <th>3</th>\n",
       "      <td>../train/Type_1/1014.jpg</td>\n",
       "      <td>jpg</td>\n",
       "    </tr>\n",
       "    <tr>\n",
       "      <th>4</th>\n",
       "      <td>../train/Type_1/1019.jpg</td>\n",
       "      <td>jpg</td>\n",
       "    </tr>\n",
       "  </tbody>\n",
       "</table>\n",
       "</div>"
      ],
      "text/plain": [
       "                  imagepath filetype\n",
       "0     ../train/Type_1/0.jpg      jpg\n",
       "1    ../train/Type_1/10.jpg      jpg\n",
       "2  ../train/Type_1/1013.jpg      jpg\n",
       "3  ../train/Type_1/1014.jpg      jpg\n",
       "4  ../train/Type_1/1019.jpg      jpg"
      ]
     },
     "execution_count": 45,
     "metadata": {},
     "output_type": "execute_result"
    }
   ],
   "source": [
    "all_cervix_images.head()"
   ]
  },
  {
   "cell_type": "code",
   "execution_count": 46,
   "metadata": {
    "collapsed": true
   },
   "outputs": [],
   "source": [
    "all_cervix_images['type'] = all_cervix_images.apply(lambda row: row.imagepath.split(\"/\")[-2], axis=1)"
   ]
  },
  {
   "cell_type": "code",
   "execution_count": 47,
   "metadata": {},
   "outputs": [
    {
     "data": {
      "text/html": [
       "<div>\n",
       "<style>\n",
       "    .dataframe thead tr:only-child th {\n",
       "        text-align: right;\n",
       "    }\n",
       "\n",
       "    .dataframe thead th {\n",
       "        text-align: left;\n",
       "    }\n",
       "\n",
       "    .dataframe tbody tr th {\n",
       "        vertical-align: top;\n",
       "    }\n",
       "</style>\n",
       "<table border=\"1\" class=\"dataframe\">\n",
       "  <thead>\n",
       "    <tr style=\"text-align: right;\">\n",
       "      <th></th>\n",
       "      <th>imagepath</th>\n",
       "      <th>filetype</th>\n",
       "      <th>type</th>\n",
       "    </tr>\n",
       "  </thead>\n",
       "  <tbody>\n",
       "    <tr>\n",
       "      <th>0</th>\n",
       "      <td>../train/Type_1/0.jpg</td>\n",
       "      <td>jpg</td>\n",
       "      <td>Type_1</td>\n",
       "    </tr>\n",
       "    <tr>\n",
       "      <th>1</th>\n",
       "      <td>../train/Type_1/10.jpg</td>\n",
       "      <td>jpg</td>\n",
       "      <td>Type_1</td>\n",
       "    </tr>\n",
       "    <tr>\n",
       "      <th>2</th>\n",
       "      <td>../train/Type_1/1013.jpg</td>\n",
       "      <td>jpg</td>\n",
       "      <td>Type_1</td>\n",
       "    </tr>\n",
       "    <tr>\n",
       "      <th>3</th>\n",
       "      <td>../train/Type_1/1014.jpg</td>\n",
       "      <td>jpg</td>\n",
       "      <td>Type_1</td>\n",
       "    </tr>\n",
       "    <tr>\n",
       "      <th>4</th>\n",
       "      <td>../train/Type_1/1019.jpg</td>\n",
       "      <td>jpg</td>\n",
       "      <td>Type_1</td>\n",
       "    </tr>\n",
       "  </tbody>\n",
       "</table>\n",
       "</div>"
      ],
      "text/plain": [
       "                  imagepath filetype    type\n",
       "0     ../train/Type_1/0.jpg      jpg  Type_1\n",
       "1    ../train/Type_1/10.jpg      jpg  Type_1\n",
       "2  ../train/Type_1/1013.jpg      jpg  Type_1\n",
       "3  ../train/Type_1/1014.jpg      jpg  Type_1\n",
       "4  ../train/Type_1/1019.jpg      jpg  Type_1"
      ]
     },
     "execution_count": 47,
     "metadata": {},
     "output_type": "execute_result"
    }
   ],
   "source": [
    "all_cervix_images.head()"
   ]
  },
  {
   "cell_type": "code",
   "execution_count": 48,
   "metadata": {
    "collapsed": true
   },
   "outputs": [],
   "source": [
    "from scipy import ndimage, misc"
   ]
  },
  {
   "cell_type": "code",
   "execution_count": 49,
   "metadata": {},
   "outputs": [
    {
     "name": "stdout",
     "output_type": "stream",
     "text": [
      "We have a total of 1480 images in the whole dataset\n"
     ]
    }
   ],
   "source": [
    "print('We have a total of {} images in the whole dataset'.format(all_cervix_images.shape[0]))"
   ]
  },
  {
   "cell_type": "code",
   "execution_count": 50,
   "metadata": {},
   "outputs": [
    {
     "data": {
      "text/plain": [
       "<matplotlib.axes._subplots.AxesSubplot at 0x7f6746016940>"
      ]
     },
     "execution_count": 50,
     "metadata": {},
     "output_type": "execute_result"
    },
    {
     "name": "stderr",
     "output_type": "stream",
     "text": [
      "/home/ubuntu/anaconda3/lib/python3.6/site-packages/matplotlib/font_manager.py:1320: UserWarning: findfont: Font family ['sans-serif'] not found. Falling back to DejaVu Sans\n",
      "  (prop.get_family(), self.defaultFamily[fontext]))\n"
     ]
    },
    {
     "data": {
      "image/png": "[encoded data removed]",
      "text/plain": [
       "<matplotlib.figure.Figure at 0x7f6746016240>"
      ]
     },
     "metadata": {},
     "output_type": "display_data"
    }
   ],
   "source": [
    "fig, ax = plt.subplots(figsize=(12,8))\n",
    "ax.set_title('Cervix Types in Dataset')\n",
    "sns.countplot(y='type',data=all_cervix_images, ax=ax)"
   ]
  },
  {
   "cell_type": "code",
   "execution_count": 51,
   "metadata": {},
   "outputs": [
    {
     "name": "stdout",
     "output_type": "stream",
     "text": [
      "Percantage of each type in the data:\n",
      "Type_1: 16.8 %\n",
      "Type_2: 52.8 %\n",
      "Type_3: 30.4 %\n"
     ]
    }
   ],
   "source": [
    "print('Percantage of each type in the data:')\n",
    "for c_type in ['Type_1', 'Type_2', 'Type_3']:\n",
    "    print(c_type + ': ' + '{:.1f} %'.format(\n",
    "        len(all_cervix_images[all_cervix_images.type == c_type]) / len(all_cervix_images) * 100)\n",
    "         )"
   ]
  },
  {
   "cell_type": "code",
   "execution_count": 15,
   "metadata": {
    "collapsed": true
   },
   "outputs": [],
   "source": [
    "# fig = plt.figure(figsize=(12,8))\n",
    "\n",
    "# i = 1\n",
    "# for t in all_cervix_images['type'].unique():\n",
    "#     ax = fig.add_subplot(1,3,i)\n",
    "#     i+=1\n",
    "#     f = all_cervix_images[all_cervix_images['type'] == t]['imagepath'].values[0]\n",
    "#     plt.imshow(plt.imread(f))\n",
    "#     plt.title('sample for cervix {}'.format(t))"
   ]
  },
  {
   "cell_type": "code",
   "execution_count": 85,
   "metadata": {},
   "outputs": [
    {
     "data": {
      "text/plain": [
       "LabelEncoder()"
      ]
     },
     "execution_count": 85,
     "metadata": {},
     "output_type": "execute_result"
    }
   ],
   "source": [
    "from sklearn import preprocessing\n",
    "le = preprocessing.LabelEncoder()\n",
    "le.fit(all_cervix_images['type'])"
   ]
  },
  {
   "cell_type": "code",
   "execution_count": 86,
   "metadata": {},
   "outputs": [
    {
     "data": {
      "text/plain": [
       "array(['Type_1', 'Type_2', 'Type_3'], dtype=object)"
      ]
     },
     "execution_count": 86,
     "metadata": {},
     "output_type": "execute_result"
    }
   ],
   "source": [
    "le.classes_"
   ]
  },
  {
   "cell_type": "code",
   "execution_count": 87,
   "metadata": {
    "collapsed": true
   },
   "outputs": [],
   "source": [
    "all_cervix_images['l_type'] = le.transform(all_cervix_images['type'])"
   ]
  },
  {
   "cell_type": "code",
   "execution_count": 88,
   "metadata": {},
   "outputs": [
    {
     "data": {
      "text/html": [
       "<div>\n",
       "<style>\n",
       "    .dataframe thead tr:only-child th {\n",
       "        text-align: right;\n",
       "    }\n",
       "\n",
       "    .dataframe thead th {\n",
       "        text-align: left;\n",
       "    }\n",
       "\n",
       "    .dataframe tbody tr th {\n",
       "        vertical-align: top;\n",
       "    }\n",
       "</style>\n",
       "<table border=\"1\" class=\"dataframe\">\n",
       "  <thead>\n",
       "    <tr style=\"text-align: right;\">\n",
       "      <th></th>\n",
       "      <th>imagepath</th>\n",
       "      <th>filetype</th>\n",
       "      <th>type</th>\n",
       "      <th>l_type</th>\n",
       "    </tr>\n",
       "  </thead>\n",
       "  <tbody>\n",
       "    <tr>\n",
       "      <th>0</th>\n",
       "      <td>../train/Type_1/0.jpg</td>\n",
       "      <td>jpg</td>\n",
       "      <td>Type_1</td>\n",
       "      <td>0</td>\n",
       "    </tr>\n",
       "    <tr>\n",
       "      <th>1</th>\n",
       "      <td>../train/Type_1/10.jpg</td>\n",
       "      <td>jpg</td>\n",
       "      <td>Type_1</td>\n",
       "      <td>0</td>\n",
       "    </tr>\n",
       "    <tr>\n",
       "      <th>2</th>\n",
       "      <td>../train/Type_1/1013.jpg</td>\n",
       "      <td>jpg</td>\n",
       "      <td>Type_1</td>\n",
       "      <td>0</td>\n",
       "    </tr>\n",
       "    <tr>\n",
       "      <th>3</th>\n",
       "      <td>../train/Type_1/1014.jpg</td>\n",
       "      <td>jpg</td>\n",
       "      <td>Type_1</td>\n",
       "      <td>0</td>\n",
       "    </tr>\n",
       "    <tr>\n",
       "      <th>4</th>\n",
       "      <td>../train/Type_1/1019.jpg</td>\n",
       "      <td>jpg</td>\n",
       "      <td>Type_1</td>\n",
       "      <td>0</td>\n",
       "    </tr>\n",
       "  </tbody>\n",
       "</table>\n",
       "</div>"
      ],
      "text/plain": [
       "                  imagepath filetype    type  l_type\n",
       "0     ../train/Type_1/0.jpg      jpg  Type_1       0\n",
       "1    ../train/Type_1/10.jpg      jpg  Type_1       0\n",
       "2  ../train/Type_1/1013.jpg      jpg  Type_1       0\n",
       "3  ../train/Type_1/1014.jpg      jpg  Type_1       0\n",
       "4  ../train/Type_1/1019.jpg      jpg  Type_1       0"
      ]
     },
     "execution_count": 88,
     "metadata": {},
     "output_type": "execute_result"
    }
   ],
   "source": [
    "all_cervix_images.head()"
   ]
  },
  {
   "cell_type": "code",
   "execution_count": 89,
   "metadata": {},
   "outputs": [
    {
     "data": {
      "text/plain": [
       "1    781\n",
       "2    450\n",
       "0    249\n",
       "Name: l_type, dtype: int64"
      ]
     },
     "execution_count": 89,
     "metadata": {},
     "output_type": "execute_result"
    }
   ],
   "source": [
    "all_cervix_images['l_type'].value_counts()"
   ]
  },
  {
   "cell_type": "code",
   "execution_count": 96,
   "metadata": {
    "collapsed": true
   },
   "outputs": [],
   "source": [
    "dimensions = []"
   ]
  },
  {
   "cell_type": "code",
   "execution_count": 97,
   "metadata": {},
   "outputs": [
    {
     "name": "stdout",
     "output_type": "stream",
     "text": [
      "ok\n",
      "ok\n",
      "ok\n",
      "ok\n",
      "ok\n",
      "ok\n",
      "ok\n",
      "ok\n",
      "ok\n",
      "ok\n",
      "ok\n",
      "ok\n",
      "ok\n",
      "ok\n",
      "ok\n",
      "CPU times: user 5min 5s, sys: 38.5 s, total: 5min 43s\n",
      "Wall time: 5min 43s\n"
     ]
    }
   ],
   "source": [
    "%%time\n",
    "for i in range(len(all_cervix_images)):\n",
    "    dimensions.append(imread(all_cervix_images['imagepath'].iloc[i]).shape)\n",
    "    if i % 100 == 0:\n",
    "        print('ok')"
   ]
  },
  {
   "cell_type": "code",
   "execution_count": 127,
   "metadata": {
    "collapsed": true
   },
   "outputs": [],
   "source": [
    "from collections import Counter"
   ]
  },
  {
   "cell_type": "code",
   "execution_count": 128,
   "metadata": {},
   "outputs": [
    {
     "data": {
      "text/plain": [
       "Counter({(640, 480, 3): 6,\n",
       "         (2448, 3264, 3): 29,\n",
       "         (3088, 4128, 3): 1,\n",
       "         (3096, 4128, 3): 14,\n",
       "         (3264, 2448, 3): 702,\n",
       "         (4128, 2322, 3): 17,\n",
       "         (4128, 3096, 3): 677,\n",
       "         (4160, 3120, 3): 34})"
      ]
     },
     "execution_count": 128,
     "metadata": {},
     "output_type": "execute_result"
    }
   ],
   "source": [
    "Counter(dimensions)"
   ]
  },
  {
   "cell_type": "code",
   "execution_count": 126,
   "metadata": {},
   "outputs": [
    {
     "name": "stdout",
     "output_type": "stream",
     "text": [
      ".. 0\n",
      ".. 100\n",
      ".. 200\n",
      ".. 300\n",
      ".. 400\n",
      ".. 500\n",
      ".. 600\n",
      ".. 700\n",
      ".. 800\n",
      ".. 900\n",
      ".. 1000\n",
      ".. 1100\n",
      ".. 1200\n",
      ".. 1300\n",
      ".. 1400\n",
      "CPU times: user 6min 27s, sys: 20.5 s, total: 6min 47s\n",
      "Wall time: 6min 47s\n"
     ]
    }
   ],
   "source": [
    "%%time\n",
    "images = []\n",
    "for i in range(len(all_cervix_images)):\n",
    "    image = ndimage.imread(all_cervix_images['imagepath'].iloc[i], mode='RGB')\n",
    "    image_resized = misc.imresize(image, (64, 64))\n",
    "    images.append(image_resized)\n",
    "    if i % 100 == 0:\n",
    "        print('..', i)"
   ]
  },
  {
   "cell_type": "code",
   "execution_count": 129,
   "metadata": {
    "collapsed": true
   },
   "outputs": [],
   "source": [
    "from keras.preprocessing.image import ImageDataGenerator\n",
    "from sklearn.model_selection import train_test_split"
   ]
  },
  {
   "cell_type": "code",
   "execution_count": 130,
   "metadata": {
    "collapsed": true
   },
   "outputs": [],
   "source": [
    "X_train, X_test, y_train, y_test = train_test_split(images, all_cervix_images['l_type'], test_size=0.25, random_state=42)"
   ]
  },
  {
   "cell_type": "code",
   "execution_count": 131,
   "metadata": {
    "collapsed": true
   },
   "outputs": [],
   "source": [
    "X_train = np.array(X_train)\n",
    "X_test = np.array(X_test)"
   ]
  },
  {
   "cell_type": "code",
   "execution_count": 132,
   "metadata": {},
   "outputs": [],
   "source": [
    "X_train = X_train.reshape(X_train.shape[0], 64, 64, 3)\n",
    "X_test = X_test.reshape(X_test.shape[0], 64, 64, 3)"
   ]
  },
  {
   "cell_type": "code",
   "execution_count": 133,
   "metadata": {
    "collapsed": true
   },
   "outputs": [],
   "source": [
    "X_train = X_train.astype('float32')\n",
    "X_test = X_test.astype('float32')\n",
    "\n",
    "X_train = X_train / 255.0\n",
    "X_test = X_test / 255.0"
   ]
  },
  {
   "cell_type": "code",
   "execution_count": 134,
   "metadata": {
    "collapsed": true
   },
   "outputs": [],
   "source": [
    "# one hot encode outputs\n",
    "y_train = np_utils.to_categorical(y_train, num_classes=3)\n",
    "y_test = np_utils.to_categorical(y_test, num_classes=3)\n",
    "num_classes = y_test.shape[1]"
   ]
  },
  {
   "cell_type": "code",
   "execution_count": 135,
   "metadata": {},
   "outputs": [
    {
     "data": {
      "text/plain": [
       "((370, 3), (1110, 3))"
      ]
     },
     "execution_count": 135,
     "metadata": {},
     "output_type": "execute_result"
    }
   ],
   "source": [
    "y_test.shape, y_train.shape"
   ]
  },
  {
   "cell_type": "code",
   "execution_count": 136,
   "metadata": {},
   "outputs": [
    {
     "data": {
      "text/plain": [
       "((370, 64, 64, 3), (1110, 64, 64, 3))"
      ]
     },
     "execution_count": 136,
     "metadata": {},
     "output_type": "execute_result"
    }
   ],
   "source": [
    "X_test.shape, X_train.shape"
   ]
  },
  {
   "cell_type": "code",
   "execution_count": 137,
   "metadata": {},
   "outputs": [],
   "source": [
    "datagen = ImageDataGenerator(featurewise_center=True, \n",
    "                             featurewise_std_normalization=True)\n",
    "\n",
    "datagen.fit(X_train)\n",
    "\n",
    "#for X_batch, y_batch in datagen.flow(X_train, y_train, batch_size=10):\n",
    "#    for i in range(0, 9):\n",
    "#        plt.subplot(330 + 1 + i)\n",
    "#        plt.imshow(X_batch[i])\n",
    "        \n",
    "#    break"
   ]
  },
  {
   "cell_type": "code",
   "execution_count": 144,
   "metadata": {
    "collapsed": true
   },
   "outputs": [],
   "source": [
    "def conv_model():\n",
    "    # create model\n",
    "    model = Sequential()\n",
    "\n",
    "    # convolutional layer, 32 feature maps, size of 3x3 ,rectifier activation, input layer\n",
    "    model.add(Conv2D(32, (3, 3), padding='valid', input_shape=(64, 64, 3),\n",
    "    activation='relu', data_format='channels_last'))\n",
    "\n",
    "    # pool size of 2x2\n",
    "    model.add(MaxPooling2D(pool_size=(2, 2)))\n",
    "    \n",
    "    model.add(Conv2D(16, (3, 3), activation='relu'))\n",
    "\n",
    "    model.add(Dropout(0.2))\n",
    "\n",
    "    # converts 2d matrix data to a vector\n",
    "    model.add(Flatten())\n",
    "\n",
    "    # fully connected layer with 128 neurons, rectifier is used\n",
    "    model.add(Dense(128, activation='relu'))\n",
    "    model.add(Dense(50, activation='relu'))\n",
    "\n",
    "    # output layer has 3 neurons for the 3 classes, softmax returns probability-like prediction\n",
    "    model.add(Dense(num_classes, activation='softmax'))\n",
    "\n",
    "    # Compile model\n",
    "    model.compile(loss='categorical_crossentropy', optimizer='adam', metrics=['accuracy'])\n",
    "    \n",
    "    return model"
   ]
  },
  {
   "cell_type": "code",
   "execution_count": null,
   "metadata": {
    "scrolled": true
   },
   "outputs": [
    {
     "name": "stdout",
     "output_type": "stream",
     "text": [
      "Train on 1110 samples, validate on 370 samples\n",
      "Epoch 1/100\n",
      "3s - loss: 1.0263 - acc: 0.5252 - val_loss: 0.9977 - val_acc: 0.5081\n",
      "Epoch 2/100\n",
      "3s - loss: 0.9974 - acc: 0.5279 - val_loss: 0.9501 - val_acc: 0.5378\n",
      "Epoch 3/100\n",
      "3s - loss: 0.9548 - acc: 0.5378 - val_loss: 1.0145 - val_acc: 0.5054\n",
      "Epoch 4/100\n",
      "3s - loss: 0.9553 - acc: 0.5324 - val_loss: 1.0071 - val_acc: 0.5135\n",
      "Epoch 5/100\n",
      "3s - loss: 0.9039 - acc: 0.5667 - val_loss: 0.9604 - val_acc: 0.5270\n",
      "Epoch 6/100\n",
      "3s - loss: 0.8343 - acc: 0.6126 - val_loss: 1.0590 - val_acc: 0.5135\n",
      "Epoch 7/100\n",
      "3s - loss: 0.7749 - acc: 0.6640 - val_loss: 1.0853 - val_acc: 0.4973\n",
      "Epoch 8/100\n",
      "3s - loss: 0.6612 - acc: 0.7153 - val_loss: 1.1445 - val_acc: 0.4892\n",
      "Epoch 9/100\n",
      "3s - loss: 0.5114 - acc: 0.7901 - val_loss: 1.4038 - val_acc: 0.4757\n",
      "Epoch 10/100\n",
      "3s - loss: 0.3708 - acc: 0.8649 - val_loss: 1.5322 - val_acc: 0.4676\n",
      "Epoch 11/100\n",
      "3s - loss: 0.2499 - acc: 0.8991 - val_loss: 1.8992 - val_acc: 0.4730\n",
      "Epoch 12/100\n",
      "3s - loss: 0.2007 - acc: 0.9342 - val_loss: 2.6797 - val_acc: 0.3919\n",
      "Epoch 13/100\n",
      "3s - loss: 0.1346 - acc: 0.9595 - val_loss: 2.5405 - val_acc: 0.4676\n",
      "Epoch 14/100\n",
      "3s - loss: 0.0796 - acc: 0.9766 - val_loss: 3.4353 - val_acc: 0.4703\n",
      "Epoch 15/100\n",
      "3s - loss: 0.0882 - acc: 0.9694 - val_loss: 2.3886 - val_acc: 0.4703\n",
      "Epoch 16/100\n",
      "3s - loss: 0.0443 - acc: 0.9865 - val_loss: 3.2798 - val_acc: 0.4811\n",
      "Epoch 17/100\n",
      "3s - loss: 0.0367 - acc: 0.9892 - val_loss: 3.1956 - val_acc: 0.4676\n",
      "Epoch 18/100\n",
      "3s - loss: 0.0138 - acc: 0.9964 - val_loss: 3.7052 - val_acc: 0.4838\n",
      "Epoch 19/100\n",
      "3s - loss: 0.0564 - acc: 0.9820 - val_loss: 3.5356 - val_acc: 0.4568\n",
      "Epoch 20/100\n",
      "3s - loss: 0.1150 - acc: 0.9739 - val_loss: 3.4812 - val_acc: 0.4757\n",
      "Epoch 21/100\n",
      "3s - loss: 0.1095 - acc: 0.9667 - val_loss: 3.6866 - val_acc: 0.4189\n",
      "Epoch 22/100\n",
      "3s - loss: 0.0216 - acc: 0.9946 - val_loss: 3.5678 - val_acc: 0.4541\n",
      "Epoch 23/100\n",
      "3s - loss: 0.0048 - acc: 0.9991 - val_loss: 3.9505 - val_acc: 0.4486\n",
      "Epoch 24/100\n",
      "3s - loss: 0.0132 - acc: 0.9955 - val_loss: 3.8411 - val_acc: 0.4730\n",
      "Epoch 25/100\n",
      "3s - loss: 0.0039 - acc: 0.9991 - val_loss: 3.9960 - val_acc: 0.4432\n",
      "Epoch 26/100\n",
      "3s - loss: 0.0010 - acc: 1.0000 - val_loss: 4.2379 - val_acc: 0.4757\n",
      "Epoch 27/100\n",
      "3s - loss: 4.1591e-04 - acc: 1.0000 - val_loss: 4.3520 - val_acc: 0.4649\n",
      "Epoch 28/100\n",
      "3s - loss: 3.0320e-04 - acc: 1.0000 - val_loss: 4.4160 - val_acc: 0.4568\n",
      "Epoch 29/100\n",
      "3s - loss: 9.9671e-04 - acc: 1.0000 - val_loss: 4.2602 - val_acc: 0.4784\n",
      "Epoch 30/100\n",
      "3s - loss: 0.0749 - acc: 0.9757 - val_loss: 3.7542 - val_acc: 0.4514\n",
      "Epoch 31/100\n",
      "3s - loss: 0.0304 - acc: 0.9928 - val_loss: 3.5872 - val_acc: 0.4892\n",
      "Epoch 32/100\n",
      "3s - loss: 0.0043 - acc: 1.0000 - val_loss: 3.7819 - val_acc: 0.4703\n",
      "Epoch 33/100\n",
      "3s - loss: 0.0073 - acc: 0.9991 - val_loss: 4.0645 - val_acc: 0.4730\n",
      "Epoch 34/100\n",
      "3s - loss: 0.0013 - acc: 1.0000 - val_loss: 4.1566 - val_acc: 0.4649\n",
      "Epoch 35/100\n",
      "3s - loss: 6.6094e-04 - acc: 1.0000 - val_loss: 4.3280 - val_acc: 0.4703\n",
      "Epoch 36/100\n",
      "3s - loss: 4.2067e-04 - acc: 1.0000 - val_loss: 4.4410 - val_acc: 0.4730\n",
      "Epoch 37/100\n",
      "3s - loss: 2.1983e-04 - acc: 1.0000 - val_loss: 4.3598 - val_acc: 0.4649\n",
      "Epoch 38/100\n",
      "3s - loss: 6.3288e-04 - acc: 1.0000 - val_loss: 4.2156 - val_acc: 0.4838\n",
      "Epoch 39/100\n",
      "3s - loss: 2.4265e-04 - acc: 1.0000 - val_loss: 4.3196 - val_acc: 0.4784\n",
      "Epoch 40/100\n",
      "3s - loss: 1.2943e-04 - acc: 1.0000 - val_loss: 4.3689 - val_acc: 0.4784\n",
      "Epoch 41/100\n",
      "3s - loss: 1.6984e-04 - acc: 1.0000 - val_loss: 4.4516 - val_acc: 0.4757\n",
      "Epoch 42/100\n",
      "3s - loss: 7.0303e-05 - acc: 1.0000 - val_loss: 4.4939 - val_acc: 0.4676\n",
      "Epoch 43/100\n",
      "3s - loss: 6.8082e-05 - acc: 1.0000 - val_loss: 4.5350 - val_acc: 0.4676\n",
      "Epoch 44/100\n",
      "3s - loss: 1.0276e-04 - acc: 1.0000 - val_loss: 4.5390 - val_acc: 0.4730\n",
      "Epoch 45/100\n",
      "3s - loss: 6.2367e-05 - acc: 1.0000 - val_loss: 4.5955 - val_acc: 0.4784\n",
      "Epoch 46/100\n",
      "3s - loss: 2.0837e-04 - acc: 1.0000 - val_loss: 4.6638 - val_acc: 0.4919\n",
      "Epoch 47/100\n",
      "3s - loss: 6.5829e-05 - acc: 1.0000 - val_loss: 4.6933 - val_acc: 0.4838\n",
      "Epoch 48/100\n",
      "3s - loss: 3.2716e-05 - acc: 1.0000 - val_loss: 4.6933 - val_acc: 0.4784\n",
      "Epoch 49/100\n",
      "3s - loss: 5.4600e-05 - acc: 1.0000 - val_loss: 4.6852 - val_acc: 0.4784\n",
      "Epoch 50/100\n",
      "3s - loss: 1.3134e-04 - acc: 1.0000 - val_loss: 4.8379 - val_acc: 0.4946\n",
      "Epoch 51/100\n",
      "3s - loss: 1.1260e-04 - acc: 1.0000 - val_loss: 4.7037 - val_acc: 0.4946\n",
      "Epoch 52/100\n",
      "3s - loss: 4.2579e-05 - acc: 1.0000 - val_loss: 4.7586 - val_acc: 0.4811\n",
      "Epoch 53/100\n",
      "3s - loss: 2.9236e-05 - acc: 1.0000 - val_loss: 4.7696 - val_acc: 0.4811\n",
      "Epoch 54/100\n",
      "3s - loss: 2.5906e-05 - acc: 1.0000 - val_loss: 4.7987 - val_acc: 0.4892\n",
      "Epoch 55/100\n",
      "3s - loss: 1.2031e-05 - acc: 1.0000 - val_loss: 4.8106 - val_acc: 0.4838\n",
      "Epoch 56/100\n",
      "3s - loss: 1.9481e-05 - acc: 1.0000 - val_loss: 4.8436 - val_acc: 0.4838\n",
      "Epoch 57/100\n",
      "3s - loss: 2.4153e-05 - acc: 1.0000 - val_loss: 4.8148 - val_acc: 0.4784\n",
      "Epoch 58/100\n",
      "3s - loss: 4.8304e-05 - acc: 1.0000 - val_loss: 4.9422 - val_acc: 0.4892\n",
      "Epoch 59/100\n",
      "3s - loss: 2.5315e-05 - acc: 1.0000 - val_loss: 4.8487 - val_acc: 0.4838\n",
      "Epoch 60/100\n",
      "3s - loss: 2.3691e-05 - acc: 1.0000 - val_loss: 4.8219 - val_acc: 0.4865\n",
      "Epoch 61/100\n",
      "3s - loss: 1.6206e-05 - acc: 1.0000 - val_loss: 4.8505 - val_acc: 0.4811\n",
      "Epoch 62/100\n",
      "3s - loss: 1.5259e-05 - acc: 1.0000 - val_loss: 4.9290 - val_acc: 0.4865\n",
      "Epoch 63/100\n",
      "3s - loss: 9.2649e-06 - acc: 1.0000 - val_loss: 4.9409 - val_acc: 0.4865\n",
      "Epoch 64/100\n",
      "3s - loss: 9.8593e-06 - acc: 1.0000 - val_loss: 4.9518 - val_acc: 0.4865\n",
      "Epoch 65/100\n",
      "3s - loss: 4.2009e-05 - acc: 1.0000 - val_loss: 4.8936 - val_acc: 0.4676\n",
      "Epoch 66/100\n",
      "3s - loss: 1.0073e-05 - acc: 1.0000 - val_loss: 4.8964 - val_acc: 0.4703\n",
      "Epoch 67/100\n",
      "3s - loss: 1.0039e-05 - acc: 1.0000 - val_loss: 4.9031 - val_acc: 0.4838\n",
      "Epoch 68/100\n"
     ]
    }
   ],
   "source": [
    "model = conv_model()\n",
    "\n",
    "# Fit the model\n",
    "# make sure batch size is perfectly divisible\n",
    "model.fit(X_train, y_train, validation_data=(X_test, y_test), epochs=100, batch_size=10,\n",
    "verbose=2)"
   ]
  },
  {
   "cell_type": "code",
   "execution_count": 143,
   "metadata": {
    "scrolled": true
   },
   "outputs": [
    {
     "name": "stdout",
     "output_type": "stream",
     "text": [
      "Epoch 1/100\n",
      "2s - loss: 6.8308 - acc: 0.5703 - val_loss: 7.9501 - val_acc: 0.5054\n",
      "Epoch 2/100\n",
      "2s - loss: 7.4687 - acc: 0.5342 - val_loss: 7.9351 - val_acc: 0.5054\n",
      "Epoch 3/100\n",
      "2s - loss: 7.4637 - acc: 0.5369 - val_loss: 7.9356 - val_acc: 0.5054\n",
      "Epoch 4/100\n",
      "2s - loss: 7.4637 - acc: 0.5369 - val_loss: 7.9356 - val_acc: 0.5054\n",
      "Epoch 5/100\n",
      "2s - loss: 7.4637 - acc: 0.5369 - val_loss: 7.9356 - val_acc: 0.5054\n",
      "Epoch 6/100\n",
      "2s - loss: 7.4637 - acc: 0.5369 - val_loss: 7.9356 - val_acc: 0.5054\n",
      "Epoch 7/100\n",
      "2s - loss: 7.4637 - acc: 0.5369 - val_loss: 7.9356 - val_acc: 0.5054\n",
      "Epoch 8/100\n",
      "2s - loss: 7.4637 - acc: 0.5369 - val_loss: 7.9356 - val_acc: 0.5054\n",
      "Epoch 9/100\n",
      "2s - loss: 7.4637 - acc: 0.5369 - val_loss: 7.9356 - val_acc: 0.5054\n",
      "Epoch 10/100\n",
      "2s - loss: 7.4637 - acc: 0.5369 - val_loss: 7.9356 - val_acc: 0.5054\n",
      "Epoch 11/100\n",
      "2s - loss: 7.4637 - acc: 0.5369 - val_loss: 7.9356 - val_acc: 0.5054\n",
      "Epoch 12/100\n",
      "2s - loss: 7.4637 - acc: 0.5369 - val_loss: 7.9356 - val_acc: 0.5054\n",
      "Epoch 13/100\n",
      "2s - loss: 7.4637 - acc: 0.5369 - val_loss: 7.9356 - val_acc: 0.5054\n",
      "Epoch 14/100\n",
      "2s - loss: 7.4637 - acc: 0.5369 - val_loss: 7.9356 - val_acc: 0.5054\n",
      "Epoch 15/100\n",
      "2s - loss: 7.4637 - acc: 0.5369 - val_loss: 7.9356 - val_acc: 0.5054\n",
      "Epoch 16/100\n",
      "2s - loss: 7.4637 - acc: 0.5369 - val_loss: 7.9356 - val_acc: 0.5054\n",
      "Epoch 17/100\n",
      "2s - loss: 7.4637 - acc: 0.5369 - val_loss: 7.9356 - val_acc: 0.5054\n",
      "Epoch 18/100\n",
      "2s - loss: 7.4637 - acc: 0.5369 - val_loss: 7.9356 - val_acc: 0.5054\n",
      "Epoch 19/100\n",
      "2s - loss: 7.4637 - acc: 0.5369 - val_loss: 7.9356 - val_acc: 0.5054\n",
      "Epoch 20/100\n",
      "2s - loss: 7.4637 - acc: 0.5369 - val_loss: 7.9356 - val_acc: 0.5054\n",
      "Epoch 21/100\n",
      "2s - loss: 7.4637 - acc: 0.5369 - val_loss: 7.9356 - val_acc: 0.5054\n",
      "Epoch 22/100\n",
      "2s - loss: 7.4637 - acc: 0.5369 - val_loss: 7.9356 - val_acc: 0.5054\n",
      "Epoch 23/100\n",
      "2s - loss: 7.4637 - acc: 0.5369 - val_loss: 7.9356 - val_acc: 0.5054\n",
      "Epoch 24/100\n",
      "2s - loss: 7.4637 - acc: 0.5369 - val_loss: 7.9356 - val_acc: 0.5054\n",
      "Epoch 25/100\n",
      "2s - loss: 7.4637 - acc: 0.5369 - val_loss: 7.9356 - val_acc: 0.5054\n",
      "Epoch 26/100\n",
      "2s - loss: 7.4637 - acc: 0.5369 - val_loss: 7.9356 - val_acc: 0.5054\n",
      "Epoch 27/100\n",
      "2s - loss: 7.4637 - acc: 0.5369 - val_loss: 7.9356 - val_acc: 0.5054\n",
      "Epoch 28/100\n",
      "2s - loss: 7.4637 - acc: 0.5369 - val_loss: 7.9356 - val_acc: 0.5054\n",
      "Epoch 29/100\n",
      "2s - loss: 7.4637 - acc: 0.5369 - val_loss: 7.9356 - val_acc: 0.5054\n",
      "Epoch 30/100\n",
      "2s - loss: 7.4637 - acc: 0.5369 - val_loss: 7.9356 - val_acc: 0.5054\n",
      "Epoch 31/100\n",
      "2s - loss: 7.4637 - acc: 0.5369 - val_loss: 7.9356 - val_acc: 0.5054\n",
      "Epoch 32/100\n",
      "2s - loss: 7.4637 - acc: 0.5369 - val_loss: 7.9356 - val_acc: 0.5054\n",
      "Epoch 33/100\n",
      "2s - loss: 7.4637 - acc: 0.5369 - val_loss: 7.9356 - val_acc: 0.5054\n",
      "Epoch 34/100\n",
      "2s - loss: 7.4637 - acc: 0.5369 - val_loss: 7.9356 - val_acc: 0.5054\n",
      "Epoch 35/100\n",
      "2s - loss: 7.4637 - acc: 0.5369 - val_loss: 7.9356 - val_acc: 0.5054\n",
      "Epoch 36/100\n",
      "2s - loss: 7.4637 - acc: 0.5369 - val_loss: 7.9356 - val_acc: 0.5054\n",
      "Epoch 37/100\n",
      "2s - loss: 7.4637 - acc: 0.5369 - val_loss: 7.9356 - val_acc: 0.5054\n",
      "Epoch 38/100\n",
      "2s - loss: 7.4637 - acc: 0.5369 - val_loss: 7.9356 - val_acc: 0.5054\n",
      "Epoch 39/100\n",
      "2s - loss: 7.4637 - acc: 0.5369 - val_loss: 7.9356 - val_acc: 0.5054\n",
      "Epoch 40/100\n",
      "2s - loss: 7.4637 - acc: 0.5369 - val_loss: 7.9356 - val_acc: 0.5054\n",
      "Epoch 41/100\n",
      "2s - loss: 7.4637 - acc: 0.5369 - val_loss: 7.9356 - val_acc: 0.5054\n",
      "Epoch 42/100\n",
      "2s - loss: 7.4637 - acc: 0.5369 - val_loss: 7.9356 - val_acc: 0.5054\n",
      "Epoch 43/100\n",
      "2s - loss: 7.4637 - acc: 0.5369 - val_loss: 7.9356 - val_acc: 0.5054\n",
      "Epoch 44/100\n",
      "2s - loss: 7.4637 - acc: 0.5369 - val_loss: 7.9356 - val_acc: 0.5054\n",
      "Epoch 45/100\n",
      "2s - loss: 7.4637 - acc: 0.5369 - val_loss: 7.9356 - val_acc: 0.5054\n",
      "Epoch 46/100\n",
      "2s - loss: 7.4637 - acc: 0.5369 - val_loss: 7.9356 - val_acc: 0.5054\n",
      "Epoch 47/100\n",
      "2s - loss: 7.4637 - acc: 0.5369 - val_loss: 7.9356 - val_acc: 0.5054\n",
      "Epoch 48/100\n",
      "2s - loss: 7.4637 - acc: 0.5369 - val_loss: 7.9356 - val_acc: 0.5054\n",
      "Epoch 49/100\n",
      "2s - loss: 7.4637 - acc: 0.5369 - val_loss: 7.9356 - val_acc: 0.5054\n",
      "Epoch 50/100\n",
      "2s - loss: 7.4637 - acc: 0.5369 - val_loss: 7.9356 - val_acc: 0.5054\n",
      "Epoch 51/100\n",
      "2s - loss: 7.4637 - acc: 0.5369 - val_loss: 7.9356 - val_acc: 0.5054\n",
      "Epoch 52/100\n",
      "2s - loss: 7.4637 - acc: 0.5369 - val_loss: 7.9356 - val_acc: 0.5054\n",
      "Epoch 53/100\n",
      "2s - loss: 7.4637 - acc: 0.5369 - val_loss: 7.9356 - val_acc: 0.5054\n",
      "Epoch 54/100\n",
      "2s - loss: 7.4637 - acc: 0.5369 - val_loss: 7.9356 - val_acc: 0.5054\n",
      "Epoch 55/100\n",
      "2s - loss: 7.4637 - acc: 0.5369 - val_loss: 7.9356 - val_acc: 0.5054\n",
      "Epoch 56/100\n",
      "2s - loss: 7.4637 - acc: 0.5369 - val_loss: 7.9356 - val_acc: 0.5054\n",
      "Epoch 57/100\n",
      "2s - loss: 7.4637 - acc: 0.5369 - val_loss: 7.9356 - val_acc: 0.5054\n",
      "Epoch 58/100\n",
      "2s - loss: 7.4637 - acc: 0.5369 - val_loss: 7.9356 - val_acc: 0.5054\n",
      "Epoch 59/100\n",
      "2s - loss: 7.4637 - acc: 0.5369 - val_loss: 7.9356 - val_acc: 0.5054\n",
      "Epoch 60/100\n",
      "2s - loss: 7.4637 - acc: 0.5369 - val_loss: 7.9356 - val_acc: 0.5054\n",
      "Epoch 61/100\n",
      "2s - loss: 7.4637 - acc: 0.5369 - val_loss: 7.9356 - val_acc: 0.5054\n",
      "Epoch 62/100\n",
      "2s - loss: 7.4637 - acc: 0.5369 - val_loss: 7.9356 - val_acc: 0.5054\n",
      "Epoch 63/100\n",
      "2s - loss: 7.4637 - acc: 0.5369 - val_loss: 7.9356 - val_acc: 0.5054\n",
      "Epoch 64/100\n",
      "2s - loss: 7.4637 - acc: 0.5369 - val_loss: 7.9356 - val_acc: 0.5054\n",
      "Epoch 65/100\n",
      "2s - loss: 7.4637 - acc: 0.5369 - val_loss: 7.9356 - val_acc: 0.5054\n",
      "Epoch 66/100\n",
      "2s - loss: 7.4637 - acc: 0.5369 - val_loss: 7.9356 - val_acc: 0.5054\n",
      "Epoch 67/100\n",
      "2s - loss: 7.4637 - acc: 0.5369 - val_loss: 7.9356 - val_acc: 0.5054\n",
      "Epoch 68/100\n",
      "2s - loss: 7.4637 - acc: 0.5369 - val_loss: 7.9356 - val_acc: 0.5054\n",
      "Epoch 69/100\n",
      "2s - loss: 7.4637 - acc: 0.5369 - val_loss: 7.9356 - val_acc: 0.5054\n",
      "Epoch 70/100\n",
      "2s - loss: 7.4637 - acc: 0.5369 - val_loss: 7.9356 - val_acc: 0.5054\n",
      "Epoch 71/100\n",
      "2s - loss: 7.4637 - acc: 0.5369 - val_loss: 7.9356 - val_acc: 0.5054\n",
      "Epoch 72/100\n",
      "2s - loss: 7.4637 - acc: 0.5369 - val_loss: 7.9356 - val_acc: 0.5054\n",
      "Epoch 73/100\n",
      "2s - loss: 7.4637 - acc: 0.5369 - val_loss: 7.9356 - val_acc: 0.5054\n",
      "Epoch 74/100\n",
      "2s - loss: 7.4637 - acc: 0.5369 - val_loss: 7.9356 - val_acc: 0.5054\n",
      "Epoch 75/100\n",
      "2s - loss: 7.4637 - acc: 0.5369 - val_loss: 7.9356 - val_acc: 0.5054\n",
      "Epoch 76/100\n",
      "2s - loss: 7.4637 - acc: 0.5369 - val_loss: 7.9356 - val_acc: 0.5054\n",
      "Epoch 77/100\n",
      "2s - loss: 7.4637 - acc: 0.5369 - val_loss: 7.9356 - val_acc: 0.5054\n",
      "Epoch 78/100\n",
      "2s - loss: 7.4637 - acc: 0.5369 - val_loss: 7.9356 - val_acc: 0.5054\n",
      "Epoch 79/100\n",
      "2s - loss: 7.4637 - acc: 0.5369 - val_loss: 7.9356 - val_acc: 0.5054\n",
      "Epoch 80/100\n",
      "2s - loss: 7.4637 - acc: 0.5369 - val_loss: 7.9356 - val_acc: 0.5054\n",
      "Epoch 81/100\n",
      "2s - loss: 7.4637 - acc: 0.5369 - val_loss: 7.9356 - val_acc: 0.5054\n",
      "Epoch 82/100\n",
      "2s - loss: 7.4637 - acc: 0.5369 - val_loss: 7.9356 - val_acc: 0.5054\n",
      "Epoch 83/100\n",
      "2s - loss: 7.4637 - acc: 0.5369 - val_loss: 7.9356 - val_acc: 0.5054\n",
      "Epoch 84/100\n",
      "2s - loss: 7.4637 - acc: 0.5369 - val_loss: 7.9356 - val_acc: 0.5054\n",
      "Epoch 85/100\n",
      "2s - loss: 7.4637 - acc: 0.5369 - val_loss: 7.9356 - val_acc: 0.5054\n",
      "Epoch 86/100\n",
      "2s - loss: 7.4637 - acc: 0.5369 - val_loss: 7.9356 - val_acc: 0.5054\n",
      "Epoch 87/100\n",
      "2s - loss: 7.4637 - acc: 0.5369 - val_loss: 7.9356 - val_acc: 0.5054\n",
      "Epoch 88/100\n",
      "2s - loss: 7.4637 - acc: 0.5369 - val_loss: 7.9356 - val_acc: 0.5054\n",
      "Epoch 89/100\n",
      "2s - loss: 7.4637 - acc: 0.5369 - val_loss: 7.9356 - val_acc: 0.5054\n",
      "Epoch 90/100\n",
      "2s - loss: 7.4637 - acc: 0.5369 - val_loss: 7.9356 - val_acc: 0.5054\n",
      "Epoch 91/100\n",
      "2s - loss: 7.4637 - acc: 0.5369 - val_loss: 7.9356 - val_acc: 0.5054\n",
      "Epoch 92/100\n",
      "2s - loss: 7.4637 - acc: 0.5369 - val_loss: 7.9356 - val_acc: 0.5054\n",
      "Epoch 93/100\n",
      "2s - loss: 7.4637 - acc: 0.5369 - val_loss: 7.9356 - val_acc: 0.5054\n",
      "Epoch 94/100\n",
      "2s - loss: 7.4637 - acc: 0.5369 - val_loss: 7.9356 - val_acc: 0.5054\n",
      "Epoch 95/100\n",
      "2s - loss: 7.4637 - acc: 0.5369 - val_loss: 7.9356 - val_acc: 0.5054\n",
      "Epoch 96/100\n",
      "2s - loss: 7.4637 - acc: 0.5369 - val_loss: 7.9356 - val_acc: 0.5054\n",
      "Epoch 97/100\n",
      "2s - loss: 7.4637 - acc: 0.5369 - val_loss: 7.9356 - val_acc: 0.5054\n",
      "Epoch 98/100\n",
      "2s - loss: 7.4637 - acc: 0.5369 - val_loss: 7.9356 - val_acc: 0.5054\n",
      "Epoch 99/100\n",
      "2s - loss: 7.4637 - acc: 0.5369 - val_loss: 7.9356 - val_acc: 0.5054\n",
      "Epoch 100/100\n",
      "2s - loss: 7.4637 - acc: 0.5369 - val_loss: 7.9356 - val_acc: 0.5054\n"
     ]
    },
    {
     "data": {
      "text/plain": [
       "<keras.callbacks.History at 0x7f6706b4c7f0>"
      ]
     },
     "execution_count": 143,
     "metadata": {},
     "output_type": "execute_result"
    }
   ],
   "source": [
    "# fits the model on batches with real-time data augmentation:\n",
    "model.fit_generator(datagen.flow(X_train, y_train, batch_size=10),\n",
    "                    validation_data=(X_test, y_test),\n",
    "                    steps_per_epoch=len(X_train) / 10, epochs=100, verbose=2)"
   ]
  },
  {
   "cell_type": "code",
   "execution_count": null,
   "metadata": {
    "collapsed": true
   },
   "outputs": [],
   "source": []
  }
 ],
 "metadata": {
  "kernelspec": {
   "display_name": "Python 3",
   "language": "python",
   "name": "python3"
  },
  "language_info": {
   "codemirror_mode": {
    "name": "ipython",
    "version": 3
   },
   "file_extension": ".py",
   "mimetype": "text/x-python",
   "name": "python",
   "nbconvert_exporter": "python",
   "pygments_lexer": "ipython3",
   "version": "3.6.3"
  }
 },
 "nbformat": 4,
 "nbformat_minor": 2
}
